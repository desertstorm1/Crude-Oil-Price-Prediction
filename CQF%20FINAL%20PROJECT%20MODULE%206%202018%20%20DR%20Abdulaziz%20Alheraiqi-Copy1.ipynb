{
 "cells": [
  {
   "cell_type": "markdown",
   "metadata": {},
   "source": [
    "# CQF FINAL PROJECT MODULE 6 2018 \n",
    "                 DR Abdulaziz Alheraiqi"
   ]
  },
  {
   "cell_type": "markdown",
   "metadata": {},
   "source": [
    "given the time-contraint I m going to focus as a first step to build a predicting mode given just data of past crude oil price , gold,SP500,down jones index and USD index . For this we retrive The data  from QUNADL. We could have consider other data sets like the Opec basket or Brent but we are considering WTI leading the direction Of crude oil prices.\n",
    "combining the threee data sets(Gold,DJ index,USD Index ) to predict WTI crude oils prices "
   ]
  },
  {
   "cell_type": "code",
   "execution_count": 1,
   "metadata": {},
   "outputs": [],
   "source": [
    "import numpy as np\n",
    "import pandas as pd\n",
    "import matplotlib.pyplot as plt\n",
    "%matplotlib inline"
   ]
  },
  {
   "cell_type": "markdown",
   "metadata": {},
   "source": [
    "#               ## importing Data"
   ]
  },
  {
   "cell_type": "code",
   "execution_count": 2,
   "metadata": {},
   "outputs": [],
   "source": [
    "wti= pd.read_csv(\"wti.csv\", parse_dates=['Date'])"
   ]
  },
  {
   "cell_type": "code",
   "execution_count": 3,
   "metadata": {},
   "outputs": [],
   "source": [
    "gold=pd.read_csv(\"gold.csv\", parse_dates=['Date'])"
   ]
  },
  {
   "cell_type": "code",
   "execution_count": 4,
   "metadata": {},
   "outputs": [],
   "source": [
    "usdolex=pd.read_csv(\"FRED-USDollarIndex.csv\", parse_dates=['Date'])"
   ]
  },
  {
   "cell_type": "code",
   "execution_count": 5,
   "metadata": {},
   "outputs": [],
   "source": [
    "snp500=pd.read_csv(\"snp500.csv\", parse_dates=['Date'])"
   ]
  },
  {
   "cell_type": "code",
   "execution_count": 6,
   "metadata": {},
   "outputs": [],
   "source": [
    "dji=pd.read_csv(\"dji.csv\", parse_dates=['Date'])"
   ]
  },
  {
   "cell_type": "markdown",
   "metadata": {},
   "source": [
    "#checking the structure of the dataset"
   ]
  },
  {
   "cell_type": "code",
   "execution_count": 7,
   "metadata": {},
   "outputs": [
    {
     "data": {
      "text/html": [
       "<div>\n",
       "<style scoped>\n",
       "    .dataframe tbody tr th:only-of-type {\n",
       "        vertical-align: middle;\n",
       "    }\n",
       "\n",
       "    .dataframe tbody tr th {\n",
       "        vertical-align: top;\n",
       "    }\n",
       "\n",
       "    .dataframe thead th {\n",
       "        text-align: right;\n",
       "    }\n",
       "</style>\n",
       "<table border=\"1\" class=\"dataframe\">\n",
       "  <thead>\n",
       "    <tr style=\"text-align: right;\">\n",
       "      <th></th>\n",
       "      <th>Date</th>\n",
       "      <th>Value</th>\n",
       "    </tr>\n",
       "  </thead>\n",
       "  <tbody>\n",
       "    <tr>\n",
       "      <th>0</th>\n",
       "      <td>2018-12-17</td>\n",
       "      <td>49.80</td>\n",
       "    </tr>\n",
       "    <tr>\n",
       "      <th>1</th>\n",
       "      <td>2018-12-14</td>\n",
       "      <td>51.26</td>\n",
       "    </tr>\n",
       "    <tr>\n",
       "      <th>2</th>\n",
       "      <td>2018-12-13</td>\n",
       "      <td>52.69</td>\n",
       "    </tr>\n",
       "    <tr>\n",
       "      <th>3</th>\n",
       "      <td>2018-12-12</td>\n",
       "      <td>51.04</td>\n",
       "    </tr>\n",
       "    <tr>\n",
       "      <th>4</th>\n",
       "      <td>2018-11-12</td>\n",
       "      <td>51.65</td>\n",
       "    </tr>\n",
       "  </tbody>\n",
       "</table>\n",
       "</div>"
      ],
      "text/plain": [
       "        Date  Value\n",
       "0 2018-12-17  49.80\n",
       "1 2018-12-14  51.26\n",
       "2 2018-12-13  52.69\n",
       "3 2018-12-12  51.04\n",
       "4 2018-11-12  51.65"
      ]
     },
     "execution_count": 7,
     "metadata": {},
     "output_type": "execute_result"
    }
   ],
   "source": [
    "wti.head(5)"
   ]
  },
  {
   "cell_type": "code",
   "execution_count": 8,
   "metadata": {},
   "outputs": [
    {
     "data": {
      "text/html": [
       "<div>\n",
       "<style scoped>\n",
       "    .dataframe tbody tr th:only-of-type {\n",
       "        vertical-align: middle;\n",
       "    }\n",
       "\n",
       "    .dataframe tbody tr th {\n",
       "        vertical-align: top;\n",
       "    }\n",
       "\n",
       "    .dataframe thead th {\n",
       "        text-align: right;\n",
       "    }\n",
       "</style>\n",
       "<table border=\"1\" class=\"dataframe\">\n",
       "  <thead>\n",
       "    <tr style=\"text-align: right;\">\n",
       "      <th></th>\n",
       "      <th>Date</th>\n",
       "      <th>Value</th>\n",
       "    </tr>\n",
       "  </thead>\n",
       "  <tbody>\n",
       "    <tr>\n",
       "      <th>0</th>\n",
       "      <td>2018-12-17</td>\n",
       "      <td>1241.65</td>\n",
       "    </tr>\n",
       "    <tr>\n",
       "      <th>1</th>\n",
       "      <td>2018-12-14</td>\n",
       "      <td>1235.35</td>\n",
       "    </tr>\n",
       "    <tr>\n",
       "      <th>2</th>\n",
       "      <td>2018-12-13</td>\n",
       "      <td>1242.75</td>\n",
       "    </tr>\n",
       "    <tr>\n",
       "      <th>3</th>\n",
       "      <td>2018-12-12</td>\n",
       "      <td>1245.75</td>\n",
       "    </tr>\n",
       "    <tr>\n",
       "      <th>4</th>\n",
       "      <td>2018-11-12</td>\n",
       "      <td>1245.30</td>\n",
       "    </tr>\n",
       "  </tbody>\n",
       "</table>\n",
       "</div>"
      ],
      "text/plain": [
       "        Date    Value\n",
       "0 2018-12-17  1241.65\n",
       "1 2018-12-14  1235.35\n",
       "2 2018-12-13  1242.75\n",
       "3 2018-12-12  1245.75\n",
       "4 2018-11-12  1245.30"
      ]
     },
     "execution_count": 8,
     "metadata": {},
     "output_type": "execute_result"
    }
   ],
   "source": [
    "gold.head(5)"
   ]
  },
  {
   "cell_type": "code",
   "execution_count": 9,
   "metadata": {},
   "outputs": [
    {
     "data": {
      "text/html": [
       "<div>\n",
       "<style scoped>\n",
       "    .dataframe tbody tr th:only-of-type {\n",
       "        vertical-align: middle;\n",
       "    }\n",
       "\n",
       "    .dataframe tbody tr th {\n",
       "        vertical-align: top;\n",
       "    }\n",
       "\n",
       "    .dataframe thead th {\n",
       "        text-align: right;\n",
       "    }\n",
       "</style>\n",
       "<table border=\"1\" class=\"dataframe\">\n",
       "  <thead>\n",
       "    <tr style=\"text-align: right;\">\n",
       "      <th></th>\n",
       "      <th>Date</th>\n",
       "      <th>Value</th>\n",
       "    </tr>\n",
       "  </thead>\n",
       "  <tbody>\n",
       "    <tr>\n",
       "      <th>0</th>\n",
       "      <td>2018-12-28</td>\n",
       "      <td>91.9394</td>\n",
       "    </tr>\n",
       "    <tr>\n",
       "      <th>1</th>\n",
       "      <td>2018-12-27</td>\n",
       "      <td>92.2298</td>\n",
       "    </tr>\n",
       "    <tr>\n",
       "      <th>2</th>\n",
       "      <td>2018-12-26</td>\n",
       "      <td>92.0290</td>\n",
       "    </tr>\n",
       "    <tr>\n",
       "      <th>3</th>\n",
       "      <td>2018-12-24</td>\n",
       "      <td>92.1151</td>\n",
       "    </tr>\n",
       "    <tr>\n",
       "      <th>4</th>\n",
       "      <td>2018-12-21</td>\n",
       "      <td>92.1151</td>\n",
       "    </tr>\n",
       "  </tbody>\n",
       "</table>\n",
       "</div>"
      ],
      "text/plain": [
       "        Date    Value\n",
       "0 2018-12-28  91.9394\n",
       "1 2018-12-27  92.2298\n",
       "2 2018-12-26  92.0290\n",
       "3 2018-12-24  92.1151\n",
       "4 2018-12-21  92.1151"
      ]
     },
     "execution_count": 9,
     "metadata": {},
     "output_type": "execute_result"
    }
   ],
   "source": [
    "usdolex.head(5)"
   ]
  },
  {
   "cell_type": "code",
   "execution_count": 10,
   "metadata": {},
   "outputs": [
    {
     "data": {
      "text/html": [
       "<div>\n",
       "<style scoped>\n",
       "    .dataframe tbody tr th:only-of-type {\n",
       "        vertical-align: middle;\n",
       "    }\n",
       "\n",
       "    .dataframe tbody tr th {\n",
       "        vertical-align: top;\n",
       "    }\n",
       "\n",
       "    .dataframe thead th {\n",
       "        text-align: right;\n",
       "    }\n",
       "</style>\n",
       "<table border=\"1\" class=\"dataframe\">\n",
       "  <thead>\n",
       "    <tr style=\"text-align: right;\">\n",
       "      <th></th>\n",
       "      <th>Date</th>\n",
       "      <th>snpClose</th>\n",
       "    </tr>\n",
       "  </thead>\n",
       "  <tbody>\n",
       "    <tr>\n",
       "      <th>0</th>\n",
       "      <td>1986-02-01</td>\n",
       "      <td>209.589996</td>\n",
       "    </tr>\n",
       "    <tr>\n",
       "      <th>1</th>\n",
       "      <td>1986-03-01</td>\n",
       "      <td>210.880005</td>\n",
       "    </tr>\n",
       "    <tr>\n",
       "      <th>2</th>\n",
       "      <td>1986-06-01</td>\n",
       "      <td>210.649994</td>\n",
       "    </tr>\n",
       "    <tr>\n",
       "      <th>3</th>\n",
       "      <td>1986-07-01</td>\n",
       "      <td>213.800003</td>\n",
       "    </tr>\n",
       "    <tr>\n",
       "      <th>4</th>\n",
       "      <td>1986-08-01</td>\n",
       "      <td>207.970001</td>\n",
       "    </tr>\n",
       "  </tbody>\n",
       "</table>\n",
       "</div>"
      ],
      "text/plain": [
       "        Date    snpClose\n",
       "0 1986-02-01  209.589996\n",
       "1 1986-03-01  210.880005\n",
       "2 1986-06-01  210.649994\n",
       "3 1986-07-01  213.800003\n",
       "4 1986-08-01  207.970001"
      ]
     },
     "execution_count": 10,
     "metadata": {},
     "output_type": "execute_result"
    }
   ],
   "source": [
    "snp500.head(5)"
   ]
  },
  {
   "cell_type": "code",
   "execution_count": 11,
   "metadata": {},
   "outputs": [
    {
     "data": {
      "text/html": [
       "<div>\n",
       "<style scoped>\n",
       "    .dataframe tbody tr th:only-of-type {\n",
       "        vertical-align: middle;\n",
       "    }\n",
       "\n",
       "    .dataframe tbody tr th {\n",
       "        vertical-align: top;\n",
       "    }\n",
       "\n",
       "    .dataframe thead th {\n",
       "        text-align: right;\n",
       "    }\n",
       "</style>\n",
       "<table border=\"1\" class=\"dataframe\">\n",
       "  <thead>\n",
       "    <tr style=\"text-align: right;\">\n",
       "      <th></th>\n",
       "      <th>Date</th>\n",
       "      <th>djiClose</th>\n",
       "    </tr>\n",
       "  </thead>\n",
       "  <tbody>\n",
       "    <tr>\n",
       "      <th>0</th>\n",
       "      <td>1985-01-29</td>\n",
       "      <td>1292.619995</td>\n",
       "    </tr>\n",
       "    <tr>\n",
       "      <th>1</th>\n",
       "      <td>1985-01-30</td>\n",
       "      <td>1287.880005</td>\n",
       "    </tr>\n",
       "    <tr>\n",
       "      <th>2</th>\n",
       "      <td>1985-01-31</td>\n",
       "      <td>1286.770020</td>\n",
       "    </tr>\n",
       "    <tr>\n",
       "      <th>3</th>\n",
       "      <td>1985-01-02</td>\n",
       "      <td>1277.719971</td>\n",
       "    </tr>\n",
       "    <tr>\n",
       "      <th>4</th>\n",
       "      <td>1985-04-02</td>\n",
       "      <td>1290.079956</td>\n",
       "    </tr>\n",
       "  </tbody>\n",
       "</table>\n",
       "</div>"
      ],
      "text/plain": [
       "        Date     djiClose\n",
       "0 1985-01-29  1292.619995\n",
       "1 1985-01-30  1287.880005\n",
       "2 1985-01-31  1286.770020\n",
       "3 1985-01-02  1277.719971\n",
       "4 1985-04-02  1290.079956"
      ]
     },
     "execution_count": 11,
     "metadata": {},
     "output_type": "execute_result"
    }
   ],
   "source": [
    "dji.head(5)"
   ]
  },
  {
   "cell_type": "markdown",
   "metadata": {},
   "source": [
    "#Number of rows and columns"
   ]
  },
  {
   "cell_type": "code",
   "execution_count": 12,
   "metadata": {},
   "outputs": [
    {
     "data": {
      "text/plain": [
       "(8324, 2)"
      ]
     },
     "execution_count": 12,
     "metadata": {},
     "output_type": "execute_result"
    }
   ],
   "source": [
    "wti.shape"
   ]
  },
  {
   "cell_type": "code",
   "execution_count": 13,
   "metadata": {},
   "outputs": [
    {
     "data": {
      "text/plain": [
       "Index(['Date', 'Value'], dtype='object')"
      ]
     },
     "execution_count": 13,
     "metadata": {},
     "output_type": "execute_result"
    }
   ],
   "source": [
    "gold.columns"
   ]
  },
  {
   "cell_type": "code",
   "execution_count": 14,
   "metadata": {},
   "outputs": [
    {
     "data": {
      "text/plain": [
       "Index(['Date', 'snpClose'], dtype='object')"
      ]
     },
     "execution_count": 14,
     "metadata": {},
     "output_type": "execute_result"
    }
   ],
   "source": [
    "snp500.columns"
   ]
  },
  {
   "cell_type": "code",
   "execution_count": 15,
   "metadata": {},
   "outputs": [
    {
     "data": {
      "text/plain": [
       "Index(['Date', 'djiClose'], dtype='object')"
      ]
     },
     "execution_count": 15,
     "metadata": {},
     "output_type": "execute_result"
    }
   ],
   "source": [
    "dji.columns"
   ]
  },
  {
   "cell_type": "markdown",
   "metadata": {},
   "source": [
    "#name of columns"
   ]
  },
  {
   "cell_type": "code",
   "execution_count": 16,
   "metadata": {},
   "outputs": [
    {
     "data": {
      "text/plain": [
       "Index(['Date', 'djiClose'], dtype='object')"
      ]
     },
     "execution_count": 16,
     "metadata": {},
     "output_type": "execute_result"
    }
   ],
   "source": [
    "wti.columns\n",
    "gold.columns\n",
    "usdolex.columns\n",
    "snp500.columns\n",
    "dji.columns"
   ]
  },
  {
   "cell_type": "markdown",
   "metadata": {},
   "source": [
    "#Check the Datatypes"
   ]
  },
  {
   "cell_type": "code",
   "execution_count": 17,
   "metadata": {},
   "outputs": [
    {
     "data": {
      "text/plain": [
       "Date        datetime64[ns]\n",
       "djiClose           float64\n",
       "dtype: object"
      ]
     },
     "execution_count": 17,
     "metadata": {},
     "output_type": "execute_result"
    }
   ],
   "source": [
    "wti.dtypes\n",
    "gold.dtypes\n",
    "usdolex.dtypes\n",
    "snp500.dtypes\n",
    "dji.dtypes"
   ]
  },
  {
   "cell_type": "markdown",
   "metadata": {},
   "source": [
    "# Visualization"
   ]
  },
  {
   "cell_type": "code",
   "execution_count": 18,
   "metadata": {},
   "outputs": [
    {
     "data": {
      "image/png": "[encoded data removed]",
      "text/plain": [
       "<Figure size 432x288 with 1 Axes>"
      ]
     },
     "metadata": {
      "needs_background": "light"
     },
     "output_type": "display_data"
    }
   ],
   "source": [
    "wti.hist()\n",
    "plt.show()"
   ]
  },
  {
   "cell_type": "code",
   "execution_count": 19,
   "metadata": {},
   "outputs": [
    {
     "data": {
      "image/png": "[encoded data removed]",
      "text/plain": [
       "<Figure size 432x288 with 1 Axes>"
      ]
     },
     "metadata": {
      "needs_background": "light"
     },
     "output_type": "display_data"
    }
   ],
   "source": [
    "gold.hist()\n",
    "plt.show()"
   ]
  },
  {
   "cell_type": "code",
   "execution_count": 20,
   "metadata": {},
   "outputs": [
    {
     "data": {
      "image/png": "[encoded data removed]",
      "text/plain": [
       "<Figure size 432x288 with 1 Axes>"
      ]
     },
     "metadata": {
      "needs_background": "light"
     },
     "output_type": "display_data"
    }
   ],
   "source": [
    "snp500.hist()\n",
    "plt.show()"
   ]
  },
  {
   "cell_type": "code",
   "execution_count": 21,
   "metadata": {},
   "outputs": [
    {
     "data": {
      "image/png": "[encoded data removed]",
      "text/plain": [
       "<Figure size 432x288 with 1 Axes>"
      ]
     },
     "metadata": {
      "needs_background": "light"
     },
     "output_type": "display_data"
    }
   ],
   "source": [
    "dji.hist()\n",
    "plt.show()"
   ]
  },
  {
   "cell_type": "markdown",
   "metadata": {},
   "source": [
    "# #Check for Missing Values"
   ]
  },
  {
   "cell_type": "code",
   "execution_count": 22,
   "metadata": {},
   "outputs": [
    {
     "data": {
      "text/plain": [
       "Date     False\n",
       "Value    False\n",
       "dtype: bool"
      ]
     },
     "execution_count": 22,
     "metadata": {},
     "output_type": "execute_result"
    }
   ],
   "source": [
    "wti.isnull().any()"
   ]
  },
  {
   "cell_type": "code",
   "execution_count": 23,
   "metadata": {},
   "outputs": [
    {
     "data": {
      "text/plain": [
       "Date     False\n",
       "Value    False\n",
       "dtype: bool"
      ]
     },
     "execution_count": 23,
     "metadata": {},
     "output_type": "execute_result"
    }
   ],
   "source": [
    "gold.isnull().any()"
   ]
  },
  {
   "cell_type": "code",
   "execution_count": 24,
   "metadata": {},
   "outputs": [
    {
     "data": {
      "text/plain": [
       "Date     False\n",
       "Value    False\n",
       "dtype: bool"
      ]
     },
     "execution_count": 24,
     "metadata": {},
     "output_type": "execute_result"
    }
   ],
   "source": [
    "usdolex.isnull().any()"
   ]
  },
  {
   "cell_type": "code",
   "execution_count": 25,
   "metadata": {},
   "outputs": [
    {
     "data": {
      "text/plain": [
       "Date        False\n",
       "snpClose    False\n",
       "dtype: bool"
      ]
     },
     "execution_count": 25,
     "metadata": {},
     "output_type": "execute_result"
    }
   ],
   "source": [
    "snp500.isnull().any()"
   ]
  },
  {
   "cell_type": "code",
   "execution_count": 26,
   "metadata": {},
   "outputs": [
    {
     "data": {
      "text/plain": [
       "Date        False\n",
       "djiClose    False\n",
       "dtype: bool"
      ]
     },
     "execution_count": 26,
     "metadata": {},
     "output_type": "execute_result"
    }
   ],
   "source": [
    "dji.isnull().any()"
   ]
  },
  {
   "cell_type": "markdown",
   "metadata": {},
   "source": [
    "# No missing values Good Data"
   ]
  },
  {
   "cell_type": "markdown",
   "metadata": {},
   "source": [
    "#Now try to merge and see if the data is okay"
   ]
  },
  {
   "cell_type": "code",
   "execution_count": 27,
   "metadata": {},
   "outputs": [],
   "source": [
    "wti.set_index('Date', inplace=True)"
   ]
  },
  {
   "cell_type": "code",
   "execution_count": 28,
   "metadata": {},
   "outputs": [],
   "source": [
    "gold.set_index('Date', inplace=True)"
   ]
  },
  {
   "cell_type": "code",
   "execution_count": 29,
   "metadata": {},
   "outputs": [],
   "source": [
    "usdolex.set_index('Date', inplace=True)"
   ]
  },
  {
   "cell_type": "code",
   "execution_count": 30,
   "metadata": {},
   "outputs": [],
   "source": [
    "snp500.set_index('Date', inplace=True)"
   ]
  },
  {
   "cell_type": "code",
   "execution_count": 31,
   "metadata": {},
   "outputs": [],
   "source": [
    "dji.set_index('Date', inplace=True)"
   ]
  },
  {
   "cell_type": "markdown",
   "metadata": {},
   "source": [
    "# Merge the Datasets"
   ]
  },
  {
   "cell_type": "code",
   "execution_count": 32,
   "metadata": {},
   "outputs": [],
   "source": [
    "#first merge wti and gold then i add USD to the merged and I\n",
    "#add SNP500 to the merged and finaly i add dji.\n",
    "#using inner joint."
   ]
  },
  {
   "cell_type": "code",
   "execution_count": 33,
   "metadata": {},
   "outputs": [],
   "source": [
    "merged=pd.merge(wti, gold, how='inner', on='Date')"
   ]
  },
  {
   "cell_type": "code",
   "execution_count": 34,
   "metadata": {},
   "outputs": [],
   "source": [
    "merged=pd.merge(merged, usdolex, how='inner', on='Date')"
   ]
  },
  {
   "cell_type": "code",
   "execution_count": 35,
   "metadata": {},
   "outputs": [],
   "source": [
    "merged=pd.merge(merged, snp500, how='inner', on='Date')"
   ]
  },
  {
   "cell_type": "code",
   "execution_count": 36,
   "metadata": {},
   "outputs": [],
   "source": [
    "merged=pd.merge(merged, dji, how='inner', on='Date')"
   ]
  },
  {
   "cell_type": "code",
   "execution_count": 37,
   "metadata": {},
   "outputs": [
    {
     "data": {
      "text/html": [
       "<div>\n",
       "<style scoped>\n",
       "    .dataframe tbody tr th:only-of-type {\n",
       "        vertical-align: middle;\n",
       "    }\n",
       "\n",
       "    .dataframe tbody tr th {\n",
       "        vertical-align: top;\n",
       "    }\n",
       "\n",
       "    .dataframe thead th {\n",
       "        text-align: right;\n",
       "    }\n",
       "</style>\n",
       "<table border=\"1\" class=\"dataframe\">\n",
       "  <thead>\n",
       "    <tr style=\"text-align: right;\">\n",
       "      <th></th>\n",
       "      <th>Value_x</th>\n",
       "      <th>Value_y</th>\n",
       "      <th>Value</th>\n",
       "      <th>snpClose</th>\n",
       "      <th>djiClose</th>\n",
       "    </tr>\n",
       "    <tr>\n",
       "      <th>Date</th>\n",
       "      <th></th>\n",
       "      <th></th>\n",
       "      <th></th>\n",
       "      <th></th>\n",
       "      <th></th>\n",
       "    </tr>\n",
       "  </thead>\n",
       "  <tbody>\n",
       "    <tr>\n",
       "      <th>2018-12-17</th>\n",
       "      <td>49.80</td>\n",
       "      <td>1241.65</td>\n",
       "      <td>92.2268</td>\n",
       "      <td>2545.939941</td>\n",
       "      <td>23592.98047</td>\n",
       "    </tr>\n",
       "    <tr>\n",
       "      <th>2018-12-14</th>\n",
       "      <td>51.26</td>\n",
       "      <td>1235.35</td>\n",
       "      <td>92.4416</td>\n",
       "      <td>2599.949951</td>\n",
       "      <td>24100.50977</td>\n",
       "    </tr>\n",
       "    <tr>\n",
       "      <th>2018-12-13</th>\n",
       "      <td>52.69</td>\n",
       "      <td>1242.75</td>\n",
       "      <td>92.1438</td>\n",
       "      <td>2650.540039</td>\n",
       "      <td>24597.38086</td>\n",
       "    </tr>\n",
       "    <tr>\n",
       "      <th>2018-12-12</th>\n",
       "      <td>51.04</td>\n",
       "      <td>1245.75</td>\n",
       "      <td>92.0450</td>\n",
       "      <td>2651.070068</td>\n",
       "      <td>24527.26953</td>\n",
       "    </tr>\n",
       "    <tr>\n",
       "      <th>2018-11-12</th>\n",
       "      <td>51.65</td>\n",
       "      <td>1245.30</td>\n",
       "      <td>92.4447</td>\n",
       "      <td>2636.780029</td>\n",
       "      <td>24370.24023</td>\n",
       "    </tr>\n",
       "  </tbody>\n",
       "</table>\n",
       "</div>"
      ],
      "text/plain": [
       "            Value_x  Value_y    Value     snpClose     djiClose\n",
       "Date                                                           \n",
       "2018-12-17    49.80  1241.65  92.2268  2545.939941  23592.98047\n",
       "2018-12-14    51.26  1235.35  92.4416  2599.949951  24100.50977\n",
       "2018-12-13    52.69  1242.75  92.1438  2650.540039  24597.38086\n",
       "2018-12-12    51.04  1245.75  92.0450  2651.070068  24527.26953\n",
       "2018-11-12    51.65  1245.30  92.4447  2636.780029  24370.24023"
      ]
     },
     "execution_count": 37,
     "metadata": {},
     "output_type": "execute_result"
    }
   ],
   "source": [
    "\n",
    "merged.head()"
   ]
  },
  {
   "cell_type": "code",
   "execution_count": 38,
   "metadata": {},
   "outputs": [],
   "source": [
    "mergedalldata = merged"
   ]
  },
  {
   "cell_type": "code",
   "execution_count": 39,
   "metadata": {},
   "outputs": [
    {
     "data": {
      "text/plain": [
       "(8218, 5)"
      ]
     },
     "execution_count": 39,
     "metadata": {},
     "output_type": "execute_result"
    }
   ],
   "source": [
    "merged.shape"
   ]
  },
  {
   "cell_type": "code",
   "execution_count": 40,
   "metadata": {},
   "outputs": [
    {
     "data": {
      "text/plain": [
       "Index(['Value_x', 'Value_y', 'Value', 'snpClose', 'djiClose'], dtype='object')"
      ]
     },
     "execution_count": 40,
     "metadata": {},
     "output_type": "execute_result"
    }
   ],
   "source": [
    "merged.columns"
   ]
  },
  {
   "cell_type": "markdown",
   "metadata": {},
   "source": [
    "# Rename the columns"
   ]
  },
  {
   "cell_type": "code",
   "execution_count": 41,
   "metadata": {},
   "outputs": [],
   "source": [
    "merged.columns = ['WTIPrice','GoldPrice','USDOLEX','snpClose','djiClose']\n",
    "\n"
   ]
  },
  {
   "cell_type": "code",
   "execution_count": 42,
   "metadata": {},
   "outputs": [
    {
     "data": {
      "text/html": [
       "<div>\n",
       "<style scoped>\n",
       "    .dataframe tbody tr th:only-of-type {\n",
       "        vertical-align: middle;\n",
       "    }\n",
       "\n",
       "    .dataframe tbody tr th {\n",
       "        vertical-align: top;\n",
       "    }\n",
       "\n",
       "    .dataframe thead th {\n",
       "        text-align: right;\n",
       "    }\n",
       "</style>\n",
       "<table border=\"1\" class=\"dataframe\">\n",
       "  <thead>\n",
       "    <tr style=\"text-align: right;\">\n",
       "      <th></th>\n",
       "      <th>WTIPrice</th>\n",
       "      <th>GoldPrice</th>\n",
       "      <th>USDOLEX</th>\n",
       "      <th>snpClose</th>\n",
       "      <th>djiClose</th>\n",
       "    </tr>\n",
       "    <tr>\n",
       "      <th>Date</th>\n",
       "      <th></th>\n",
       "      <th></th>\n",
       "      <th></th>\n",
       "      <th></th>\n",
       "      <th></th>\n",
       "    </tr>\n",
       "  </thead>\n",
       "  <tbody>\n",
       "    <tr>\n",
       "      <th>2018-12-17</th>\n",
       "      <td>49.80</td>\n",
       "      <td>1241.65</td>\n",
       "      <td>92.2268</td>\n",
       "      <td>2545.939941</td>\n",
       "      <td>23592.98047</td>\n",
       "    </tr>\n",
       "    <tr>\n",
       "      <th>2018-12-14</th>\n",
       "      <td>51.26</td>\n",
       "      <td>1235.35</td>\n",
       "      <td>92.4416</td>\n",
       "      <td>2599.949951</td>\n",
       "      <td>24100.50977</td>\n",
       "    </tr>\n",
       "    <tr>\n",
       "      <th>2018-12-13</th>\n",
       "      <td>52.69</td>\n",
       "      <td>1242.75</td>\n",
       "      <td>92.1438</td>\n",
       "      <td>2650.540039</td>\n",
       "      <td>24597.38086</td>\n",
       "    </tr>\n",
       "    <tr>\n",
       "      <th>2018-12-12</th>\n",
       "      <td>51.04</td>\n",
       "      <td>1245.75</td>\n",
       "      <td>92.0450</td>\n",
       "      <td>2651.070068</td>\n",
       "      <td>24527.26953</td>\n",
       "    </tr>\n",
       "    <tr>\n",
       "      <th>2018-11-12</th>\n",
       "      <td>51.65</td>\n",
       "      <td>1245.30</td>\n",
       "      <td>92.4447</td>\n",
       "      <td>2636.780029</td>\n",
       "      <td>24370.24023</td>\n",
       "    </tr>\n",
       "  </tbody>\n",
       "</table>\n",
       "</div>"
      ],
      "text/plain": [
       "            WTIPrice  GoldPrice  USDOLEX     snpClose     djiClose\n",
       "Date                                                              \n",
       "2018-12-17     49.80    1241.65  92.2268  2545.939941  23592.98047\n",
       "2018-12-14     51.26    1235.35  92.4416  2599.949951  24100.50977\n",
       "2018-12-13     52.69    1242.75  92.1438  2650.540039  24597.38086\n",
       "2018-12-12     51.04    1245.75  92.0450  2651.070068  24527.26953\n",
       "2018-11-12     51.65    1245.30  92.4447  2636.780029  24370.24023"
      ]
     },
     "execution_count": 42,
     "metadata": {},
     "output_type": "execute_result"
    }
   ],
   "source": [
    "merged.head()"
   ]
  },
  {
   "cell_type": "code",
   "execution_count": 43,
   "metadata": {},
   "outputs": [
    {
     "data": {
      "image/png": "[encoded data removed]",
      "text/plain": [
       "<Figure size 432x288 with 1 Axes>"
      ]
     },
     "metadata": {
      "needs_background": "light"
     },
     "output_type": "display_data"
    }
   ],
   "source": [
    "merged['WTIPrice'].plot()\n",
    "plt.show()"
   ]
  },
  {
   "cell_type": "code",
   "execution_count": 44,
   "metadata": {},
   "outputs": [
    {
     "data": {
      "text/plain": [
       "145.31"
      ]
     },
     "execution_count": 44,
     "metadata": {},
     "output_type": "execute_result"
    }
   ],
   "source": [
    "merged['WTIPrice'].max()"
   ]
  },
  {
   "cell_type": "markdown",
   "metadata": {},
   "source": [
    "# Lehman Brothers\n",
    "#03/07/2008\t145.31\n"
   ]
  },
  {
   "cell_type": "markdown",
   "metadata": {},
   "source": [
    "#Check out the dtypes"
   ]
  },
  {
   "cell_type": "code",
   "execution_count": 45,
   "metadata": {},
   "outputs": [
    {
     "data": {
      "text/plain": [
       "WTIPrice     float64\n",
       "GoldPrice    float64\n",
       "USDOLEX      float64\n",
       "snpClose     float64\n",
       "djiClose     float64\n",
       "dtype: object"
      ]
     },
     "execution_count": 45,
     "metadata": {},
     "output_type": "execute_result"
    }
   ],
   "source": [
    "merged.dtypes"
   ]
  },
  {
   "cell_type": "markdown",
   "metadata": {},
   "source": [
    "# DATA PREPROCESSING"
   ]
  },
  {
   "cell_type": "markdown",
   "metadata": {},
   "source": [
    "#Check the null values"
   ]
  },
  {
   "cell_type": "code",
   "execution_count": 46,
   "metadata": {},
   "outputs": [
    {
     "data": {
      "text/plain": [
       "0"
      ]
     },
     "execution_count": 46,
     "metadata": {},
     "output_type": "execute_result"
    }
   ],
   "source": [
    "merged.isnull().any().sum()"
   ]
  },
  {
   "cell_type": "code",
   "execution_count": 47,
   "metadata": {},
   "outputs": [],
   "source": [
    "merged=merged.dropna()"
   ]
  },
  {
   "cell_type": "markdown",
   "metadata": {},
   "source": [
    " #Check on the Outliers and remove them from our observations"
   ]
  },
  {
   "cell_type": "markdown",
   "metadata": {},
   "source": [
    "#Visualizing"
   ]
  },
  {
   "cell_type": "code",
   "execution_count": 48,
   "metadata": {},
   "outputs": [
    {
     "data": {
      "image/png": "[encoded data removed]",
      "text/plain": [
       "<Figure size 432x288 with 6 Axes>"
      ]
     },
     "metadata": {
      "needs_background": "light"
     },
     "output_type": "display_data"
    }
   ],
   "source": [
    "merged.hist()\n",
    "plt.show()"
   ]
  },
  {
   "cell_type": "code",
   "execution_count": 49,
   "metadata": {},
   "outputs": [],
   "source": [
    "#Calculating Daily Return  with two methods"
   ]
  },
  {
   "cell_type": "code",
   "execution_count": 50,
   "metadata": {},
   "outputs": [],
   "source": [
    "daily_PC = merged/merged.shift(1)-1"
   ]
  },
  {
   "cell_type": "code",
   "execution_count": 51,
   "metadata": {},
   "outputs": [
    {
     "data": {
      "text/html": [
       "<div>\n",
       "<style scoped>\n",
       "    .dataframe tbody tr th:only-of-type {\n",
       "        vertical-align: middle;\n",
       "    }\n",
       "\n",
       "    .dataframe tbody tr th {\n",
       "        vertical-align: top;\n",
       "    }\n",
       "\n",
       "    .dataframe thead th {\n",
       "        text-align: right;\n",
       "    }\n",
       "</style>\n",
       "<table border=\"1\" class=\"dataframe\">\n",
       "  <thead>\n",
       "    <tr style=\"text-align: right;\">\n",
       "      <th></th>\n",
       "      <th>WTIPrice</th>\n",
       "      <th>GoldPrice</th>\n",
       "      <th>USDOLEX</th>\n",
       "      <th>snpClose</th>\n",
       "      <th>djiClose</th>\n",
       "    </tr>\n",
       "    <tr>\n",
       "      <th>Date</th>\n",
       "      <th></th>\n",
       "      <th></th>\n",
       "      <th></th>\n",
       "      <th></th>\n",
       "      <th></th>\n",
       "    </tr>\n",
       "  </thead>\n",
       "  <tbody>\n",
       "    <tr>\n",
       "      <th>2018-12-17</th>\n",
       "      <td>NaN</td>\n",
       "      <td>NaN</td>\n",
       "      <td>NaN</td>\n",
       "      <td>NaN</td>\n",
       "      <td>NaN</td>\n",
       "    </tr>\n",
       "    <tr>\n",
       "      <th>2018-12-14</th>\n",
       "      <td>0.029317</td>\n",
       "      <td>-0.005074</td>\n",
       "      <td>0.002329</td>\n",
       "      <td>0.021214</td>\n",
       "      <td>0.021512</td>\n",
       "    </tr>\n",
       "    <tr>\n",
       "      <th>2018-12-13</th>\n",
       "      <td>0.027897</td>\n",
       "      <td>0.005990</td>\n",
       "      <td>-0.003221</td>\n",
       "      <td>0.019458</td>\n",
       "      <td>0.020617</td>\n",
       "    </tr>\n",
       "    <tr>\n",
       "      <th>2018-12-12</th>\n",
       "      <td>-0.031315</td>\n",
       "      <td>0.002414</td>\n",
       "      <td>-0.001072</td>\n",
       "      <td>0.000200</td>\n",
       "      <td>-0.002850</td>\n",
       "    </tr>\n",
       "    <tr>\n",
       "      <th>2018-11-12</th>\n",
       "      <td>0.011951</td>\n",
       "      <td>-0.000361</td>\n",
       "      <td>0.004342</td>\n",
       "      <td>-0.005390</td>\n",
       "      <td>-0.006402</td>\n",
       "    </tr>\n",
       "  </tbody>\n",
       "</table>\n",
       "</div>"
      ],
      "text/plain": [
       "            WTIPrice  GoldPrice   USDOLEX  snpClose  djiClose\n",
       "Date                                                         \n",
       "2018-12-17       NaN        NaN       NaN       NaN       NaN\n",
       "2018-12-14  0.029317  -0.005074  0.002329  0.021214  0.021512\n",
       "2018-12-13  0.027897   0.005990 -0.003221  0.019458  0.020617\n",
       "2018-12-12 -0.031315   0.002414 -0.001072  0.000200 -0.002850\n",
       "2018-11-12  0.011951  -0.000361  0.004342 -0.005390 -0.006402"
      ]
     },
     "execution_count": 51,
     "metadata": {},
     "output_type": "execute_result"
    }
   ],
   "source": [
    "daily_PC .head()"
   ]
  },
  {
   "cell_type": "code",
   "execution_count": 52,
   "metadata": {},
   "outputs": [
    {
     "data": {
      "text/html": [
       "<div>\n",
       "<style scoped>\n",
       "    .dataframe tbody tr th:only-of-type {\n",
       "        vertical-align: middle;\n",
       "    }\n",
       "\n",
       "    .dataframe tbody tr th {\n",
       "        vertical-align: top;\n",
       "    }\n",
       "\n",
       "    .dataframe thead th {\n",
       "        text-align: right;\n",
       "    }\n",
       "</style>\n",
       "<table border=\"1\" class=\"dataframe\">\n",
       "  <thead>\n",
       "    <tr style=\"text-align: right;\">\n",
       "      <th></th>\n",
       "      <th>WTIPrice</th>\n",
       "      <th>GoldPrice</th>\n",
       "      <th>USDOLEX</th>\n",
       "      <th>snpClose</th>\n",
       "      <th>djiClose</th>\n",
       "    </tr>\n",
       "  </thead>\n",
       "  <tbody>\n",
       "    <tr>\n",
       "      <th>WTIPrice</th>\n",
       "      <td>1.000000</td>\n",
       "      <td>0.118274</td>\n",
       "      <td>-0.120460</td>\n",
       "      <td>0.088742</td>\n",
       "      <td>0.065507</td>\n",
       "    </tr>\n",
       "    <tr>\n",
       "      <th>GoldPrice</th>\n",
       "      <td>0.118274</td>\n",
       "      <td>1.000000</td>\n",
       "      <td>-0.335164</td>\n",
       "      <td>-0.051947</td>\n",
       "      <td>-0.063472</td>\n",
       "    </tr>\n",
       "    <tr>\n",
       "      <th>USDOLEX</th>\n",
       "      <td>-0.120460</td>\n",
       "      <td>-0.335164</td>\n",
       "      <td>1.000000</td>\n",
       "      <td>-0.033026</td>\n",
       "      <td>-0.016719</td>\n",
       "    </tr>\n",
       "    <tr>\n",
       "      <th>snpClose</th>\n",
       "      <td>0.088742</td>\n",
       "      <td>-0.051947</td>\n",
       "      <td>-0.033026</td>\n",
       "      <td>1.000000</td>\n",
       "      <td>0.965739</td>\n",
       "    </tr>\n",
       "    <tr>\n",
       "      <th>djiClose</th>\n",
       "      <td>0.065507</td>\n",
       "      <td>-0.063472</td>\n",
       "      <td>-0.016719</td>\n",
       "      <td>0.965739</td>\n",
       "      <td>1.000000</td>\n",
       "    </tr>\n",
       "  </tbody>\n",
       "</table>\n",
       "</div>"
      ],
      "text/plain": [
       "           WTIPrice  GoldPrice   USDOLEX  snpClose  djiClose\n",
       "WTIPrice   1.000000   0.118274 -0.120460  0.088742  0.065507\n",
       "GoldPrice  0.118274   1.000000 -0.335164 -0.051947 -0.063472\n",
       "USDOLEX   -0.120460  -0.335164  1.000000 -0.033026 -0.016719\n",
       "snpClose   0.088742  -0.051947 -0.033026  1.000000  0.965739\n",
       "djiClose   0.065507  -0.063472 -0.016719  0.965739  1.000000"
      ]
     },
     "execution_count": 52,
     "metadata": {},
     "output_type": "execute_result"
    }
   ],
   "source": [
    "daily_PC.corr()"
   ]
  },
  {
   "cell_type": "code",
   "execution_count": 53,
   "metadata": {},
   "outputs": [],
   "source": [
    "Pct = merged.pct_change()"
   ]
  },
  {
   "cell_type": "code",
   "execution_count": 54,
   "metadata": {},
   "outputs": [
    {
     "data": {
      "text/html": [
       "<div>\n",
       "<style scoped>\n",
       "    .dataframe tbody tr th:only-of-type {\n",
       "        vertical-align: middle;\n",
       "    }\n",
       "\n",
       "    .dataframe tbody tr th {\n",
       "        vertical-align: top;\n",
       "    }\n",
       "\n",
       "    .dataframe thead th {\n",
       "        text-align: right;\n",
       "    }\n",
       "</style>\n",
       "<table border=\"1\" class=\"dataframe\">\n",
       "  <thead>\n",
       "    <tr style=\"text-align: right;\">\n",
       "      <th></th>\n",
       "      <th>WTIPrice</th>\n",
       "      <th>GoldPrice</th>\n",
       "      <th>USDOLEX</th>\n",
       "      <th>snpClose</th>\n",
       "      <th>djiClose</th>\n",
       "    </tr>\n",
       "    <tr>\n",
       "      <th>Date</th>\n",
       "      <th></th>\n",
       "      <th></th>\n",
       "      <th></th>\n",
       "      <th></th>\n",
       "      <th></th>\n",
       "    </tr>\n",
       "  </thead>\n",
       "  <tbody>\n",
       "    <tr>\n",
       "      <th>2018-12-17</th>\n",
       "      <td>NaN</td>\n",
       "      <td>NaN</td>\n",
       "      <td>NaN</td>\n",
       "      <td>NaN</td>\n",
       "      <td>NaN</td>\n",
       "    </tr>\n",
       "    <tr>\n",
       "      <th>2018-12-14</th>\n",
       "      <td>0.029317</td>\n",
       "      <td>-0.005074</td>\n",
       "      <td>0.002329</td>\n",
       "      <td>0.021214</td>\n",
       "      <td>0.021512</td>\n",
       "    </tr>\n",
       "    <tr>\n",
       "      <th>2018-12-13</th>\n",
       "      <td>0.027897</td>\n",
       "      <td>0.005990</td>\n",
       "      <td>-0.003221</td>\n",
       "      <td>0.019458</td>\n",
       "      <td>0.020617</td>\n",
       "    </tr>\n",
       "    <tr>\n",
       "      <th>2018-12-12</th>\n",
       "      <td>-0.031315</td>\n",
       "      <td>0.002414</td>\n",
       "      <td>-0.001072</td>\n",
       "      <td>0.000200</td>\n",
       "      <td>-0.002850</td>\n",
       "    </tr>\n",
       "    <tr>\n",
       "      <th>2018-11-12</th>\n",
       "      <td>0.011951</td>\n",
       "      <td>-0.000361</td>\n",
       "      <td>0.004342</td>\n",
       "      <td>-0.005390</td>\n",
       "      <td>-0.006402</td>\n",
       "    </tr>\n",
       "  </tbody>\n",
       "</table>\n",
       "</div>"
      ],
      "text/plain": [
       "            WTIPrice  GoldPrice   USDOLEX  snpClose  djiClose\n",
       "Date                                                         \n",
       "2018-12-17       NaN        NaN       NaN       NaN       NaN\n",
       "2018-12-14  0.029317  -0.005074  0.002329  0.021214  0.021512\n",
       "2018-12-13  0.027897   0.005990 -0.003221  0.019458  0.020617\n",
       "2018-12-12 -0.031315   0.002414 -0.001072  0.000200 -0.002850\n",
       "2018-11-12  0.011951  -0.000361  0.004342 -0.005390 -0.006402"
      ]
     },
     "execution_count": 54,
     "metadata": {},
     "output_type": "execute_result"
    }
   ],
   "source": [
    "Pct.head(5)"
   ]
  },
  {
   "cell_type": "code",
   "execution_count": 55,
   "metadata": {},
   "outputs": [
    {
     "data": {
      "image/png": "[encoded data removed]",
      "text/plain": [
       "<Figure size 432x288 with 6 Axes>"
      ]
     },
     "metadata": {
      "needs_background": "light"
     },
     "output_type": "display_data"
    }
   ],
   "source": [
    "Pct.hist()\n",
    "plt.show()"
   ]
  },
  {
   "cell_type": "markdown",
   "metadata": {},
   "source": [
    "#The Daily Return columns are not giving a significant correlation result and will not be \n",
    "#used in prediction"
   ]
  },
  {
   "cell_type": "code",
   "execution_count": 56,
   "metadata": {},
   "outputs": [],
   "source": [
    "# EDA Statistics\n"
   ]
  },
  {
   "cell_type": "code",
   "execution_count": 57,
   "metadata": {},
   "outputs": [
    {
     "data": {
      "text/html": [
       "<div>\n",
       "<style scoped>\n",
       "    .dataframe tbody tr th:only-of-type {\n",
       "        vertical-align: middle;\n",
       "    }\n",
       "\n",
       "    .dataframe tbody tr th {\n",
       "        vertical-align: top;\n",
       "    }\n",
       "\n",
       "    .dataframe thead th {\n",
       "        text-align: right;\n",
       "    }\n",
       "</style>\n",
       "<table border=\"1\" class=\"dataframe\">\n",
       "  <thead>\n",
       "    <tr style=\"text-align: right;\">\n",
       "      <th></th>\n",
       "      <th>WTIPrice</th>\n",
       "      <th>GoldPrice</th>\n",
       "      <th>USDOLEX</th>\n",
       "      <th>snpClose</th>\n",
       "      <th>djiClose</th>\n",
       "    </tr>\n",
       "  </thead>\n",
       "  <tbody>\n",
       "    <tr>\n",
       "      <th>count</th>\n",
       "      <td>8218.000000</td>\n",
       "      <td>8218.000000</td>\n",
       "      <td>8218.000000</td>\n",
       "      <td>8218.000000</td>\n",
       "      <td>8218.000000</td>\n",
       "    </tr>\n",
       "    <tr>\n",
       "      <th>mean</th>\n",
       "      <td>43.848073</td>\n",
       "      <td>678.883579</td>\n",
       "      <td>88.563758</td>\n",
       "      <td>1095.696655</td>\n",
       "      <td>9555.920422</td>\n",
       "    </tr>\n",
       "    <tr>\n",
       "      <th>std</th>\n",
       "      <td>29.593712</td>\n",
       "      <td>443.008709</td>\n",
       "      <td>10.157936</td>\n",
       "      <td>644.570141</td>\n",
       "      <td>5818.016886</td>\n",
       "    </tr>\n",
       "    <tr>\n",
       "      <th>min</th>\n",
       "      <td>10.250000</td>\n",
       "      <td>252.800000</td>\n",
       "      <td>68.013700</td>\n",
       "      <td>203.490005</td>\n",
       "      <td>1502.290039</td>\n",
       "    </tr>\n",
       "    <tr>\n",
       "      <th>25%</th>\n",
       "      <td>19.620000</td>\n",
       "      <td>353.600000</td>\n",
       "      <td>81.605575</td>\n",
       "      <td>460.717491</td>\n",
       "      <td>3741.904907</td>\n",
       "    </tr>\n",
       "    <tr>\n",
       "      <th>50%</th>\n",
       "      <td>30.095000</td>\n",
       "      <td>409.725000</td>\n",
       "      <td>88.715400</td>\n",
       "      <td>1113.380005</td>\n",
       "      <td>9973.145019</td>\n",
       "    </tr>\n",
       "    <tr>\n",
       "      <th>75%</th>\n",
       "      <td>64.627500</td>\n",
       "      <td>1141.375000</td>\n",
       "      <td>94.652625</td>\n",
       "      <td>1402.287537</td>\n",
       "      <td>12427.132327</td>\n",
       "    </tr>\n",
       "    <tr>\n",
       "      <th>max</th>\n",
       "      <td>145.310000</td>\n",
       "      <td>1895.000000</td>\n",
       "      <td>121.104500</td>\n",
       "      <td>2930.750000</td>\n",
       "      <td>26828.390630</td>\n",
       "    </tr>\n",
       "  </tbody>\n",
       "</table>\n",
       "</div>"
      ],
      "text/plain": [
       "          WTIPrice    GoldPrice      USDOLEX     snpClose      djiClose\n",
       "count  8218.000000  8218.000000  8218.000000  8218.000000   8218.000000\n",
       "mean     43.848073   678.883579    88.563758  1095.696655   9555.920422\n",
       "std      29.593712   443.008709    10.157936   644.570141   5818.016886\n",
       "min      10.250000   252.800000    68.013700   203.490005   1502.290039\n",
       "25%      19.620000   353.600000    81.605575   460.717491   3741.904907\n",
       "50%      30.095000   409.725000    88.715400  1113.380005   9973.145019\n",
       "75%      64.627500  1141.375000    94.652625  1402.287537  12427.132327\n",
       "max     145.310000  1895.000000   121.104500  2930.750000  26828.390630"
      ]
     },
     "execution_count": 57,
     "metadata": {},
     "output_type": "execute_result"
    }
   ],
   "source": [
    "merged.describe()"
   ]
  },
  {
   "cell_type": "code",
   "execution_count": 58,
   "metadata": {},
   "outputs": [
    {
     "data": {
      "text/plain": [
       "WTIPrice       30.095000\n",
       "GoldPrice     409.725000\n",
       "USDOLEX        88.715400\n",
       "snpClose     1113.380005\n",
       "djiClose     9973.145019\n",
       "dtype: float64"
      ]
     },
     "execution_count": 58,
     "metadata": {},
     "output_type": "execute_result"
    }
   ],
   "source": [
    "merged.median()"
   ]
  },
  {
   "cell_type": "code",
   "execution_count": 59,
   "metadata": {},
   "outputs": [
    {
     "data": {
      "text/html": [
       "<div>\n",
       "<style scoped>\n",
       "    .dataframe tbody tr th:only-of-type {\n",
       "        vertical-align: middle;\n",
       "    }\n",
       "\n",
       "    .dataframe tbody tr th {\n",
       "        vertical-align: top;\n",
       "    }\n",
       "\n",
       "    .dataframe thead th {\n",
       "        text-align: right;\n",
       "    }\n",
       "</style>\n",
       "<table border=\"1\" class=\"dataframe\">\n",
       "  <thead>\n",
       "    <tr style=\"text-align: right;\">\n",
       "      <th></th>\n",
       "      <th>WTIPrice</th>\n",
       "      <th>GoldPrice</th>\n",
       "      <th>USDOLEX</th>\n",
       "      <th>snpClose</th>\n",
       "      <th>djiClose</th>\n",
       "    </tr>\n",
       "  </thead>\n",
       "  <tbody>\n",
       "    <tr>\n",
       "      <th>count</th>\n",
       "      <td>8217.000000</td>\n",
       "      <td>8217.000000</td>\n",
       "      <td>8217.000000</td>\n",
       "      <td>8217.000000</td>\n",
       "      <td>8217.000000</td>\n",
       "    </tr>\n",
       "    <tr>\n",
       "      <th>mean</th>\n",
       "      <td>0.000241</td>\n",
       "      <td>-0.000113</td>\n",
       "      <td>0.000042</td>\n",
       "      <td>-0.000239</td>\n",
       "      <td>-0.000270</td>\n",
       "    </tr>\n",
       "    <tr>\n",
       "      <th>std</th>\n",
       "      <td>0.025561</td>\n",
       "      <td>0.009989</td>\n",
       "      <td>0.004417</td>\n",
       "      <td>0.011497</td>\n",
       "      <td>0.011273</td>\n",
       "    </tr>\n",
       "    <tr>\n",
       "      <th>min</th>\n",
       "      <td>-0.195102</td>\n",
       "      <td>-0.074169</td>\n",
       "      <td>-0.024552</td>\n",
       "      <td>-0.103782</td>\n",
       "      <td>-0.099751</td>\n",
       "    </tr>\n",
       "    <tr>\n",
       "      <th>25%</th>\n",
       "      <td>-0.012663</td>\n",
       "      <td>-0.004850</td>\n",
       "      <td>-0.002394</td>\n",
       "      <td>-0.005585</td>\n",
       "      <td>-0.005653</td>\n",
       "    </tr>\n",
       "    <tr>\n",
       "      <th>50%</th>\n",
       "      <td>-0.000678</td>\n",
       "      <td>0.000000</td>\n",
       "      <td>-0.000027</td>\n",
       "      <td>-0.000590</td>\n",
       "      <td>-0.000562</td>\n",
       "    </tr>\n",
       "    <tr>\n",
       "      <th>75%</th>\n",
       "      <td>0.012214</td>\n",
       "      <td>0.004382</td>\n",
       "      <td>0.002478</td>\n",
       "      <td>0.004441</td>\n",
       "      <td>0.004461</td>\n",
       "    </tr>\n",
       "    <tr>\n",
       "      <th>max</th>\n",
       "      <td>0.501397</td>\n",
       "      <td>0.100717</td>\n",
       "      <td>0.041921</td>\n",
       "      <td>0.257339</td>\n",
       "      <td>0.292160</td>\n",
       "    </tr>\n",
       "  </tbody>\n",
       "</table>\n",
       "</div>"
      ],
      "text/plain": [
       "          WTIPrice    GoldPrice      USDOLEX     snpClose     djiClose\n",
       "count  8217.000000  8217.000000  8217.000000  8217.000000  8217.000000\n",
       "mean      0.000241    -0.000113     0.000042    -0.000239    -0.000270\n",
       "std       0.025561     0.009989     0.004417     0.011497     0.011273\n",
       "min      -0.195102    -0.074169    -0.024552    -0.103782    -0.099751\n",
       "25%      -0.012663    -0.004850    -0.002394    -0.005585    -0.005653\n",
       "50%      -0.000678     0.000000    -0.000027    -0.000590    -0.000562\n",
       "75%       0.012214     0.004382     0.002478     0.004441     0.004461\n",
       "max       0.501397     0.100717     0.041921     0.257339     0.292160"
      ]
     },
     "execution_count": 59,
     "metadata": {},
     "output_type": "execute_result"
    }
   ],
   "source": [
    "Pct.describe()"
   ]
  },
  {
   "cell_type": "code",
   "execution_count": 60,
   "metadata": {},
   "outputs": [
    {
     "data": {
      "text/plain": [
       "WTIPrice    -0.000678\n",
       "GoldPrice    0.000000\n",
       "USDOLEX     -0.000027\n",
       "snpClose    -0.000590\n",
       "djiClose    -0.000562\n",
       "dtype: float64"
      ]
     },
     "execution_count": 60,
     "metadata": {},
     "output_type": "execute_result"
    }
   ],
   "source": [
    "Pct.median()"
   ]
  },
  {
   "cell_type": "code",
   "execution_count": 61,
   "metadata": {},
   "outputs": [],
   "source": [
    "\n",
    "#Five Point Summary"
   ]
  },
  {
   "cell_type": "code",
   "execution_count": 62,
   "metadata": {},
   "outputs": [
    {
     "data": {
      "text/plain": [
       "WTIPrice       10.250000\n",
       "GoldPrice     252.800000\n",
       "USDOLEX        68.013700\n",
       "snpClose      203.490005\n",
       "djiClose     1502.290039\n",
       "dtype: float64"
      ]
     },
     "execution_count": 62,
     "metadata": {},
     "output_type": "execute_result"
    }
   ],
   "source": [
    "merged.min()"
   ]
  },
  {
   "cell_type": "code",
   "execution_count": 63,
   "metadata": {},
   "outputs": [
    {
     "data": {
      "text/plain": [
       "WTIPrice       10.250000\n",
       "GoldPrice     252.800000\n",
       "USDOLEX        68.013700\n",
       "snpClose      203.490005\n",
       "djiClose     1502.290039\n",
       "dtype: float64"
      ]
     },
     "execution_count": 63,
     "metadata": {},
     "output_type": "execute_result"
    }
   ],
   "source": [
    "merged.min()"
   ]
  },
  {
   "cell_type": "code",
   "execution_count": 64,
   "metadata": {},
   "outputs": [
    {
     "data": {
      "text/plain": [
       "WTIPrice       30.095000\n",
       "GoldPrice     409.725000\n",
       "USDOLEX        88.715400\n",
       "snpClose     1113.380005\n",
       "djiClose     9973.145019\n",
       "Name: 0.5, dtype: float64"
      ]
     },
     "execution_count": 64,
     "metadata": {},
     "output_type": "execute_result"
    }
   ],
   "source": [
    "merged.quantile()"
   ]
  },
  {
   "cell_type": "code",
   "execution_count": 65,
   "metadata": {},
   "outputs": [
    {
     "data": {
      "text/plain": [
       "WTIPrice       19.620000\n",
       "GoldPrice     353.600000\n",
       "USDOLEX        81.605575\n",
       "snpClose      460.717491\n",
       "djiClose     3741.904907\n",
       "Name: 0.25, dtype: float64"
      ]
     },
     "execution_count": 65,
     "metadata": {},
     "output_type": "execute_result"
    }
   ],
   "source": [
    "merged.quantile(0.25)"
   ]
  },
  {
   "cell_type": "code",
   "execution_count": 66,
   "metadata": {},
   "outputs": [
    {
     "data": {
      "text/plain": [
       "WTIPrice        64.627500\n",
       "GoldPrice     1141.375000\n",
       "USDOLEX         94.652625\n",
       "snpClose      1402.287537\n",
       "djiClose     12427.132327\n",
       "Name: 0.75, dtype: float64"
      ]
     },
     "execution_count": 66,
     "metadata": {},
     "output_type": "execute_result"
    }
   ],
   "source": [
    "merged.quantile(0.75)\n"
   ]
  },
  {
   "cell_type": "markdown",
   "metadata": {},
   "source": [
    "# Shape of the curve"
   ]
  },
  {
   "cell_type": "code",
   "execution_count": 67,
   "metadata": {},
   "outputs": [
    {
     "data": {
      "text/plain": [
       "WTIPrice    -0.359792\n",
       "GoldPrice   -0.659400\n",
       "USDOLEX     -0.258177\n",
       "snpClose    -0.082539\n",
       "djiClose     0.062928\n",
       "dtype: float64"
      ]
     },
     "execution_count": 67,
     "metadata": {},
     "output_type": "execute_result"
    }
   ],
   "source": [
    "merged.kurtosis()"
   ]
  },
  {
   "cell_type": "code",
   "execution_count": 68,
   "metadata": {},
   "outputs": [
    {
     "data": {
      "text/plain": [
       "WTIPrice     0.903529\n",
       "GoldPrice    0.912157\n",
       "USDOLEX      0.242538\n",
       "snpClose     0.643051\n",
       "djiClose     0.650634\n",
       "dtype: float64"
      ]
     },
     "execution_count": 68,
     "metadata": {},
     "output_type": "execute_result"
    }
   ],
   "source": [
    "merged.skew()"
   ]
  },
  {
   "cell_type": "markdown",
   "metadata": {},
   "source": [
    "\n",
    "#Checking for Outliers\n",
    "#Location of the outliers"
   ]
  },
  {
   "cell_type": "code",
   "execution_count": 69,
   "metadata": {},
   "outputs": [
    {
     "data": {
      "image/png": "[encoded data removed]",
      "text/plain": [
       "<Figure size 432x288 with 1 Axes>"
      ]
     },
     "metadata": {
      "needs_background": "light"
     },
     "output_type": "display_data"
    }
   ],
   "source": [
    "merged.boxplot()\n",
    "plt.show()"
   ]
  },
  {
   "cell_type": "code",
   "execution_count": 70,
   "metadata": {},
   "outputs": [
    {
     "data": {
      "image/png": "[encoded data removed]",
      "text/plain": [
       "<Figure size 432x288 with 1 Axes>"
      ]
     },
     "metadata": {
      "needs_background": "light"
     },
     "output_type": "display_data"
    }
   ],
   "source": [
    "merged.boxplot(column='WTIPrice', return_type='axes')\n",
    "plt.show()"
   ]
  },
  {
   "cell_type": "code",
   "execution_count": 71,
   "metadata": {},
   "outputs": [
    {
     "data": {
      "image/png": "[encoded data removed]",
      "text/plain": [
       "<Figure size 432x288 with 1 Axes>"
      ]
     },
     "metadata": {
      "needs_background": "light"
     },
     "output_type": "display_data"
    }
   ],
   "source": [
    "merged.boxplot(column='GoldPrice', return_type='axes')\n",
    "plt.show()"
   ]
  },
  {
   "cell_type": "code",
   "execution_count": 72,
   "metadata": {},
   "outputs": [
    {
     "data": {
      "image/png": "[encoded data removed]",
      "text/plain": [
       "<Figure size 432x288 with 1 Axes>"
      ]
     },
     "metadata": {
      "needs_background": "light"
     },
     "output_type": "display_data"
    }
   ],
   "source": [
    "merged.boxplot(column='GoldPrice', return_type='axes')\n",
    "plt.show()"
   ]
  },
  {
   "cell_type": "code",
   "execution_count": 73,
   "metadata": {},
   "outputs": [
    {
     "data": {
      "image/png": "[encoded data removed]",
      "text/plain": [
       "<Figure size 432x288 with 1 Axes>"
      ]
     },
     "metadata": {
      "needs_background": "light"
     },
     "output_type": "display_data"
    }
   ],
   "source": [
    "merged.boxplot(column='snpClose', return_type='axes')\n",
    "plt.show()"
   ]
  },
  {
   "cell_type": "code",
   "execution_count": 74,
   "metadata": {},
   "outputs": [
    {
     "data": {
      "image/png": "[encoded data removed]",
      "text/plain": [
       "<Figure size 432x288 with 1 Axes>"
      ]
     },
     "metadata": {
      "needs_background": "light"
     },
     "output_type": "display_data"
    }
   ],
   "source": [
    "merged.boxplot(column='djiClose', return_type='axes')\n",
    "plt.show()"
   ]
  },
  {
   "cell_type": "markdown",
   "metadata": {},
   "source": [
    "# Data Outliers"
   ]
  },
  {
   "cell_type": "code",
   "execution_count": 75,
   "metadata": {},
   "outputs": [
    {
     "data": {
      "text/plain": [
       "WTIPrice       30.095000\n",
       "GoldPrice     409.725000\n",
       "USDOLEX        88.715400\n",
       "snpClose     1113.380005\n",
       "djiClose     9973.145019\n",
       "Name: 0.5, dtype: float64"
      ]
     },
     "execution_count": 75,
     "metadata": {},
     "output_type": "execute_result"
    }
   ],
   "source": [
    "merged.quantile()"
   ]
  },
  {
   "cell_type": "code",
   "execution_count": 76,
   "metadata": {},
   "outputs": [
    {
     "data": {
      "text/plain": [
       "WTIPrice       29.430000\n",
       "GoldPrice     530.400000\n",
       "USDOLEX       122.408363\n",
       "snpClose      691.076236\n",
       "djiClose     5612.857361\n",
       "Name: 0.25, dtype: float64"
      ]
     },
     "execution_count": 76,
     "metadata": {},
     "output_type": "execute_result"
    }
   ],
   "source": [
    "merged.quantile(0.25) * 1.5"
   ]
  },
  {
   "cell_type": "code",
   "execution_count": 77,
   "metadata": {},
   "outputs": [
    {
     "data": {
      "text/plain": [
       "WTIPrice        96.941250\n",
       "GoldPrice     1712.062500\n",
       "USDOLEX        141.978938\n",
       "snpClose      2103.431306\n",
       "djiClose     18640.698491\n",
       "Name: 0.75, dtype: float64"
      ]
     },
     "execution_count": 77,
     "metadata": {},
     "output_type": "execute_result"
    }
   ],
   "source": [
    "merged.quantile(0.75) * 1.5"
   ]
  },
  {
   "cell_type": "code",
   "execution_count": 78,
   "metadata": {},
   "outputs": [],
   "source": [
    "wtiQ1=merged['WTIPrice'].quantile(0.25) * 1.5"
   ]
  },
  {
   "cell_type": "code",
   "execution_count": 79,
   "metadata": {},
   "outputs": [
    {
     "name": "stdout",
     "output_type": "stream",
     "text": [
      "29.43\n"
     ]
    }
   ],
   "source": [
    "print(wtiQ1)"
   ]
  },
  {
   "cell_type": "code",
   "execution_count": 80,
   "metadata": {},
   "outputs": [
    {
     "name": "stdout",
     "output_type": "stream",
     "text": [
      "96.94125\n"
     ]
    }
   ],
   "source": [
    "wtiQ3=merged['WTIPrice'].quantile(0.75) *1.5\n",
    "print(wtiQ3)"
   ]
  },
  {
   "cell_type": "code",
   "execution_count": 81,
   "metadata": {},
   "outputs": [
    {
     "name": "stdout",
     "output_type": "stream",
     "text": [
      "530.4000000000001\n"
     ]
    }
   ],
   "source": [
    "goldQ1=merged['GoldPrice'].quantile(0.25) *1.5\n",
    "print(goldQ1)"
   ]
  },
  {
   "cell_type": "code",
   "execution_count": 82,
   "metadata": {},
   "outputs": [],
   "source": [
    "goldQ3=merged['GoldPrice'].quantile(0.75) * 1.5"
   ]
  },
  {
   "cell_type": "code",
   "execution_count": 83,
   "metadata": {},
   "outputs": [
    {
     "name": "stdout",
     "output_type": "stream",
     "text": [
      "122.40836250000001\n"
     ]
    }
   ],
   "source": [
    "usdolexQ1=merged['USDOLEX'].quantile(0.25) *1.5\n",
    "print(usdolexQ1)"
   ]
  },
  {
   "cell_type": "code",
   "execution_count": 84,
   "metadata": {},
   "outputs": [
    {
     "name": "stdout",
     "output_type": "stream",
     "text": [
      "141.9789375\n"
     ]
    }
   ],
   "source": [
    "usdolexQ3=merged['USDOLEX'].quantile(0.75) *1.5\n",
    "print(usdolexQ3)"
   ]
  },
  {
   "cell_type": "code",
   "execution_count": 85,
   "metadata": {},
   "outputs": [
    {
     "name": "stdout",
     "output_type": "stream",
     "text": [
      "691.076236125\n"
     ]
    }
   ],
   "source": [
    "snp500Q1=merged['snpClose'].quantile(0.25) * 1.5\n",
    "print(snp500Q1)"
   ]
  },
  {
   "cell_type": "code",
   "execution_count": 86,
   "metadata": {},
   "outputs": [],
   "source": [
    "snp500Q1=merged['snpClose'].quantile(0.75) * 1.5"
   ]
  },
  {
   "cell_type": "code",
   "execution_count": 87,
   "metadata": {},
   "outputs": [],
   "source": [
    "snp500Q3=merged['snpClose'].quantile(0.75) * 1.5"
   ]
  },
  {
   "cell_type": "code",
   "execution_count": 88,
   "metadata": {},
   "outputs": [
    {
     "name": "stdout",
     "output_type": "stream",
     "text": [
      "5612.8573605\n"
     ]
    }
   ],
   "source": [
    "djiQ1=merged['djiClose'].quantile(0.25) * 1.5\n",
    "print(djiQ1)"
   ]
  },
  {
   "cell_type": "code",
   "execution_count": 89,
   "metadata": {},
   "outputs": [
    {
     "name": "stdout",
     "output_type": "stream",
     "text": [
      "18640.698491249997\n"
     ]
    }
   ],
   "source": [
    "djiQ3=merged['djiClose'].quantile(0.75) * 1.5\n",
    "print(djiQ3)"
   ]
  },
  {
   "cell_type": "code",
   "execution_count": 90,
   "metadata": {},
   "outputs": [],
   "source": [
    "#Counting the number of outliers"
   ]
  },
  {
   "cell_type": "code",
   "execution_count": 91,
   "metadata": {},
   "outputs": [
    {
     "data": {
      "text/html": [
       "<div>\n",
       "<style scoped>\n",
       "    .dataframe tbody tr th:only-of-type {\n",
       "        vertical-align: middle;\n",
       "    }\n",
       "\n",
       "    .dataframe tbody tr th {\n",
       "        vertical-align: top;\n",
       "    }\n",
       "\n",
       "    .dataframe thead th {\n",
       "        text-align: right;\n",
       "    }\n",
       "</style>\n",
       "<table border=\"1\" class=\"dataframe\">\n",
       "  <thead>\n",
       "    <tr style=\"text-align: right;\">\n",
       "      <th></th>\n",
       "      <th>WTIPrice</th>\n",
       "      <th>GoldPrice</th>\n",
       "      <th>USDOLEX</th>\n",
       "      <th>snpClose</th>\n",
       "      <th>djiClose</th>\n",
       "    </tr>\n",
       "    <tr>\n",
       "      <th>Date</th>\n",
       "      <th></th>\n",
       "      <th></th>\n",
       "      <th></th>\n",
       "      <th></th>\n",
       "      <th></th>\n",
       "    </tr>\n",
       "  </thead>\n",
       "  <tbody>\n",
       "    <tr>\n",
       "      <th>2018-12-17</th>\n",
       "      <td>49.80</td>\n",
       "      <td>1241.65</td>\n",
       "      <td>92.2268</td>\n",
       "      <td>2545.939941</td>\n",
       "      <td>23592.98047</td>\n",
       "    </tr>\n",
       "    <tr>\n",
       "      <th>2018-12-14</th>\n",
       "      <td>51.26</td>\n",
       "      <td>1235.35</td>\n",
       "      <td>92.4416</td>\n",
       "      <td>2599.949951</td>\n",
       "      <td>24100.50977</td>\n",
       "    </tr>\n",
       "    <tr>\n",
       "      <th>2018-12-13</th>\n",
       "      <td>52.69</td>\n",
       "      <td>1242.75</td>\n",
       "      <td>92.1438</td>\n",
       "      <td>2650.540039</td>\n",
       "      <td>24597.38086</td>\n",
       "    </tr>\n",
       "    <tr>\n",
       "      <th>2018-12-12</th>\n",
       "      <td>51.04</td>\n",
       "      <td>1245.75</td>\n",
       "      <td>92.0450</td>\n",
       "      <td>2651.070068</td>\n",
       "      <td>24527.26953</td>\n",
       "    </tr>\n",
       "    <tr>\n",
       "      <th>2018-11-12</th>\n",
       "      <td>51.65</td>\n",
       "      <td>1245.30</td>\n",
       "      <td>92.4447</td>\n",
       "      <td>2636.780029</td>\n",
       "      <td>24370.24023</td>\n",
       "    </tr>\n",
       "  </tbody>\n",
       "</table>\n",
       "</div>"
      ],
      "text/plain": [
       "            WTIPrice  GoldPrice  USDOLEX     snpClose     djiClose\n",
       "Date                                                              \n",
       "2018-12-17     49.80    1241.65  92.2268  2545.939941  23592.98047\n",
       "2018-12-14     51.26    1235.35  92.4416  2599.949951  24100.50977\n",
       "2018-12-13     52.69    1242.75  92.1438  2650.540039  24597.38086\n",
       "2018-12-12     51.04    1245.75  92.0450  2651.070068  24527.26953\n",
       "2018-11-12     51.65    1245.30  92.4447  2636.780029  24370.24023"
      ]
     },
     "execution_count": 91,
     "metadata": {},
     "output_type": "execute_result"
    }
   ],
   "source": [
    "merged.head(5)\n"
   ]
  },
  {
   "cell_type": "code",
   "execution_count": 92,
   "metadata": {},
   "outputs": [
    {
     "data": {
      "text/plain": [
       "4025"
      ]
     },
     "execution_count": 92,
     "metadata": {},
     "output_type": "execute_result"
    }
   ],
   "source": [
    "merged['WTIPrice'].loc[merged['WTIPrice'] <=wtiQ1].count()"
   ]
  },
  {
   "cell_type": "code",
   "execution_count": 93,
   "metadata": {},
   "outputs": [
    {
     "data": {
      "text/plain": [
       "618"
      ]
     },
     "execution_count": 93,
     "metadata": {},
     "output_type": "execute_result"
    }
   ],
   "source": [
    "merged['WTIPrice'].loc[merged['WTIPrice'] >=wtiQ3].count()"
   ]
  },
  {
   "cell_type": "code",
   "execution_count": 94,
   "metadata": {},
   "outputs": [
    {
     "data": {
      "text/plain": [
       "4990"
      ]
     },
     "execution_count": 94,
     "metadata": {},
     "output_type": "execute_result"
    }
   ],
   "source": [
    "merged['GoldPrice'].loc[merged['GoldPrice'] <=goldQ1].count()"
   ]
  },
  {
   "cell_type": "code",
   "execution_count": 95,
   "metadata": {},
   "outputs": [
    {
     "data": {
      "text/plain": [
       "132"
      ]
     },
     "execution_count": 95,
     "metadata": {},
     "output_type": "execute_result"
    }
   ],
   "source": [
    "merged['GoldPrice'].loc[merged['GoldPrice'] >=goldQ3].count()\n"
   ]
  },
  {
   "cell_type": "code",
   "execution_count": 96,
   "metadata": {},
   "outputs": [
    {
     "data": {
      "text/plain": [
       "8218"
      ]
     },
     "execution_count": 96,
     "metadata": {},
     "output_type": "execute_result"
    }
   ],
   "source": [
    "merged['USDOLEX'].loc[merged['USDOLEX'] <=usdolexQ1].count()"
   ]
  },
  {
   "cell_type": "code",
   "execution_count": 97,
   "metadata": {},
   "outputs": [
    {
     "data": {
      "text/plain": [
       "0"
      ]
     },
     "execution_count": 97,
     "metadata": {},
     "output_type": "execute_result"
    }
   ],
   "source": [
    "merged['USDOLEX'].loc[merged['USDOLEX'] >=usdolexQ3].count()"
   ]
  },
  {
   "cell_type": "code",
   "execution_count": 98,
   "metadata": {},
   "outputs": [
    {
     "data": {
      "text/plain": [
       "7551"
      ]
     },
     "execution_count": 98,
     "metadata": {},
     "output_type": "execute_result"
    }
   ],
   "source": [
    "merged['snpClose'].loc[merged['snpClose'] <=snp500Q1].count()"
   ]
  },
  {
   "cell_type": "code",
   "execution_count": 99,
   "metadata": {},
   "outputs": [
    {
     "data": {
      "text/plain": [
       "667"
      ]
     },
     "execution_count": 99,
     "metadata": {},
     "output_type": "execute_result"
    }
   ],
   "source": [
    "merged['snpClose'].loc[merged['snpClose'] >=snp500Q3].count()\n"
   ]
  },
  {
   "cell_type": "code",
   "execution_count": 100,
   "metadata": {},
   "outputs": [
    {
     "data": {
      "text/plain": [
       "2587"
      ]
     },
     "execution_count": 100,
     "metadata": {},
     "output_type": "execute_result"
    }
   ],
   "source": [
    "merged['djiClose'].loc[merged['djiClose'] <=djiQ1].count()"
   ]
  },
  {
   "cell_type": "code",
   "execution_count": 101,
   "metadata": {},
   "outputs": [
    {
     "data": {
      "text/plain": [
       "521"
      ]
     },
     "execution_count": 101,
     "metadata": {},
     "output_type": "execute_result"
    }
   ],
   "source": [
    "merged['djiClose'].loc[merged['djiClose'] >=djiQ3].count()"
   ]
  },
  {
   "cell_type": "markdown",
   "metadata": {},
   "source": [
    "#Decide on Outlier treatment\n",
    "#as outlier constitute significant part of data\n",
    "#the decision is to keep the outlier"
   ]
  },
  {
   "cell_type": "markdown",
   "metadata": {},
   "source": [
    "#Is there a relationship between Gold and Oil"
   ]
  },
  {
   "cell_type": "code",
   "execution_count": 102,
   "metadata": {},
   "outputs": [
    {
     "data": {
      "text/html": [
       "<div>\n",
       "<style scoped>\n",
       "    .dataframe tbody tr th:only-of-type {\n",
       "        vertical-align: middle;\n",
       "    }\n",
       "\n",
       "    .dataframe tbody tr th {\n",
       "        vertical-align: top;\n",
       "    }\n",
       "\n",
       "    .dataframe thead th {\n",
       "        text-align: right;\n",
       "    }\n",
       "</style>\n",
       "<table border=\"1\" class=\"dataframe\">\n",
       "  <thead>\n",
       "    <tr style=\"text-align: right;\">\n",
       "      <th></th>\n",
       "      <th>WTIPrice</th>\n",
       "      <th>GoldPrice</th>\n",
       "      <th>USDOLEX</th>\n",
       "      <th>snpClose</th>\n",
       "      <th>djiClose</th>\n",
       "    </tr>\n",
       "  </thead>\n",
       "  <tbody>\n",
       "    <tr>\n",
       "      <th>WTIPrice</th>\n",
       "      <td>1.000000</td>\n",
       "      <td>0.808054</td>\n",
       "      <td>-0.751228</td>\n",
       "      <td>0.571291</td>\n",
       "      <td>0.616226</td>\n",
       "    </tr>\n",
       "    <tr>\n",
       "      <th>GoldPrice</th>\n",
       "      <td>0.808054</td>\n",
       "      <td>1.000000</td>\n",
       "      <td>-0.629712</td>\n",
       "      <td>0.655953</td>\n",
       "      <td>0.696895</td>\n",
       "    </tr>\n",
       "    <tr>\n",
       "      <th>USDOLEX</th>\n",
       "      <td>-0.751228</td>\n",
       "      <td>-0.629712</td>\n",
       "      <td>1.000000</td>\n",
       "      <td>-0.210207</td>\n",
       "      <td>-0.260039</td>\n",
       "    </tr>\n",
       "    <tr>\n",
       "      <th>snpClose</th>\n",
       "      <td>0.571291</td>\n",
       "      <td>0.655953</td>\n",
       "      <td>-0.210207</td>\n",
       "      <td>1.000000</td>\n",
       "      <td>0.994617</td>\n",
       "    </tr>\n",
       "    <tr>\n",
       "      <th>djiClose</th>\n",
       "      <td>0.616226</td>\n",
       "      <td>0.696895</td>\n",
       "      <td>-0.260039</td>\n",
       "      <td>0.994617</td>\n",
       "      <td>1.000000</td>\n",
       "    </tr>\n",
       "  </tbody>\n",
       "</table>\n",
       "</div>"
      ],
      "text/plain": [
       "           WTIPrice  GoldPrice   USDOLEX  snpClose  djiClose\n",
       "WTIPrice   1.000000   0.808054 -0.751228  0.571291  0.616226\n",
       "GoldPrice  0.808054   1.000000 -0.629712  0.655953  0.696895\n",
       "USDOLEX   -0.751228  -0.629712  1.000000 -0.210207 -0.260039\n",
       "snpClose   0.571291   0.655953 -0.210207  1.000000  0.994617\n",
       "djiClose   0.616226   0.696895 -0.260039  0.994617  1.000000"
      ]
     },
     "execution_count": 102,
     "metadata": {},
     "output_type": "execute_result"
    }
   ],
   "source": [
    "merged.corr()"
   ]
  },
  {
   "cell_type": "code",
   "execution_count": null,
   "metadata": {},
   "outputs": [],
   "source": []
  },
  {
   "cell_type": "code",
   "execution_count": 103,
   "metadata": {},
   "outputs": [],
   "source": [
    "## there stronge positive corrrelation between Crude oil prices and Gold \n",
    "## prices (.8)and negative correlation with USD(-.75)\n",
    "## and positive correlation with stock market more with adj Dow jones close\n"
   ]
  },
  {
   "cell_type": "code",
   "execution_count": 104,
   "metadata": {},
   "outputs": [],
   "source": [
    "#Decision to drop Snp500 and keep DJI as both represent the stock market and having both of them puts\n",
    "#too much of a weight on stock market for our prediction"
   ]
  },
  {
   "cell_type": "code",
   "execution_count": 105,
   "metadata": {},
   "outputs": [
    {
     "data": {
      "text/html": [
       "<div>\n",
       "<style scoped>\n",
       "    .dataframe tbody tr th:only-of-type {\n",
       "        vertical-align: middle;\n",
       "    }\n",
       "\n",
       "    .dataframe tbody tr th {\n",
       "        vertical-align: top;\n",
       "    }\n",
       "\n",
       "    .dataframe thead th {\n",
       "        text-align: right;\n",
       "    }\n",
       "</style>\n",
       "<table border=\"1\" class=\"dataframe\">\n",
       "  <thead>\n",
       "    <tr style=\"text-align: right;\">\n",
       "      <th></th>\n",
       "      <th>WTIPrice</th>\n",
       "      <th>GoldPrice</th>\n",
       "      <th>USDOLEX</th>\n",
       "      <th>snpClose</th>\n",
       "      <th>djiClose</th>\n",
       "    </tr>\n",
       "    <tr>\n",
       "      <th>Date</th>\n",
       "      <th></th>\n",
       "      <th></th>\n",
       "      <th></th>\n",
       "      <th></th>\n",
       "      <th></th>\n",
       "    </tr>\n",
       "  </thead>\n",
       "  <tbody>\n",
       "    <tr>\n",
       "      <th>2018-12-17</th>\n",
       "      <td>49.80</td>\n",
       "      <td>1241.65</td>\n",
       "      <td>92.2268</td>\n",
       "      <td>2545.939941</td>\n",
       "      <td>23592.98047</td>\n",
       "    </tr>\n",
       "    <tr>\n",
       "      <th>2018-12-14</th>\n",
       "      <td>51.26</td>\n",
       "      <td>1235.35</td>\n",
       "      <td>92.4416</td>\n",
       "      <td>2599.949951</td>\n",
       "      <td>24100.50977</td>\n",
       "    </tr>\n",
       "    <tr>\n",
       "      <th>2018-12-13</th>\n",
       "      <td>52.69</td>\n",
       "      <td>1242.75</td>\n",
       "      <td>92.1438</td>\n",
       "      <td>2650.540039</td>\n",
       "      <td>24597.38086</td>\n",
       "    </tr>\n",
       "    <tr>\n",
       "      <th>2018-12-12</th>\n",
       "      <td>51.04</td>\n",
       "      <td>1245.75</td>\n",
       "      <td>92.0450</td>\n",
       "      <td>2651.070068</td>\n",
       "      <td>24527.26953</td>\n",
       "    </tr>\n",
       "    <tr>\n",
       "      <th>2018-11-12</th>\n",
       "      <td>51.65</td>\n",
       "      <td>1245.30</td>\n",
       "      <td>92.4447</td>\n",
       "      <td>2636.780029</td>\n",
       "      <td>24370.24023</td>\n",
       "    </tr>\n",
       "  </tbody>\n",
       "</table>\n",
       "</div>"
      ],
      "text/plain": [
       "            WTIPrice  GoldPrice  USDOLEX     snpClose     djiClose\n",
       "Date                                                              \n",
       "2018-12-17     49.80    1241.65  92.2268  2545.939941  23592.98047\n",
       "2018-12-14     51.26    1235.35  92.4416  2599.949951  24100.50977\n",
       "2018-12-13     52.69    1242.75  92.1438  2650.540039  24597.38086\n",
       "2018-12-12     51.04    1245.75  92.0450  2651.070068  24527.26953\n",
       "2018-11-12     51.65    1245.30  92.4447  2636.780029  24370.24023"
      ]
     },
     "execution_count": 105,
     "metadata": {},
     "output_type": "execute_result"
    }
   ],
   "source": [
    "merged.head(5)"
   ]
  },
  {
   "cell_type": "code",
   "execution_count": 106,
   "metadata": {},
   "outputs": [],
   "source": [
    "merged=merged.drop('snpClose', axis=1)"
   ]
  },
  {
   "cell_type": "code",
   "execution_count": 107,
   "metadata": {},
   "outputs": [
    {
     "data": {
      "text/plain": [
       "Index(['WTIPrice', 'GoldPrice', 'USDOLEX', 'djiClose'], dtype='object')"
      ]
     },
     "execution_count": 107,
     "metadata": {},
     "output_type": "execute_result"
    }
   ],
   "source": [
    "merged.columns"
   ]
  },
  {
   "cell_type": "code",
   "execution_count": 108,
   "metadata": {},
   "outputs": [
    {
     "data": {
      "text/html": [
       "<div>\n",
       "<style scoped>\n",
       "    .dataframe tbody tr th:only-of-type {\n",
       "        vertical-align: middle;\n",
       "    }\n",
       "\n",
       "    .dataframe tbody tr th {\n",
       "        vertical-align: top;\n",
       "    }\n",
       "\n",
       "    .dataframe thead th {\n",
       "        text-align: right;\n",
       "    }\n",
       "</style>\n",
       "<table border=\"1\" class=\"dataframe\">\n",
       "  <thead>\n",
       "    <tr style=\"text-align: right;\">\n",
       "      <th></th>\n",
       "      <th>WTIPrice</th>\n",
       "      <th>GoldPrice</th>\n",
       "      <th>USDOLEX</th>\n",
       "      <th>djiClose</th>\n",
       "    </tr>\n",
       "    <tr>\n",
       "      <th>Date</th>\n",
       "      <th></th>\n",
       "      <th></th>\n",
       "      <th></th>\n",
       "      <th></th>\n",
       "    </tr>\n",
       "  </thead>\n",
       "  <tbody>\n",
       "    <tr>\n",
       "      <th>2018-12-17</th>\n",
       "      <td>49.80</td>\n",
       "      <td>1241.65</td>\n",
       "      <td>92.2268</td>\n",
       "      <td>23592.98047</td>\n",
       "    </tr>\n",
       "    <tr>\n",
       "      <th>2018-12-14</th>\n",
       "      <td>51.26</td>\n",
       "      <td>1235.35</td>\n",
       "      <td>92.4416</td>\n",
       "      <td>24100.50977</td>\n",
       "    </tr>\n",
       "    <tr>\n",
       "      <th>2018-12-13</th>\n",
       "      <td>52.69</td>\n",
       "      <td>1242.75</td>\n",
       "      <td>92.1438</td>\n",
       "      <td>24597.38086</td>\n",
       "    </tr>\n",
       "    <tr>\n",
       "      <th>2018-12-12</th>\n",
       "      <td>51.04</td>\n",
       "      <td>1245.75</td>\n",
       "      <td>92.0450</td>\n",
       "      <td>24527.26953</td>\n",
       "    </tr>\n",
       "    <tr>\n",
       "      <th>2018-11-12</th>\n",
       "      <td>51.65</td>\n",
       "      <td>1245.30</td>\n",
       "      <td>92.4447</td>\n",
       "      <td>24370.24023</td>\n",
       "    </tr>\n",
       "  </tbody>\n",
       "</table>\n",
       "</div>"
      ],
      "text/plain": [
       "            WTIPrice  GoldPrice  USDOLEX     djiClose\n",
       "Date                                                 \n",
       "2018-12-17     49.80    1241.65  92.2268  23592.98047\n",
       "2018-12-14     51.26    1235.35  92.4416  24100.50977\n",
       "2018-12-13     52.69    1242.75  92.1438  24597.38086\n",
       "2018-12-12     51.04    1245.75  92.0450  24527.26953\n",
       "2018-11-12     51.65    1245.30  92.4447  24370.24023"
      ]
     },
     "execution_count": 108,
     "metadata": {},
     "output_type": "execute_result"
    }
   ],
   "source": [
    "merged.head(5)"
   ]
  },
  {
   "cell_type": "markdown",
   "metadata": {},
   "source": [
    "# Prediction"
   ]
  },
  {
   "cell_type": "code",
   "execution_count": 109,
   "metadata": {},
   "outputs": [],
   "source": [
    "#The Prediction works only in standard circumstances barring acts of \n",
    "#God such as\n",
    "#War and Natural Calamities\n",
    "#The assumption is that there exists a Linear relationship between \n",
    "#Features and Target V"
   ]
  },
  {
   "cell_type": "code",
   "execution_count": null,
   "metadata": {},
   "outputs": [],
   "source": []
  },
  {
   "cell_type": "markdown",
   "metadata": {},
   "source": [
    "# ##Tomorrow's price Prediction \n",
    "###based on Regression"
   ]
  },
  {
   "cell_type": "code",
   "execution_count": 110,
   "metadata": {},
   "outputs": [],
   "source": [
    "import sklearn"
   ]
  },
  {
   "cell_type": "code",
   "execution_count": 111,
   "metadata": {},
   "outputs": [],
   "source": [
    " from sklearn.model_selection import cross_val_score as cross_validation"
   ]
  },
  {
   "cell_type": "code",
   "execution_count": 112,
   "metadata": {},
   "outputs": [],
   "source": [
    "from sklearn.utils import shuffle"
   ]
  },
  {
   "cell_type": "code",
   "execution_count": 113,
   "metadata": {},
   "outputs": [],
   "source": [
    "from sklearn import linear_model"
   ]
  },
  {
   "cell_type": "code",
   "execution_count": 114,
   "metadata": {},
   "outputs": [],
   "source": [
    "from sklearn.tree import DecisionTreeRegressor"
   ]
  },
  {
   "cell_type": "code",
   "execution_count": 115,
   "metadata": {},
   "outputs": [],
   "source": [
    "from sklearn.ensemble import RandomForestRegressor"
   ]
  },
  {
   "cell_type": "code",
   "execution_count": 116,
   "metadata": {},
   "outputs": [],
   "source": [
    "from sklearn.metrics import mean_squared_error, r2_score"
   ]
  },
  {
   "cell_type": "code",
   "execution_count": 117,
   "metadata": {},
   "outputs": [],
   "source": [
    "from sklearn.model_selection import train_test_split"
   ]
  },
  {
   "cell_type": "code",
   "execution_count": 118,
   "metadata": {},
   "outputs": [],
   "source": [
    "#Splitting data into Target variable and features"
   ]
  },
  {
   "cell_type": "code",
   "execution_count": 119,
   "metadata": {},
   "outputs": [],
   "source": [
    "#targetprice=merged['WTIPrice']Splitting data into Target variable \n",
    "#and features"
   ]
  },
  {
   "cell_type": "code",
   "execution_count": 120,
   "metadata": {},
   "outputs": [],
   "source": [
    "targetprice= merged['WTIPrice']"
   ]
  },
  {
   "cell_type": "code",
   "execution_count": 121,
   "metadata": {},
   "outputs": [
    {
     "data": {
      "text/plain": [
       "Date\n",
       "2018-12-17    49.80\n",
       "2018-12-14    51.26\n",
       "2018-12-13    52.69\n",
       "2018-12-12    51.04\n",
       "2018-11-12    51.65\n",
       "Name: WTIPrice, dtype: float64"
      ]
     },
     "execution_count": 121,
     "metadata": {},
     "output_type": "execute_result"
    }
   ],
   "source": [
    "targetprice.head()"
   ]
  },
  {
   "cell_type": "code",
   "execution_count": 122,
   "metadata": {},
   "outputs": [
    {
     "data": {
      "text/html": [
       "<div>\n",
       "<style scoped>\n",
       "    .dataframe tbody tr th:only-of-type {\n",
       "        vertical-align: middle;\n",
       "    }\n",
       "\n",
       "    .dataframe tbody tr th {\n",
       "        vertical-align: top;\n",
       "    }\n",
       "\n",
       "    .dataframe thead th {\n",
       "        text-align: right;\n",
       "    }\n",
       "</style>\n",
       "<table border=\"1\" class=\"dataframe\">\n",
       "  <thead>\n",
       "    <tr style=\"text-align: right;\">\n",
       "      <th></th>\n",
       "      <th>GoldPrice</th>\n",
       "      <th>USDOLEX</th>\n",
       "      <th>djiClose</th>\n",
       "    </tr>\n",
       "    <tr>\n",
       "      <th>Date</th>\n",
       "      <th></th>\n",
       "      <th></th>\n",
       "      <th></th>\n",
       "    </tr>\n",
       "  </thead>\n",
       "  <tbody>\n",
       "    <tr>\n",
       "      <th>2018-12-17</th>\n",
       "      <td>1241.65</td>\n",
       "      <td>92.2268</td>\n",
       "      <td>23592.98047</td>\n",
       "    </tr>\n",
       "    <tr>\n",
       "      <th>2018-12-14</th>\n",
       "      <td>1235.35</td>\n",
       "      <td>92.4416</td>\n",
       "      <td>24100.50977</td>\n",
       "    </tr>\n",
       "    <tr>\n",
       "      <th>2018-12-13</th>\n",
       "      <td>1242.75</td>\n",
       "      <td>92.1438</td>\n",
       "      <td>24597.38086</td>\n",
       "    </tr>\n",
       "    <tr>\n",
       "      <th>2018-12-12</th>\n",
       "      <td>1245.75</td>\n",
       "      <td>92.0450</td>\n",
       "      <td>24527.26953</td>\n",
       "    </tr>\n",
       "    <tr>\n",
       "      <th>2018-11-12</th>\n",
       "      <td>1245.30</td>\n",
       "      <td>92.4447</td>\n",
       "      <td>24370.24023</td>\n",
       "    </tr>\n",
       "  </tbody>\n",
       "</table>\n",
       "</div>"
      ],
      "text/plain": [
       "            GoldPrice  USDOLEX     djiClose\n",
       "Date                                       \n",
       "2018-12-17    1241.65  92.2268  23592.98047\n",
       "2018-12-14    1235.35  92.4416  24100.50977\n",
       "2018-12-13    1242.75  92.1438  24597.38086\n",
       "2018-12-12    1245.75  92.0450  24527.26953\n",
       "2018-11-12    1245.30  92.4447  24370.24023"
      ]
     },
     "execution_count": 122,
     "metadata": {},
     "output_type": "execute_result"
    }
   ],
   "source": [
    "features=merged[['GoldPrice','USDOLEX','djiClose']]\n",
    "features.head(5)"
   ]
  },
  {
   "cell_type": "code",
   "execution_count": 123,
   "metadata": {},
   "outputs": [
    {
     "data": {
      "text/plain": [
       "Index(['GoldPrice', 'USDOLEX', 'djiClose'], dtype='object')"
      ]
     },
     "execution_count": 123,
     "metadata": {},
     "output_type": "execute_result"
    }
   ],
   "source": [
    "features.columns"
   ]
  },
  {
   "cell_type": "code",
   "execution_count": 124,
   "metadata": {},
   "outputs": [],
   "source": [
    "#Shuffling the data"
   ]
  },
  {
   "cell_type": "code",
   "execution_count": 125,
   "metadata": {},
   "outputs": [],
   "source": [
    "\n",
    "features=shuffle(features,random_state=0)"
   ]
  },
  {
   "cell_type": "code",
   "execution_count": 126,
   "metadata": {},
   "outputs": [],
   "source": [
    "targetprice=shuffle(targetprice, random_state=0)"
   ]
  },
  {
   "cell_type": "code",
   "execution_count": 127,
   "metadata": {},
   "outputs": [
    {
     "data": {
      "text/plain": [
       "Date\n",
       "1994-12-12    16.92\n",
       "1989-10-16    20.64\n",
       "2015-04-15    56.25\n",
       "1987-09-18    19.58\n",
       "2004-12-20    45.57\n",
       "Name: WTIPrice, dtype: float64"
      ]
     },
     "execution_count": 127,
     "metadata": {},
     "output_type": "execute_result"
    }
   ],
   "source": [
    "targetprice.head(5)"
   ]
  },
  {
   "cell_type": "code",
   "execution_count": 128,
   "metadata": {},
   "outputs": [
    {
     "data": {
      "text/html": [
       "<div>\n",
       "<style scoped>\n",
       "    .dataframe tbody tr th:only-of-type {\n",
       "        vertical-align: middle;\n",
       "    }\n",
       "\n",
       "    .dataframe tbody tr th {\n",
       "        vertical-align: top;\n",
       "    }\n",
       "\n",
       "    .dataframe thead th {\n",
       "        text-align: right;\n",
       "    }\n",
       "</style>\n",
       "<table border=\"1\" class=\"dataframe\">\n",
       "  <thead>\n",
       "    <tr style=\"text-align: right;\">\n",
       "      <th></th>\n",
       "      <th>GoldPrice</th>\n",
       "      <th>USDOLEX</th>\n",
       "      <th>djiClose</th>\n",
       "    </tr>\n",
       "    <tr>\n",
       "      <th>Date</th>\n",
       "      <th></th>\n",
       "      <th></th>\n",
       "      <th></th>\n",
       "    </tr>\n",
       "  </thead>\n",
       "  <tbody>\n",
       "    <tr>\n",
       "      <th>1994-12-12</th>\n",
       "      <td>377.15</td>\n",
       "      <td>87.3410</td>\n",
       "      <td>3718.370117</td>\n",
       "    </tr>\n",
       "    <tr>\n",
       "      <th>1989-10-16</th>\n",
       "      <td>368.40</td>\n",
       "      <td>95.1866</td>\n",
       "      <td>2657.379883</td>\n",
       "    </tr>\n",
       "    <tr>\n",
       "      <th>2015-04-15</th>\n",
       "      <td>1192.90</td>\n",
       "      <td>91.9237</td>\n",
       "      <td>18112.609380</td>\n",
       "    </tr>\n",
       "    <tr>\n",
       "      <th>1987-09-18</th>\n",
       "      <td>461.70</td>\n",
       "      <td>96.4384</td>\n",
       "      <td>2524.639893</td>\n",
       "    </tr>\n",
       "    <tr>\n",
       "      <th>2004-12-20</th>\n",
       "      <td>442.45</td>\n",
       "      <td>80.4400</td>\n",
       "      <td>10661.599610</td>\n",
       "    </tr>\n",
       "  </tbody>\n",
       "</table>\n",
       "</div>"
      ],
      "text/plain": [
       "            GoldPrice  USDOLEX      djiClose\n",
       "Date                                        \n",
       "1994-12-12     377.15  87.3410   3718.370117\n",
       "1989-10-16     368.40  95.1866   2657.379883\n",
       "2015-04-15    1192.90  91.9237  18112.609380\n",
       "1987-09-18     461.70  96.4384   2524.639893\n",
       "2004-12-20     442.45  80.4400  10661.599610"
      ]
     },
     "execution_count": 128,
     "metadata": {},
     "output_type": "execute_result"
    }
   ],
   "source": [
    "features.head(5)"
   ]
  },
  {
   "cell_type": "markdown",
   "metadata": {},
   "source": [
    "# Dividing data into Train and Test"
   ]
  },
  {
   "cell_type": "code",
   "execution_count": 129,
   "metadata": {},
   "outputs": [],
   "source": [
    "from sklearn.model_selection import train_test_split\n",
    "from sklearn import datasets"
   ]
  },
  {
   "cell_type": "code",
   "execution_count": 130,
   "metadata": {},
   "outputs": [],
   "source": [
    "X_train, X_test, y_train, y_test = train_test_split(\n",
    "  features,targetprice , test_size=0.4, random_state=0)"
   ]
  },
  {
   "cell_type": "code",
   "execution_count": 131,
   "metadata": {},
   "outputs": [
    {
     "data": {
      "text/html": [
       "<div>\n",
       "<style scoped>\n",
       "    .dataframe tbody tr th:only-of-type {\n",
       "        vertical-align: middle;\n",
       "    }\n",
       "\n",
       "    .dataframe tbody tr th {\n",
       "        vertical-align: top;\n",
       "    }\n",
       "\n",
       "    .dataframe thead th {\n",
       "        text-align: right;\n",
       "    }\n",
       "</style>\n",
       "<table border=\"1\" class=\"dataframe\">\n",
       "  <thead>\n",
       "    <tr style=\"text-align: right;\">\n",
       "      <th></th>\n",
       "      <th>GoldPrice</th>\n",
       "      <th>USDOLEX</th>\n",
       "      <th>djiClose</th>\n",
       "    </tr>\n",
       "    <tr>\n",
       "      <th>Date</th>\n",
       "      <th></th>\n",
       "      <th></th>\n",
       "      <th></th>\n",
       "    </tr>\n",
       "  </thead>\n",
       "  <tbody>\n",
       "    <tr>\n",
       "      <th>1990-05-11</th>\n",
       "      <td>376.90</td>\n",
       "      <td>83.1760</td>\n",
       "      <td>2502.229980</td>\n",
       "    </tr>\n",
       "    <tr>\n",
       "      <th>1990-03-21</th>\n",
       "      <td>392.00</td>\n",
       "      <td>94.6451</td>\n",
       "      <td>2727.929932</td>\n",
       "    </tr>\n",
       "    <tr>\n",
       "      <th>1989-01-17</th>\n",
       "      <td>402.25</td>\n",
       "      <td>91.0742</td>\n",
       "      <td>2214.639893</td>\n",
       "    </tr>\n",
       "    <tr>\n",
       "      <th>1986-05-08</th>\n",
       "      <td>358.50</td>\n",
       "      <td>105.9514</td>\n",
       "      <td>1777.000000</td>\n",
       "    </tr>\n",
       "    <tr>\n",
       "      <th>1995-12-10</th>\n",
       "      <td>384.45</td>\n",
       "      <td>84.0274</td>\n",
       "      <td>4764.879883</td>\n",
       "    </tr>\n",
       "  </tbody>\n",
       "</table>\n",
       "</div>"
      ],
      "text/plain": [
       "            GoldPrice   USDOLEX     djiClose\n",
       "Date                                        \n",
       "1990-05-11     376.90   83.1760  2502.229980\n",
       "1990-03-21     392.00   94.6451  2727.929932\n",
       "1989-01-17     402.25   91.0742  2214.639893\n",
       "1986-05-08     358.50  105.9514  1777.000000\n",
       "1995-12-10     384.45   84.0274  4764.879883"
      ]
     },
     "execution_count": 131,
     "metadata": {},
     "output_type": "execute_result"
    }
   ],
   "source": [
    "X_train.head(5)"
   ]
  },
  {
   "cell_type": "code",
   "execution_count": 132,
   "metadata": {},
   "outputs": [
    {
     "data": {
      "text/plain": [
       "Date\n",
       "1990-05-11    32.05\n",
       "1990-03-21    19.59\n",
       "1989-01-17    19.03\n",
       "1986-05-08    14.35\n",
       "1995-12-10    17.08\n",
       "Name: WTIPrice, dtype: float64"
      ]
     },
     "execution_count": 132,
     "metadata": {},
     "output_type": "execute_result"
    }
   ],
   "source": [
    " y_train.head(5)"
   ]
  },
  {
   "cell_type": "code",
   "execution_count": 133,
   "metadata": {},
   "outputs": [
    {
     "data": {
      "text/plain": [
       "count    4930.000000\n",
       "mean       44.170213\n",
       "std        29.706630\n",
       "min        10.250000\n",
       "25%        19.710000\n",
       "50%        30.340000\n",
       "75%        64.915000\n",
       "max       144.960000\n",
       "Name: WTIPrice, dtype: float64"
      ]
     },
     "execution_count": 133,
     "metadata": {},
     "output_type": "execute_result"
    }
   ],
   "source": [
    "y_train.describe()"
   ]
  },
  {
   "cell_type": "code",
   "execution_count": 134,
   "metadata": {},
   "outputs": [
    {
     "data": {
      "text/html": [
       "<div>\n",
       "<style scoped>\n",
       "    .dataframe tbody tr th:only-of-type {\n",
       "        vertical-align: middle;\n",
       "    }\n",
       "\n",
       "    .dataframe tbody tr th {\n",
       "        vertical-align: top;\n",
       "    }\n",
       "\n",
       "    .dataframe thead th {\n",
       "        text-align: right;\n",
       "    }\n",
       "</style>\n",
       "<table border=\"1\" class=\"dataframe\">\n",
       "  <thead>\n",
       "    <tr style=\"text-align: right;\">\n",
       "      <th></th>\n",
       "      <th>GoldPrice</th>\n",
       "      <th>USDOLEX</th>\n",
       "      <th>djiClose</th>\n",
       "    </tr>\n",
       "  </thead>\n",
       "  <tbody>\n",
       "    <tr>\n",
       "      <th>count</th>\n",
       "      <td>4930.000000</td>\n",
       "      <td>4930.000000</td>\n",
       "      <td>4930.000000</td>\n",
       "    </tr>\n",
       "    <tr>\n",
       "      <th>mean</th>\n",
       "      <td>686.130690</td>\n",
       "      <td>88.564010</td>\n",
       "      <td>9656.364805</td>\n",
       "    </tr>\n",
       "    <tr>\n",
       "      <th>std</th>\n",
       "      <td>447.326771</td>\n",
       "      <td>10.191675</td>\n",
       "      <td>5833.404046</td>\n",
       "    </tr>\n",
       "    <tr>\n",
       "      <th>min</th>\n",
       "      <td>253.300000</td>\n",
       "      <td>68.013700</td>\n",
       "      <td>1502.290039</td>\n",
       "    </tr>\n",
       "    <tr>\n",
       "      <th>25%</th>\n",
       "      <td>354.250000</td>\n",
       "      <td>81.600425</td>\n",
       "      <td>3831.817505</td>\n",
       "    </tr>\n",
       "    <tr>\n",
       "      <th>50%</th>\n",
       "      <td>411.500000</td>\n",
       "      <td>88.780450</td>\n",
       "      <td>10012.615235</td>\n",
       "    </tr>\n",
       "    <tr>\n",
       "      <th>75%</th>\n",
       "      <td>1162.425000</td>\n",
       "      <td>94.724025</td>\n",
       "      <td>12486.419678</td>\n",
       "    </tr>\n",
       "    <tr>\n",
       "      <th>max</th>\n",
       "      <td>1895.000000</td>\n",
       "      <td>121.104500</td>\n",
       "      <td>26743.500000</td>\n",
       "    </tr>\n",
       "  </tbody>\n",
       "</table>\n",
       "</div>"
      ],
      "text/plain": [
       "         GoldPrice      USDOLEX      djiClose\n",
       "count  4930.000000  4930.000000   4930.000000\n",
       "mean    686.130690    88.564010   9656.364805\n",
       "std     447.326771    10.191675   5833.404046\n",
       "min     253.300000    68.013700   1502.290039\n",
       "25%     354.250000    81.600425   3831.817505\n",
       "50%     411.500000    88.780450  10012.615235\n",
       "75%    1162.425000    94.724025  12486.419678\n",
       "max    1895.000000   121.104500  26743.500000"
      ]
     },
     "execution_count": 134,
     "metadata": {},
     "output_type": "execute_result"
    }
   ],
   "source": [
    "X_train.describe()"
   ]
  },
  {
   "cell_type": "code",
   "execution_count": 135,
   "metadata": {},
   "outputs": [
    {
     "data": {
      "text/html": [
       "<div>\n",
       "<style scoped>\n",
       "    .dataframe tbody tr th:only-of-type {\n",
       "        vertical-align: middle;\n",
       "    }\n",
       "\n",
       "    .dataframe tbody tr th {\n",
       "        vertical-align: top;\n",
       "    }\n",
       "\n",
       "    .dataframe thead th {\n",
       "        text-align: right;\n",
       "    }\n",
       "</style>\n",
       "<table border=\"1\" class=\"dataframe\">\n",
       "  <thead>\n",
       "    <tr style=\"text-align: right;\">\n",
       "      <th></th>\n",
       "      <th>GoldPrice</th>\n",
       "      <th>USDOLEX</th>\n",
       "      <th>djiClose</th>\n",
       "    </tr>\n",
       "  </thead>\n",
       "  <tbody>\n",
       "    <tr>\n",
       "      <th>count</th>\n",
       "      <td>3288.000000</td>\n",
       "      <td>3288.000000</td>\n",
       "      <td>3288.000000</td>\n",
       "    </tr>\n",
       "    <tr>\n",
       "      <th>mean</th>\n",
       "      <td>668.017321</td>\n",
       "      <td>88.563379</td>\n",
       "      <td>9405.314944</td>\n",
       "    </tr>\n",
       "    <tr>\n",
       "      <th>std</th>\n",
       "      <td>436.296354</td>\n",
       "      <td>10.108685</td>\n",
       "      <td>5792.491332</td>\n",
       "    </tr>\n",
       "    <tr>\n",
       "      <th>min</th>\n",
       "      <td>252.800000</td>\n",
       "      <td>68.027100</td>\n",
       "      <td>1513.530029</td>\n",
       "    </tr>\n",
       "    <tr>\n",
       "      <th>25%</th>\n",
       "      <td>352.737500</td>\n",
       "      <td>81.615400</td>\n",
       "      <td>3648.172425</td>\n",
       "    </tr>\n",
       "    <tr>\n",
       "      <th>50%</th>\n",
       "      <td>407.000000</td>\n",
       "      <td>88.599650</td>\n",
       "      <td>9922.450195</td>\n",
       "    </tr>\n",
       "    <tr>\n",
       "      <th>75%</th>\n",
       "      <td>1117.625000</td>\n",
       "      <td>94.553900</td>\n",
       "      <td>12343.972168</td>\n",
       "    </tr>\n",
       "    <tr>\n",
       "      <th>max</th>\n",
       "      <td>1877.500000</td>\n",
       "      <td>121.060500</td>\n",
       "      <td>26828.390630</td>\n",
       "    </tr>\n",
       "  </tbody>\n",
       "</table>\n",
       "</div>"
      ],
      "text/plain": [
       "         GoldPrice      USDOLEX      djiClose\n",
       "count  3288.000000  3288.000000   3288.000000\n",
       "mean    668.017321    88.563379   9405.314944\n",
       "std     436.296354    10.108685   5792.491332\n",
       "min     252.800000    68.027100   1513.530029\n",
       "25%     352.737500    81.615400   3648.172425\n",
       "50%     407.000000    88.599650   9922.450195\n",
       "75%    1117.625000    94.553900  12343.972168\n",
       "max    1877.500000   121.060500  26828.390630"
      ]
     },
     "execution_count": 135,
     "metadata": {},
     "output_type": "execute_result"
    }
   ],
   "source": [
    " X_test.describe()"
   ]
  },
  {
   "cell_type": "code",
   "execution_count": 136,
   "metadata": {},
   "outputs": [
    {
     "data": {
      "text/plain": [
       "count    3288.000000\n",
       "mean       43.365058\n",
       "std        29.421489\n",
       "min        10.820000\n",
       "25%        19.410000\n",
       "50%        29.510000\n",
       "75%        64.127500\n",
       "max       145.310000\n",
       "Name: WTIPrice, dtype: float64"
      ]
     },
     "execution_count": 136,
     "metadata": {},
     "output_type": "execute_result"
    }
   ],
   "source": [
    " y_test.describe()"
   ]
  },
  {
   "cell_type": "markdown",
   "metadata": {},
   "source": [
    "# Linear Regression on WTI and Gold data"
   ]
  },
  {
   "cell_type": "code",
   "execution_count": 137,
   "metadata": {},
   "outputs": [],
   "source": [
    "regr_1= linear_model.LinearRegression()"
   ]
  },
  {
   "cell_type": "code",
   "execution_count": 138,
   "metadata": {},
   "outputs": [
    {
     "data": {
      "text/plain": [
       "LinearRegression(copy_X=True, fit_intercept=True, n_jobs=None,\n",
       "         normalize=False)"
      ]
     },
     "execution_count": 138,
     "metadata": {},
     "output_type": "execute_result"
    }
   ],
   "source": [
    "regr_1.fit(X_train, y_train)\n"
   ]
  },
  {
   "cell_type": "markdown",
   "metadata": {},
   "source": [
    "# #Decision Tree Regressor"
   ]
  },
  {
   "cell_type": "code",
   "execution_count": 139,
   "metadata": {},
   "outputs": [],
   "source": [
    "regr_2 = DecisionTreeRegressor(max_depth=2)"
   ]
  },
  {
   "cell_type": "code",
   "execution_count": 140,
   "metadata": {},
   "outputs": [
    {
     "data": {
      "text/plain": [
       "DecisionTreeRegressor(criterion='mse', max_depth=2, max_features=None,\n",
       "           max_leaf_nodes=None, min_impurity_decrease=0.0,\n",
       "           min_impurity_split=None, min_samples_leaf=1,\n",
       "           min_samples_split=2, min_weight_fraction_leaf=0.0,\n",
       "           presort=False, random_state=None, splitter='best')"
      ]
     },
     "execution_count": 140,
     "metadata": {},
     "output_type": "execute_result"
    }
   ],
   "source": [
    "regr_2.fit(X_train, y_train)"
   ]
  },
  {
   "cell_type": "markdown",
   "metadata": {},
   "source": [
    "# Random Forest Regressor"
   ]
  },
  {
   "cell_type": "code",
   "execution_count": 141,
   "metadata": {},
   "outputs": [],
   "source": [
    "rf = RandomForestRegressor(n_estimators = 1000, random_state = 42)"
   ]
  },
  {
   "cell_type": "code",
   "execution_count": 142,
   "metadata": {},
   "outputs": [
    {
     "data": {
      "text/plain": [
       "RandomForestRegressor(bootstrap=True, criterion='mse', max_depth=None,\n",
       "           max_features='auto', max_leaf_nodes=None,\n",
       "           min_impurity_decrease=0.0, min_impurity_split=None,\n",
       "           min_samples_leaf=1, min_samples_split=2,\n",
       "           min_weight_fraction_leaf=0.0, n_estimators=1000, n_jobs=None,\n",
       "           oob_score=False, random_state=42, verbose=0, warm_start=False)"
      ]
     },
     "execution_count": 142,
     "metadata": {},
     "output_type": "execute_result"
    }
   ],
   "source": [
    "rf.fit(X_train, y_train)\n"
   ]
  },
  {
   "cell_type": "markdown",
   "metadata": {
    "collapsed": true
   },
   "source": [
    "# Making the prediction from Test data"
   ]
  },
  {
   "cell_type": "code",
   "execution_count": 143,
   "metadata": {},
   "outputs": [],
   "source": [
    "y_pred= regr_1.predict(X_test)"
   ]
  },
  {
   "cell_type": "code",
   "execution_count": 144,
   "metadata": {},
   "outputs": [],
   "source": [
    "y_pred= regr_2.predict(X_test)"
   ]
  },
  {
   "cell_type": "code",
   "execution_count": 145,
   "metadata": {},
   "outputs": [],
   "source": [
    "y_pred= rf.predict(X_test)\n"
   ]
  },
  {
   "cell_type": "code",
   "execution_count": 146,
   "metadata": {},
   "outputs": [],
   "source": [
    "#Metrics for Linear Regression only"
   ]
  },
  {
   "cell_type": "code",
   "execution_count": 147,
   "metadata": {},
   "outputs": [
    {
     "name": "stdout",
     "output_type": "stream",
     "text": [
      "Coefficients:  [ 2.09674152e-02 -1.41450665e+00  1.36458620e-03]\n"
     ]
    }
   ],
   "source": [
    "print(\"Coefficients: \", regr_1.coef_)"
   ]
  },
  {
   "cell_type": "code",
   "execution_count": 148,
   "metadata": {},
   "outputs": [],
   "source": [
    "#Mean squared error"
   ]
  },
  {
   "cell_type": "code",
   "execution_count": 149,
   "metadata": {},
   "outputs": [
    {
     "name": "stdout",
     "output_type": "stream",
     "text": [
      "mean squared error:   7.884098956322659\n"
     ]
    }
   ],
   "source": [
    "print(\"mean squared error:  \",mean_squared_error(y_test,y_pred))"
   ]
  },
  {
   "cell_type": "code",
   "execution_count": 150,
   "metadata": {},
   "outputs": [
    {
     "name": "stdout",
     "output_type": "stream",
     "text": [
      "Variance score:  0.9908892345987761\n"
     ]
    }
   ],
   "source": [
    "#Variance score\n",
    "print(\"Variance score: \",   r2_score(y_test, y_pred))"
   ]
  },
  {
   "cell_type": "code",
   "execution_count": 151,
   "metadata": {},
   "outputs": [],
   "source": [
    "#Accuracy Score for other algorithms than Linear Regression"
   ]
  },
  {
   "cell_type": "code",
   "execution_count": 152,
   "metadata": {},
   "outputs": [
    {
     "data": {
      "text/plain": [
       "0.7860372027552542"
      ]
     },
     "execution_count": 152,
     "metadata": {},
     "output_type": "execute_result"
    }
   ],
   "source": [
    "regr_1.score(X_test, y_test)"
   ]
  },
  {
   "cell_type": "code",
   "execution_count": 153,
   "metadata": {},
   "outputs": [
    {
     "data": {
      "text/plain": [
       "0.8805252066394172"
      ]
     },
     "execution_count": 153,
     "metadata": {},
     "output_type": "execute_result"
    }
   ],
   "source": [
    "regr_2.score(X_test, y_test)"
   ]
  },
  {
   "cell_type": "code",
   "execution_count": 154,
   "metadata": {},
   "outputs": [
    {
     "data": {
      "text/plain": [
       "0.990889234598776"
      ]
     },
     "execution_count": 154,
     "metadata": {},
     "output_type": "execute_result"
    }
   ],
   "source": [
    "rf.score(X_test, y_test)"
   ]
  },
  {
   "cell_type": "code",
   "execution_count": 155,
   "metadata": {},
   "outputs": [],
   "source": [
    "#Recommendation is to use Decision Tree Regressor \n",
    "#Random Forest Regressor is overfitting in this scenario\n"
   ]
  },
  {
   "cell_type": "code",
   "execution_count": 156,
   "metadata": {},
   "outputs": [],
   "source": [
    "#STANDARD DEVIATION"
   ]
  },
  {
   "cell_type": "code",
   "execution_count": 157,
   "metadata": {},
   "outputs": [
    {
     "data": {
      "text/plain": [
       "29.5937115179133"
      ]
     },
     "execution_count": 157,
     "metadata": {},
     "output_type": "execute_result"
    }
   ],
   "source": [
    "stdprc=targetprice.std()\n",
    "stdprc"
   ]
  },
  {
   "cell_type": "code",
   "execution_count": 158,
   "metadata": {},
   "outputs": [
    {
     "data": {
      "text/html": [
       "<div>\n",
       "<style scoped>\n",
       "    .dataframe tbody tr th:only-of-type {\n",
       "        vertical-align: middle;\n",
       "    }\n",
       "\n",
       "    .dataframe tbody tr th {\n",
       "        vertical-align: top;\n",
       "    }\n",
       "\n",
       "    .dataframe thead th {\n",
       "        text-align: right;\n",
       "    }\n",
       "</style>\n",
       "<table border=\"1\" class=\"dataframe\">\n",
       "  <thead>\n",
       "    <tr style=\"text-align: right;\">\n",
       "      <th></th>\n",
       "      <th>WTIPrice</th>\n",
       "      <th>GoldPrice</th>\n",
       "      <th>USDOLEX</th>\n",
       "      <th>djiClose</th>\n",
       "    </tr>\n",
       "    <tr>\n",
       "      <th>Date</th>\n",
       "      <th></th>\n",
       "      <th></th>\n",
       "      <th></th>\n",
       "      <th></th>\n",
       "    </tr>\n",
       "  </thead>\n",
       "  <tbody>\n",
       "    <tr>\n",
       "      <th>2018-12-17</th>\n",
       "      <td>49.80</td>\n",
       "      <td>1241.65</td>\n",
       "      <td>92.2268</td>\n",
       "      <td>23592.98047</td>\n",
       "    </tr>\n",
       "    <tr>\n",
       "      <th>2018-12-14</th>\n",
       "      <td>51.26</td>\n",
       "      <td>1235.35</td>\n",
       "      <td>92.4416</td>\n",
       "      <td>24100.50977</td>\n",
       "    </tr>\n",
       "    <tr>\n",
       "      <th>2018-12-13</th>\n",
       "      <td>52.69</td>\n",
       "      <td>1242.75</td>\n",
       "      <td>92.1438</td>\n",
       "      <td>24597.38086</td>\n",
       "    </tr>\n",
       "    <tr>\n",
       "      <th>2018-12-12</th>\n",
       "      <td>51.04</td>\n",
       "      <td>1245.75</td>\n",
       "      <td>92.0450</td>\n",
       "      <td>24527.26953</td>\n",
       "    </tr>\n",
       "    <tr>\n",
       "      <th>2018-11-12</th>\n",
       "      <td>51.65</td>\n",
       "      <td>1245.30</td>\n",
       "      <td>92.4447</td>\n",
       "      <td>24370.24023</td>\n",
       "    </tr>\n",
       "  </tbody>\n",
       "</table>\n",
       "</div>"
      ],
      "text/plain": [
       "            WTIPrice  GoldPrice  USDOLEX     djiClose\n",
       "Date                                                 \n",
       "2018-12-17     49.80    1241.65  92.2268  23592.98047\n",
       "2018-12-14     51.26    1235.35  92.4416  24100.50977\n",
       "2018-12-13     52.69    1242.75  92.1438  24597.38086\n",
       "2018-12-12     51.04    1245.75  92.0450  24527.26953\n",
       "2018-11-12     51.65    1245.30  92.4447  24370.24023"
      ]
     },
     "execution_count": 158,
     "metadata": {},
     "output_type": "execute_result"
    }
   ],
   "source": [
    "merged.head(5)"
   ]
  },
  {
   "cell_type": "code",
   "execution_count": 171,
   "metadata": {},
   "outputs": [
    {
     "data": {
      "text/html": [
       "<div>\n",
       "<style scoped>\n",
       "    .dataframe tbody tr th:only-of-type {\n",
       "        vertical-align: middle;\n",
       "    }\n",
       "\n",
       "    .dataframe tbody tr th {\n",
       "        vertical-align: top;\n",
       "    }\n",
       "\n",
       "    .dataframe thead th {\n",
       "        text-align: right;\n",
       "    }\n",
       "</style>\n",
       "<table border=\"1\" class=\"dataframe\">\n",
       "  <thead>\n",
       "    <tr style=\"text-align: right;\">\n",
       "      <th></th>\n",
       "      <th>Value</th>\n",
       "    </tr>\n",
       "    <tr>\n",
       "      <th>Date</th>\n",
       "      <th></th>\n",
       "    </tr>\n",
       "  </thead>\n",
       "  <tbody>\n",
       "    <tr>\n",
       "      <th>2018-12-17</th>\n",
       "      <td>1241.65</td>\n",
       "    </tr>\n",
       "    <tr>\n",
       "      <th>2018-12-14</th>\n",
       "      <td>1235.35</td>\n",
       "    </tr>\n",
       "    <tr>\n",
       "      <th>2018-12-13</th>\n",
       "      <td>1242.75</td>\n",
       "    </tr>\n",
       "    <tr>\n",
       "      <th>2018-12-12</th>\n",
       "      <td>1245.75</td>\n",
       "    </tr>\n",
       "    <tr>\n",
       "      <th>2018-11-12</th>\n",
       "      <td>1245.30</td>\n",
       "    </tr>\n",
       "  </tbody>\n",
       "</table>\n",
       "</div>"
      ],
      "text/plain": [
       "              Value\n",
       "Date               \n",
       "2018-12-17  1241.65\n",
       "2018-12-14  1235.35\n",
       "2018-12-13  1242.75\n",
       "2018-12-12  1245.75\n",
       "2018-11-12  1245.30"
      ]
     },
     "execution_count": 171,
     "metadata": {},
     "output_type": "execute_result"
    }
   ],
   "source": [
    "gold.head(5)"
   ]
  },
  {
   "cell_type": "code",
   "execution_count": 172,
   "metadata": {},
   "outputs": [],
   "source": [
    "WTINextDayPredict=regr_1.predict([[1257.6,95.25,19000]])\n"
   ]
  },
  {
   "cell_type": "code",
   "execution_count": 173,
   "metadata": {},
   "outputs": [
    {
     "data": {
      "text/plain": [
       "array([59.445266])"
      ]
     },
     "execution_count": 173,
     "metadata": {},
     "output_type": "execute_result"
    }
   ],
   "source": [
    "WTINextDayPredict"
   ]
  },
  {
   "cell_type": "code",
   "execution_count": 174,
   "metadata": {},
   "outputs": [],
   "source": [
    "WTINextDayPredict=regr_2.predict([[1257.6,95.25,19000]])"
   ]
  },
  {
   "cell_type": "code",
   "execution_count": 175,
   "metadata": {},
   "outputs": [
    {
     "data": {
      "text/plain": [
       "array([56.11483903])"
      ]
     },
     "execution_count": 175,
     "metadata": {},
     "output_type": "execute_result"
    }
   ],
   "source": [
    "WTINextDayPredict"
   ]
  },
  {
   "cell_type": "code",
   "execution_count": 176,
   "metadata": {},
   "outputs": [],
   "source": [
    "WTINextDayPredict=rf.predict([[1257.6,95.25,19000]])"
   ]
  },
  {
   "cell_type": "code",
   "execution_count": 177,
   "metadata": {},
   "outputs": [
    {
     "data": {
      "text/plain": [
       "array([47.86283])"
      ]
     },
     "execution_count": 177,
     "metadata": {},
     "output_type": "execute_result"
    }
   ],
   "source": [
    "WTINextDayPredict"
   ]
  },
  {
   "cell_type": "code",
   "execution_count": 178,
   "metadata": {},
   "outputs": [],
   "source": [
    "#_x_ is the standard deviation of the Diff between Open \n",
    "#and Close of sensex so this rang"
   ]
  },
  {
   "cell_type": "code",
   "execution_count": 179,
   "metadata": {},
   "outputs": [
    {
     "name": "stdout",
     "output_type": "stream",
     "text": [
      "WTI Next Day Price Prediction Likely to Close at:  [47.86283] (+-Standard Deviation)\n"
     ]
    }
   ],
   "source": [
    "print(\"WTI Next Day Price Prediction Likely to Close at: \",WTINextDayPredict , \"(+-Standard Deviation)\")"
   ]
  },
  {
   "cell_type": "code",
   "execution_count": 180,
   "metadata": {},
   "outputs": [
    {
     "name": "stdout",
     "output_type": "stream",
     "text": [
      "WTI Next Day Price:  [77.45654152]  &  [18.26911848]\n"
     ]
    }
   ],
   "source": [
    "print(\"WTI Next Day Price: \",WTINextDayPredict+stdprc , \" & \" , WTINextDayPredict-stdprc)\n"
   ]
  },
  {
   "cell_type": "markdown",
   "metadata": {},
   "source": [
    "# Finding how far I need to take historical data to improve my prediction"
   ]
  },
  {
   "cell_type": "code",
   "execution_count": 183,
   "metadata": {},
   "outputs": [],
   "source": [
    "##doing the same prediction for 10 years,7 years,5 years,3years,2years and \n",
    "##one year\n",
    "##I ploted the correlation and the prediction accuracy in \n",
    "##seperate excel sheet attached (Model_Evaluation_Analysis)\n"
   ]
  },
  {
   "cell_type": "code",
   "execution_count": null,
   "metadata": {},
   "outputs": [],
   "source": []
  },
  {
   "cell_type": "markdown",
   "metadata": {
    "collapsed": true
   },
   "source": [
    "# Autoregressive Integrated Moving Average Model"
   ]
  },
  {
   "cell_type": "code",
   "execution_count": 184,
   "metadata": {},
   "outputs": [],
   "source": [
    "from pandas import read_csv\n",
    "from pandas import datetime\n",
    "from matplotlib import pyplot\n",
    "from pandas.tools.plotting import autocorrelation_plot\n",
    " \n",
    "def parser(x):\n",
    "\treturn datetime.strptime('190'+x, '%Y-%m')\n",
    " "
   ]
  },
  {
   "cell_type": "code",
   "execution_count": 185,
   "metadata": {},
   "outputs": [],
   "source": [
    "from pandas import DataFrame\n",
    "from statsmodels.tsa.arima_model import ARIMA\n",
    "from matplotlib import pyplot\n",
    " \n",
    "def parser(x):\n",
    "\treturn datetime.strptime('190'+x, '%Y-%m')"
   ]
  },
  {
   "cell_type": "code",
   "execution_count": 186,
   "metadata": {},
   "outputs": [],
   "source": [
    "series = wti.head(5000)"
   ]
  },
  {
   "cell_type": "code",
   "execution_count": 187,
   "metadata": {},
   "outputs": [
    {
     "data": {
      "text/html": [
       "<div>\n",
       "<style scoped>\n",
       "    .dataframe tbody tr th:only-of-type {\n",
       "        vertical-align: middle;\n",
       "    }\n",
       "\n",
       "    .dataframe tbody tr th {\n",
       "        vertical-align: top;\n",
       "    }\n",
       "\n",
       "    .dataframe thead th {\n",
       "        text-align: right;\n",
       "    }\n",
       "</style>\n",
       "<table border=\"1\" class=\"dataframe\">\n",
       "  <thead>\n",
       "    <tr style=\"text-align: right;\">\n",
       "      <th></th>\n",
       "      <th>Value</th>\n",
       "    </tr>\n",
       "  </thead>\n",
       "  <tbody>\n",
       "    <tr>\n",
       "      <th>count</th>\n",
       "      <td>5000.000000</td>\n",
       "    </tr>\n",
       "    <tr>\n",
       "      <th>mean</th>\n",
       "      <td>60.239622</td>\n",
       "    </tr>\n",
       "    <tr>\n",
       "      <th>std</th>\n",
       "      <td>27.666358</td>\n",
       "    </tr>\n",
       "    <tr>\n",
       "      <th>min</th>\n",
       "      <td>11.380000</td>\n",
       "    </tr>\n",
       "    <tr>\n",
       "      <th>25%</th>\n",
       "      <td>34.577500</td>\n",
       "    </tr>\n",
       "    <tr>\n",
       "      <th>50%</th>\n",
       "      <td>57.580000</td>\n",
       "    </tr>\n",
       "    <tr>\n",
       "      <th>75%</th>\n",
       "      <td>82.785000</td>\n",
       "    </tr>\n",
       "    <tr>\n",
       "      <th>max</th>\n",
       "      <td>145.310000</td>\n",
       "    </tr>\n",
       "  </tbody>\n",
       "</table>\n",
       "</div>"
      ],
      "text/plain": [
       "             Value\n",
       "count  5000.000000\n",
       "mean     60.239622\n",
       "std      27.666358\n",
       "min      11.380000\n",
       "25%      34.577500\n",
       "50%      57.580000\n",
       "75%      82.785000\n",
       "max     145.310000"
      ]
     },
     "execution_count": 187,
     "metadata": {},
     "output_type": "execute_result"
    }
   ],
   "source": [
    "series.describe()"
   ]
  },
  {
   "cell_type": "code",
   "execution_count": 188,
   "metadata": {},
   "outputs": [
    {
     "name": "stderr",
     "output_type": "stream",
     "text": [
      "C:\\Users\\asua\\Anaconda3\\lib\\site-packages\\ipykernel_launcher.py:1: FutureWarning: 'pandas.tools.plotting.autocorrelation_plot' is deprecated, import 'pandas.plotting.autocorrelation_plot' instead.\n",
      "  \"\"\"Entry point for launching an IPython kernel.\n"
     ]
    },
    {
     "data": {
      "image/png": "[encoded data removed]",
      "text/plain": [
       "<Figure size 432x288 with 1 Axes>"
      ]
     },
     "metadata": {
      "needs_background": "light"
     },
     "output_type": "display_data"
    }
   ],
   "source": [
    "autocorrelation_plot(series)\n",
    "pyplot.show()"
   ]
  },
  {
   "cell_type": "markdown",
   "metadata": {
    "collapsed": true
   },
   "source": [
    "# fit model"
   ]
  },
  {
   "cell_type": "code",
   "execution_count": 189,
   "metadata": {},
   "outputs": [
    {
     "name": "stderr",
     "output_type": "stream",
     "text": [
      "C:\\Users\\asua\\Anaconda3\\lib\\site-packages\\statsmodels\\tsa\\base\\tsa_model.py:225: ValueWarning: A date index has been provided, but it has no associated frequency information and so will be ignored when e.g. forecasting.\n",
      "  ' ignored when e.g. forecasting.', ValueWarning)\n",
      "C:\\Users\\asua\\Anaconda3\\lib\\site-packages\\statsmodels\\tsa\\base\\tsa_model.py:225: ValueWarning: A date index has been provided, but it has no associated frequency information and so will be ignored when e.g. forecasting.\n",
      "  ' ignored when e.g. forecasting.', ValueWarning)\n"
     ]
    }
   ],
   "source": [
    "model = ARIMA(series, order=(5,1,0))"
   ]
  },
  {
   "cell_type": "code",
   "execution_count": 190,
   "metadata": {},
   "outputs": [
    {
     "name": "stderr",
     "output_type": "stream",
     "text": [
      "C:\\Users\\asua\\Anaconda3\\lib\\site-packages\\scipy\\signal\\signaltools.py:1341: FutureWarning: Using a non-tuple sequence for multidimensional indexing is deprecated; use `arr[tuple(seq)]` instead of `arr[seq]`. In the future this will be interpreted as an array index, `arr[np.array(seq)]`, which will result either in an error or a different result.\n",
      "  out_full[ind] += zi\n",
      "C:\\Users\\asua\\Anaconda3\\lib\\site-packages\\scipy\\signal\\signaltools.py:1344: FutureWarning: Using a non-tuple sequence for multidimensional indexing is deprecated; use `arr[tuple(seq)]` instead of `arr[seq]`. In the future this will be interpreted as an array index, `arr[np.array(seq)]`, which will result either in an error or a different result.\n",
      "  out = out_full[ind]\n",
      "C:\\Users\\asua\\Anaconda3\\lib\\site-packages\\scipy\\signal\\signaltools.py:1350: FutureWarning: Using a non-tuple sequence for multidimensional indexing is deprecated; use `arr[tuple(seq)]` instead of `arr[seq]`. In the future this will be interpreted as an array index, `arr[np.array(seq)]`, which will result either in an error or a different result.\n",
      "  zf = out_full[ind]\n"
     ]
    },
    {
     "name": "stdout",
     "output_type": "stream",
     "text": [
      "                             ARIMA Model Results                              \n",
      "==============================================================================\n",
      "Dep. Variable:                D.Value   No. Observations:                 4999\n",
      "Model:                 ARIMA(5, 1, 0)   Log Likelihood               -8798.399\n",
      "Method:                       css-mle   S.D. of innovations              1.406\n",
      "Date:                Tue, 15 Jan 2019   AIC                          17610.798\n",
      "Time:                        09:37:12   BIC                          17656.417\n",
      "Sample:                             1   HQIC                         17626.787\n",
      "                                                                              \n",
      "=================================================================================\n",
      "                    coef    std err          z      P>|z|      [0.025      0.975]\n",
      "---------------------------------------------------------------------------------\n",
      "const            -0.0076      0.019     -0.408      0.683      -0.044       0.029\n",
      "ar.L1.D.Value    -0.0469      0.014     -3.323      0.001      -0.075      -0.019\n",
      "ar.L2.D.Value    -0.0244      0.014     -1.727      0.084      -0.052       0.003\n",
      "ar.L3.D.Value     0.0264      0.014      1.868      0.062      -0.001       0.054\n",
      "ar.L4.D.Value     0.0275      0.014      1.942      0.052      -0.000       0.055\n",
      "ar.L5.D.Value    -0.0440      0.014     -3.114      0.002      -0.072      -0.016\n",
      "                                    Roots                                    \n",
      "=============================================================================\n",
      "                  Real          Imaginary           Modulus         Frequency\n",
      "-----------------------------------------------------------------------------\n",
      "AR.1           -1.8108           -0.0000j            1.8108           -0.5000\n",
      "AR.2           -0.4914           -1.6735j            1.7442           -0.2955\n",
      "AR.3           -0.4914           +1.6735j            1.7442            0.2955\n",
      "AR.4            1.7089           -1.0980j            2.0312           -0.0909\n",
      "AR.5            1.7089           +1.0980j            2.0312            0.0909\n",
      "-----------------------------------------------------------------------------\n"
     ]
    }
   ],
   "source": [
    "model_fit = model.fit(disp=0)\n",
    "print(model_fit.summary())"
   ]
  },
  {
   "cell_type": "code",
   "execution_count": 191,
   "metadata": {},
   "outputs": [],
   "source": [
    "# plot residual errors"
   ]
  },
  {
   "cell_type": "code",
   "execution_count": 192,
   "metadata": {},
   "outputs": [
    {
     "data": {
      "image/png": "[encoded data removed]",
      "text/plain": [
       "<Figure size 432x288 with 1 Axes>"
      ]
     },
     "metadata": {
      "needs_background": "light"
     },
     "output_type": "display_data"
    }
   ],
   "source": [
    "residuals = DataFrame(model_fit.resid)\n",
    "residuals.plot()\n",
    "pyplot.show()"
   ]
  },
  {
   "cell_type": "code",
   "execution_count": 193,
   "metadata": {},
   "outputs": [
    {
     "data": {
      "image/png": "[encoded data removed]",
      "text/plain": [
       "<Figure size 432x288 with 1 Axes>"
      ]
     },
     "metadata": {
      "needs_background": "light"
     },
     "output_type": "display_data"
    },
    {
     "name": "stdout",
     "output_type": "stream",
     "text": [
      "                 0\n",
      "count  4999.000000\n",
      "mean      0.000023\n",
      "std       1.406625\n",
      "min     -17.380013\n",
      "25%      -0.692122\n",
      "50%      -0.039731\n",
      "75%       0.663310\n",
      "max      14.092980\n"
     ]
    }
   ],
   "source": [
    "residuals.plot(kind='kde')\n",
    "pyplot.show()\n",
    "print(residuals.describe())"
   ]
  },
  {
   "cell_type": "markdown",
   "metadata": {},
   "source": [
    "The distribution of the residual errors is displayed.\n",
    "The results show that indeed there is No  bias in the prediction (a zero mean in the residuals)."
   ]
  },
  {
   "cell_type": "markdown",
   "metadata": {},
   "source": [
    "Rolling Forecast ARIMA Model"
   ]
  },
  {
   "cell_type": "code",
   "execution_count": 194,
   "metadata": {},
   "outputs": [],
   "source": [
    "from statsmodels.tsa.arima_model import ARIMA\n",
    "from sklearn.metrics import mean_squared_error\n",
    " "
   ]
  },
  {
   "cell_type": "code",
   "execution_count": 195,
   "metadata": {},
   "outputs": [],
   "source": [
    "X = series.values\n",
    "size = int(len(X) * 0.66)\n",
    "train, test = X[0:size], X[size:len(X)]\n",
    "history = [x for x in train]\n",
    "predictions = list()"
   ]
  },
  {
   "cell_type": "code",
   "execution_count": 196,
   "metadata": {},
   "outputs": [
    {
     "name": "stdout",
     "output_type": "stream",
     "text": [
      "predicted=58.332331, expected=57.750000\n",
      "predicted=57.873749, expected=56.300000\n",
      "predicted=56.368980, expected=56.200000\n",
      "predicted=56.180533, expected=57.850000\n",
      "predicted=57.723464, expected=57.050000\n",
      "predicted=57.026224, expected=57.600000\n",
      "predicted=57.707631, expected=57.450000\n",
      "predicted=57.474748, expected=57.800000\n",
      "predicted=57.709773, expected=59.650000\n",
      "predicted=59.607020, expected=59.700000\n",
      "predicted=59.636522, expected=59.400000\n",
      "predicted=59.487064, expected=60.600000\n",
      "predicted=60.596496, expected=61.700000\n",
      "predicted=61.534944, expected=59.750000\n",
      "predicted=59.839189, expected=59.850000\n",
      "predicted=59.979387, expected=59.800000\n",
      "predicted=59.723804, expected=61.300000\n",
      "predicted=61.132950, expected=61.030000\n",
      "predicted=61.095720, expected=60.850000\n",
      "predicted=60.906947, expected=62.830000\n",
      "predicted=62.786835, expected=60.630000\n",
      "predicted=60.605604, expected=61.050000\n",
      "predicted=61.155284, expected=61.040000\n",
      "predicted=61.033696, expected=62.110000\n",
      "predicted=61.924847, expected=62.940000\n",
      "predicted=62.987315, expected=64.260000\n",
      "predicted=64.196026, expected=62.610000\n",
      "predicted=62.713617, expected=63.050000\n",
      "predicted=63.091168, expected=64.130000\n",
      "predicted=64.026852, expected=63.840000\n",
      "predicted=63.736862, expected=60.710000\n",
      "predicted=60.984164, expected=61.810000\n",
      "predicted=61.846996, expected=61.810000\n",
      "predicted=61.635946, expected=62.560000\n",
      "predicted=62.480280, expected=63.740000\n",
      "predicted=63.842569, expected=65.360000\n",
      "predicted=65.232560, expected=66.210000\n",
      "predicted=66.192384, expected=66.830000\n",
      "predicted=66.834968, expected=66.360000\n",
      "predicted=66.391344, expected=64.940000\n",
      "predicted=64.991706, expected=65.980000\n",
      "predicted=65.939243, expected=64.670000\n",
      "predicted=64.625307, expected=67.070000\n",
      "predicted=67.006001, expected=66.960000\n",
      "predicted=66.967245, expected=66.240000\n",
      "predicted=66.266542, expected=67.210000\n",
      "predicted=67.313666, expected=62.910000\n",
      "predicted=62.962283, expected=64.640000\n",
      "predicted=64.680758, expected=65.200000\n",
      "predicted=65.067172, expected=63.180000\n",
      "predicted=63.157576, expected=63.290000\n",
      "predicted=63.592066, expected=64.210000\n",
      "predicted=64.046041, expected=64.800000\n",
      "predicted=64.675626, expected=64.380000\n",
      "predicted=64.508849, expected=65.830000\n",
      "predicted=65.814849, expected=66.910000\n",
      "predicted=66.790367, expected=69.500000\n",
      "predicted=69.362668, expected=68.630000\n",
      "predicted=68.704778, expected=69.910000\n",
      "predicted=69.922439, expected=67.410000\n",
      "predicted=67.504105, expected=66.050000\n",
      "predicted=66.080240, expected=67.290000\n",
      "predicted=67.269006, expected=67.100000\n",
      "predicted=66.917502, expected=65.810000\n",
      "predicted=65.991463, expected=65.460000\n",
      "predicted=65.602890, expected=65.510000\n",
      "predicted=65.422603, expected=63.470000\n",
      "predicted=63.532274, expected=63.290000\n",
      "predicted=63.402498, expected=66.110000\n",
      "predicted=65.939920, expected=66.210000\n",
      "predicted=66.073639, expected=66.710000\n",
      "predicted=66.860323, expected=65.670000\n",
      "predicted=65.801426, expected=64.800000\n",
      "predicted=64.765038, expected=63.130000\n",
      "predicted=63.213807, expected=63.920000\n",
      "predicted=63.852183, expected=62.440000\n",
      "predicted=62.467887, expected=61.600000\n",
      "predicted=61.697291, expected=60.760000\n",
      "predicted=60.876972, expected=61.870000\n",
      "predicted=61.739908, expected=61.510000\n",
      "predicted=61.521122, expected=60.710000\n",
      "predicted=60.807778, expected=59.910000\n",
      "predicted=60.029520, expected=59.120000\n",
      "predicted=59.096838, expected=59.050000\n",
      "predicted=59.045735, expected=58.160000\n",
      "predicted=58.196197, expected=57.750000\n",
      "predicted=57.805400, expected=57.310000\n",
      "predicted=57.349993, expected=56.730000\n",
      "predicted=56.736187, expected=57.610000\n",
      "predicted=57.599996, expected=57.120000\n",
      "predicted=57.112105, expected=58.360000\n",
      "predicted=58.345367, expected=57.830000\n",
      "predicted=57.863112, expected=60.000000\n",
      "predicted=59.896099, expected=60.490000\n",
      "predicted=60.458197, expected=59.230000\n",
      "predicted=59.275512, expected=59.710000\n",
      "predicted=59.820740, expected=60.760000\n",
      "predicted=60.580808, expected=61.240000\n",
      "predicted=61.151397, expected=59.710000\n",
      "predicted=59.875202, expected=59.110000\n",
      "predicted=59.202776, expected=56.630000\n",
      "predicted=56.685846, expected=57.230000\n",
      "predicted=57.182429, expected=58.320000\n",
      "predicted=58.233858, expected=59.780000\n",
      "predicted=59.661774, expected=59.630000\n",
      "predicted=59.763041, expected=59.230000\n",
      "predicted=59.301587, expected=58.270000\n",
      "predicted=58.315604, expected=58.900000\n",
      "predicted=58.816258, expected=59.190000\n",
      "predicted=59.131313, expected=58.400000\n",
      "predicted=58.441879, expected=56.480000\n",
      "predicted=56.661094, expected=55.530000\n",
      "predicted=55.581969, expected=55.030000\n",
      "predicted=54.988493, expected=55.470000\n",
      "predicted=55.417608, expected=53.550000\n",
      "predicted=53.673617, expected=54.360000\n",
      "predicted=54.411387, expected=52.510000\n",
      "predicted=52.557883, expected=53.840000\n",
      "predicted=53.771820, expected=54.460000\n",
      "predicted=54.454340, expected=55.080000\n",
      "predicted=54.986436, expected=53.460000\n",
      "predicted=53.660639, expected=54.400000\n",
      "predicted=54.372365, expected=52.080000\n",
      "predicted=52.113687, expected=51.650000\n",
      "predicted=51.679100, expected=50.890000\n",
      "predicted=50.971569, expected=50.370000\n",
      "predicted=50.292075, expected=49.140000\n",
      "predicted=49.280893, expected=48.680000\n",
      "predicted=48.712992, expected=47.250000\n",
      "predicted=47.311558, expected=47.000000\n",
      "predicted=47.018622, expected=46.990000\n",
      "predicted=46.996178, expected=48.970000\n",
      "predicted=48.848196, expected=48.640000\n",
      "predicted=48.665479, expected=48.650000\n",
      "predicted=48.723657, expected=48.830000\n",
      "predicted=48.869730, expected=50.390000\n",
      "predicted=50.213549, expected=51.760000\n",
      "predicted=51.679513, expected=52.040000\n",
      "predicted=52.044286, expected=51.300000\n",
      "predicted=51.404981, expected=51.120000\n",
      "predicted=51.124661, expected=50.220000\n",
      "predicted=50.192736, expected=49.600000\n",
      "predicted=49.610907, expected=50.940000\n",
      "predicted=50.894623, expected=49.200000\n",
      "predicted=49.215077, expected=51.920000\n",
      "predicted=51.890570, expected=51.370000\n",
      "predicted=51.352219, expected=54.330000\n",
      "predicted=54.164142, expected=53.160000\n",
      "predicted=53.296306, expected=54.160000\n",
      "predicted=54.078741, expected=52.490000\n",
      "predicted=52.633154, expected=52.450000\n",
      "predicted=52.345112, expected=52.330000\n",
      "predicted=52.376477, expected=50.520000\n",
      "predicted=50.514891, expected=50.610000\n",
      "predicted=50.716475, expected=51.110000\n",
      "predicted=51.033734, expected=50.210000\n",
      "predicted=50.197442, expected=51.540000\n",
      "predicted=51.593593, expected=53.710000\n",
      "predicted=53.562933, expected=53.460000\n",
      "predicted=53.412608, expected=54.160000\n",
      "predicted=54.272135, expected=55.880000\n",
      "predicted=55.779134, expected=55.830000\n",
      "predicted=55.708959, expected=56.860000\n",
      "predicted=56.893161, expected=57.260000\n",
      "predicted=57.238182, expected=55.310000\n",
      "predicted=55.345615, expected=53.960000\n",
      "predicted=54.111961, expected=54.260000\n",
      "predicted=54.186260, expected=54.060000\n",
      "predicted=53.951668, expected=49.700000\n",
      "predicted=49.972532, expected=49.430000\n",
      "predicted=49.603513, expected=55.950000\n",
      "predicted=55.501853, expected=56.700000\n",
      "predicted=56.374864, expected=56.800000\n",
      "predicted=57.155756, expected=56.400000\n",
      "predicted=56.646952, expected=56.500000\n",
      "predicted=56.226860, expected=55.050000\n",
      "predicted=55.074146, expected=54.900000\n",
      "predicted=54.930275, expected=54.400000\n",
      "predicted=54.411765, expected=53.520000\n",
      "predicted=53.522871, expected=54.750000\n",
      "predicted=54.766075, expected=54.550000\n",
      "predicted=54.499296, expected=53.900000\n",
      "predicted=53.967940, expected=53.700000\n",
      "predicted=53.799579, expected=53.600000\n",
      "predicted=53.528745, expected=53.000000\n",
      "predicted=53.016641, expected=51.670000\n",
      "predicted=51.770375, expected=51.750000\n",
      "predicted=51.769726, expected=52.200000\n",
      "predicted=52.128397, expected=52.050000\n",
      "predicted=52.037862, expected=51.730000\n",
      "predicted=51.827257, expected=51.000000\n",
      "predicted=51.048205, expected=48.450000\n",
      "predicted=48.552730, expected=47.500000\n",
      "predicted=47.583699, expected=48.350000\n",
      "predicted=48.257772, expected=47.300000\n",
      "predicted=47.260497, expected=47.500000\n",
      "predicted=47.632015, expected=47.150000\n",
      "predicted=47.202351, expected=47.050000\n",
      "predicted=46.996355, expected=45.450000\n",
      "predicted=45.572430, expected=45.400000\n",
      "predicted=45.417314, expected=45.350000\n",
      "predicted=45.322181, expected=46.450000\n",
      "predicted=46.354316, expected=46.400000\n",
      "predicted=46.447757, expected=46.650000\n",
      "predicted=46.669203, expected=47.100000\n",
      "predicted=47.105828, expected=48.250000\n",
      "predicted=48.137658, expected=47.150000\n",
      "predicted=47.194771, expected=48.800000\n",
      "predicted=48.781441, expected=48.800000\n",
      "predicted=48.742891, expected=49.430000\n",
      "predicted=49.356935, expected=48.610000\n",
      "predicted=48.735513, expected=48.310000\n",
      "predicted=48.281577, expected=47.010000\n",
      "predicted=47.074375, expected=47.610000\n",
      "predicted=47.549228, expected=48.460000\n",
      "predicted=48.400540, expected=48.410000\n",
      "predicted=48.382778, expected=48.110000\n",
      "predicted=48.227924, expected=46.460000\n",
      "predicted=46.539308, expected=45.660000\n",
      "predicted=45.685925, expected=45.310000\n",
      "predicted=45.293707, expected=45.320000\n",
      "predicted=45.270282, expected=45.510000\n",
      "predicted=45.545239, expected=43.410000\n",
      "predicted=43.529557, expected=43.960000\n",
      "predicted=44.004914, expected=42.160000\n",
      "predicted=42.178553, expected=43.360000\n",
      "predicted=43.286127, expected=43.690000\n",
      "predicted=43.712520, expected=41.780000\n",
      "predicted=41.812602, expected=41.260000\n",
      "predicted=41.457039, expected=42.190000\n",
      "predicted=42.058580, expected=44.050000\n",
      "predicted=43.851387, expected=45.760000\n",
      "predicted=45.732553, expected=45.570000\n",
      "predicted=45.637160, expected=46.310000\n",
      "predicted=46.335942, expected=44.160000\n",
      "predicted=44.199119, expected=44.210000\n",
      "predicted=44.190543, expected=41.760000\n",
      "predicted=41.846622, expected=41.060000\n",
      "predicted=41.050247, expected=40.710000\n",
      "predicted=40.779944, expected=42.410000\n",
      "predicted=42.244368, expected=41.960000\n",
      "predicted=42.026806, expected=41.510000\n",
      "predicted=41.605588, expected=42.960000\n",
      "predicted=42.955896, expected=42.560000\n",
      "predicted=42.436253, expected=43.310000\n",
      "predicted=43.327818, expected=45.560000\n",
      "predicted=45.489560, expected=49.160000\n",
      "predicted=48.881039, expected=49.710000\n",
      "predicted=49.702850, expected=49.140000\n",
      "predicted=49.277329, expected=48.740000\n",
      "predicted=48.783764, expected=48.480000\n",
      "predicted=48.329351, expected=48.900000\n",
      "predicted=48.833279, expected=46.300000\n",
      "predicted=46.416461, expected=46.850000\n",
      "predicted=46.906210, expected=46.100000\n",
      "predicted=46.078599, expected=46.950000\n",
      "predicted=46.843976, expected=47.300000\n",
      "predicted=47.385538, expected=47.500000\n",
      "predicted=47.455272, expected=48.700000\n",
      "predicted=48.710156, expected=47.400000\n",
      "predicted=47.406313, expected=49.100000\n",
      "predicted=49.070669, expected=49.650000\n",
      "predicted=49.578491, expected=48.800000\n",
      "predicted=48.774829, expected=50.900000\n",
      "predicted=50.947820, expected=49.600000\n",
      "predicted=49.526533, expected=50.100000\n",
      "predicted=50.110207, expected=51.780000\n",
      "predicted=51.756936, expected=50.950000\n",
      "predicted=50.828553, expected=52.520000\n",
      "predicted=52.585198, expected=56.370000\n",
      "predicted=56.160267, expected=55.520000\n",
      "predicted=55.413526, expected=55.830000\n",
      "predicted=56.025828, expected=54.510000\n",
      "predicted=54.577837, expected=54.930000\n",
      "predicted=54.745826, expected=53.280000\n",
      "predicted=53.362416, expected=53.590000\n",
      "predicted=53.572455, expected=54.890000\n",
      "predicted=54.854158, expected=54.690000\n",
      "predicted=54.613258, expected=53.860000\n",
      "predicted=54.026142, expected=53.490000\n",
      "predicted=53.543963, expected=53.650000\n",
      "predicted=53.562786, expected=53.400000\n",
      "predicted=53.385131, expected=52.560000\n",
      "predicted=52.638601, expected=51.980000\n",
      "predicted=52.041994, expected=51.080000\n",
      "predicted=51.098154, expected=49.850000\n",
      "predicted=49.899527, expected=50.160000\n",
      "predicted=50.172394, expected=49.560000\n",
      "predicted=49.549410, expected=49.530000\n",
      "predicted=49.560462, expected=49.760000\n",
      "predicted=49.800678, expected=49.560000\n",
      "predicted=49.531516, expected=48.860000\n",
      "predicted=48.930295, expected=48.370000\n",
      "predicted=48.410553, expected=48.410000\n",
      "predicted=48.383317, expected=47.110000\n",
      "predicted=47.144751, expected=46.330000\n",
      "predicted=46.414141, expected=45.630000\n",
      "predicted=45.667435, expected=44.030000\n",
      "predicted=44.056938, expected=43.830000\n",
      "predicted=43.892310, expected=44.620000\n",
      "predicted=44.559618, expected=43.860000\n",
      "predicted=43.857270, expected=42.840000\n",
      "predicted=42.992782, expected=44.530000\n",
      "predicted=44.484523, expected=42.770000\n",
      "predicted=42.724840, expected=43.180000\n",
      "predicted=43.251167, expected=43.940000\n",
      "predicted=43.941393, expected=44.040000\n",
      "predicted=43.897965, expected=43.890000\n",
      "predicted=44.008873, expected=42.230000\n",
      "predicted=42.313492, expected=42.320000\n",
      "predicted=42.313678, expected=43.110000\n",
      "predicted=43.014537, expected=43.060000\n",
      "predicted=43.004718, expected=43.830000\n",
      "predicted=43.895602, expected=45.680000\n",
      "predicted=45.592661, expected=46.000000\n",
      "predicted=45.925461, expected=47.600000\n",
      "predicted=47.594258, expected=48.660000\n",
      "predicted=48.601444, expected=47.360000\n",
      "predicted=47.362479, expected=46.750000\n",
      "predicted=46.865689, expected=46.020000\n",
      "predicted=45.983839, expected=46.610000\n",
      "predicted=46.494501, expected=45.520000\n",
      "predicted=45.579847, expected=44.720000\n",
      "predicted=44.803882, expected=44.510000\n",
      "predicted=44.556523, expected=44.860000\n",
      "predicted=44.766026, expected=43.950000\n",
      "predicted=44.005197, expected=44.390000\n",
      "predicted=44.429795, expected=42.730000\n",
      "predicted=42.789376, expected=44.130000\n",
      "predicted=44.069372, expected=43.830000\n",
      "predicted=43.821127, expected=43.720000\n",
      "predicted=43.700443, expected=42.690000\n",
      "predicted=42.848395, expected=42.810000\n",
      "predicted=42.747113, expected=41.830000\n",
      "predicted=41.853127, expected=41.450000\n",
      "predicted=41.465266, expected=41.820000\n",
      "predicted=41.833847, expected=41.510000\n",
      "predicted=41.469538, expected=40.630000\n",
      "predicted=40.720447, expected=40.860000\n",
      "predicted=40.885893, expected=41.550000\n",
      "predicted=41.459763, expected=41.100000\n",
      "predicted=41.098894, expected=40.700000\n",
      "predicted=40.793099, expected=40.980000\n",
      "predicted=40.969757, expected=39.550000\n",
      "predicted=39.550483, expected=39.300000\n",
      "predicted=39.357260, expected=39.900000\n",
      "predicted=39.862001, expected=40.270000\n",
      "predicted=40.175512, expected=39.180000\n",
      "predicted=39.296617, expected=39.560000\n",
      "predicted=39.602799, expected=38.370000\n",
      "predicted=38.365639, expected=38.560000\n",
      "predicted=38.535313, expected=36.920000\n",
      "predicted=37.018353, expected=35.600000\n",
      "predicted=35.645139, expected=36.250000\n",
      "predicted=36.260701, expected=37.340000\n",
      "predicted=37.178675, expected=37.810000\n",
      "predicted=37.818677, expected=37.560000\n",
      "predicted=37.669087, expected=38.110000\n",
      "predicted=38.100226, expected=37.690000\n",
      "predicted=37.648774, expected=38.680000\n",
      "predicted=38.625704, expected=38.510000\n",
      "predicted=38.509206, expected=37.330000\n",
      "predicted=37.373899, expected=37.180000\n",
      "predicted=37.252864, expected=37.580000\n",
      "predicted=37.476861, expected=38.450000\n",
      "predicted=38.367525, expected=37.600000\n",
      "predicted=37.679104, expected=37.180000\n",
      "predicted=37.257044, expected=38.720000\n",
      "predicted=38.637620, expected=38.440000\n",
      "predicted=38.338225, expected=39.290000\n",
      "predicted=39.323979, expected=39.960000\n",
      "predicted=39.963957, expected=42.330000\n",
      "predicted=42.146211, expected=39.900000\n",
      "predicted=40.015321, expected=39.250000\n",
      "predicted=39.374930, expected=40.600000\n",
      "predicted=40.519596, expected=41.450000\n",
      "predicted=41.175431, expected=42.030000\n",
      "predicted=42.114254, expected=39.830000\n",
      "predicted=40.009747, expected=40.920000\n",
      "predicted=40.894064, expected=41.610000\n",
      "predicted=41.468482, expected=40.320000\n",
      "predicted=40.299374, expected=41.530000\n",
      "predicted=41.653655, expected=41.420000\n",
      "predicted=41.329235, expected=40.940000\n",
      "predicted=40.925861, expected=40.300000\n",
      "predicted=40.431045, expected=40.300000\n",
      "predicted=40.239047, expected=38.900000\n",
      "predicted=38.936030, expected=39.980000\n",
      "predicted=39.961690, expected=39.410000\n",
      "predicted=39.400872, expected=39.690000\n",
      "predicted=39.675163, expected=38.860000\n",
      "predicted=38.971553, expected=38.260000\n",
      "predicted=38.244224, expected=37.310000\n",
      "predicted=37.376904, expected=37.500000\n",
      "predicted=37.454855, expected=37.230000\n",
      "predicted=37.229920, expected=37.490000\n",
      "predicted=37.485478, expected=37.020000\n",
      "predicted=37.075322, expected=37.220000\n",
      "predicted=37.207722, expected=37.700000\n",
      "predicted=37.676820, expected=36.610000\n",
      "predicted=36.626308, expected=37.610000\n",
      "predicted=37.624662, expected=37.460000\n",
      "predicted=37.416011, expected=37.700000\n",
      "predicted=37.661292, expected=37.740000\n",
      "predicted=37.805550, expected=36.620000\n",
      "predicted=36.623965, expected=37.090000\n",
      "predicted=37.104346, expected=37.790000\n",
      "predicted=37.702049, expected=37.140000\n",
      "predicted=37.129511, expected=36.280000\n",
      "predicted=36.416791, expected=35.090000\n",
      "predicted=35.142450, expected=34.290000\n",
      "predicted=34.274844, expected=34.390000\n",
      "predicted=34.371181, expected=34.470000\n",
      "predicted=34.442685, expected=35.750000\n",
      "predicted=35.718630, expected=36.150000\n",
      "predicted=36.140864, expected=35.410000\n",
      "predicted=35.464260, expected=35.610000\n",
      "predicted=35.657667, expected=35.670000\n",
      "predicted=35.590459, expected=37.060000\n",
      "predicted=36.954757, expected=37.810000\n",
      "predicted=37.781700, expected=37.120000\n",
      "predicted=37.162111, expected=38.090000\n",
      "predicted=38.114704, expected=37.810000\n",
      "predicted=37.736565, expected=38.210000\n",
      "predicted=38.165820, expected=37.360000\n",
      "predicted=37.440167, expected=37.440000\n",
      "predicted=37.409636, expected=36.210000\n",
      "predicted=36.263994, expected=36.950000\n",
      "predicted=36.897593, expected=36.210000\n",
      "predicted=36.233170, expected=36.290000\n",
      "predicted=36.279103, expected=36.530000\n",
      "predicted=36.571777, expected=37.310000\n",
      "predicted=37.210187, expected=36.810000\n",
      "predicted=36.855853, expected=35.800000\n",
      "predicted=35.879365, expected=36.600000\n",
      "predicted=36.579193, expected=36.850000\n",
      "predicted=36.738255, expected=36.080000\n",
      "predicted=36.122164, expected=35.450000\n",
      "predicted=35.570365, expected=37.280000\n",
      "predicted=37.153078, expected=35.850000\n",
      "predicted=35.821307, expected=35.750000\n",
      "predicted=35.850177, expected=35.800000\n",
      "predicted=35.840644, expected=35.810000\n",
      "predicted=35.673816, expected=35.420000\n",
      "predicted=35.499573, expected=35.130000\n",
      "predicted=35.154887, expected=34.510000\n",
      "predicted=34.529099, expected=34.030000\n",
      "predicted=34.042432, expected=33.930000\n",
      "predicted=33.933812, expected=34.030000\n",
      "predicted=34.005110, expected=32.910000\n",
      "predicted=32.968259, expected=32.490000\n",
      "predicted=32.552454, expected=33.260000\n",
      "predicted=33.205214, expected=33.060000\n",
      "predicted=32.997913, expected=34.200000\n",
      "predicted=34.206581, expected=34.020000\n",
      "predicted=34.035380, expected=33.160000\n",
      "predicted=33.189583, expected=32.860000\n",
      "predicted=32.927041, expected=33.630000\n",
      "predicted=33.513604, expected=33.990000\n",
      "predicted=33.925666, expected=34.410000\n",
      "predicted=34.429592, expected=34.940000\n",
      "predicted=34.947594, expected=35.120000\n",
      "predicted=35.081398, expected=35.530000\n",
      "predicted=35.512438, expected=36.210000\n",
      "predicted=36.165595, expected=35.160000\n",
      "predicted=35.182192, expected=33.610000\n",
      "predicted=33.724946, expected=34.620000\n",
      "predicted=34.575436, expected=34.260000\n",
      "predicted=34.144698, expected=34.920000\n",
      "predicted=34.923277, expected=34.380000\n",
      "predicted=34.478759, expected=34.270000\n",
      "predicted=34.243297, expected=33.570000\n",
      "predicted=33.622973, expected=33.540000\n",
      "predicted=33.502988, expected=33.710000\n",
      "predicted=33.701057, expected=32.510000\n",
      "predicted=32.542099, expected=33.010000\n",
      "predicted=33.044938, expected=32.510000\n",
      "predicted=32.491584, expected=32.990000\n",
      "predicted=32.943786, expected=32.030000\n",
      "predicted=32.117280, expected=31.710000\n",
      "predicted=31.716764, expected=32.810000\n",
      "predicted=32.771269, expected=33.720000\n",
      "predicted=33.587669, expected=33.360000\n",
      "predicted=33.416696, expected=32.940000\n",
      "predicted=33.035473, expected=33.170000\n",
      "predicted=33.130095, expected=33.060000\n",
      "predicted=32.991020, expected=32.010000\n",
      "predicted=32.068122, expected=31.920000\n",
      "predicted=31.966624, expected=31.720000\n",
      "predicted=31.684206, expected=32.080000\n",
      "predicted=32.033915, expected=30.680000\n",
      "predicted=30.774091, expected=31.240000\n",
      "predicted=31.247744, expected=30.610000\n",
      "predicted=30.604460, expected=30.740000\n",
      "predicted=30.699187, expected=29.890000\n",
      "predicted=29.987285, expected=30.330000\n",
      "predicted=30.281108, expected=30.020000\n",
      "predicted=30.029872, expected=29.990000\n",
      "predicted=29.973107, expected=32.260000\n",
      "predicted=32.191295, expected=32.870000\n",
      "predicted=32.754132, expected=32.840000\n",
      "predicted=32.897561, expected=33.160000\n",
      "predicted=33.226295, expected=31.750000\n",
      "predicted=31.716271, expected=32.310000\n",
      "predicted=32.289416, expected=31.890000\n",
      "predicted=31.865474, expected=31.370000\n",
      "predicted=31.357798, expected=31.210000\n",
      "predicted=31.295097, expected=31.010000\n",
      "predicted=30.965456, expected=30.730000\n",
      "predicted=30.742471, expected=30.250000\n",
      "predicted=30.287897, expected=30.290000\n",
      "predicted=30.287421, expected=28.860000\n",
      "predicted=28.909782, expected=28.810000\n",
      "predicted=28.838515, expected=29.240000\n",
      "predicted=29.199683, expected=28.670000\n",
      "predicted=28.636233, expected=28.950000\n",
      "predicted=29.020235, expected=29.570000\n",
      "predicted=29.527918, expected=29.950000\n",
      "predicted=29.883042, expected=29.990000\n",
      "predicted=30.025622, expected=30.310000\n",
      "predicted=30.303913, expected=30.000000\n",
      "predicted=29.985527, expected=30.190000\n",
      "predicted=30.174548, expected=30.370000\n",
      "predicted=30.350875, expected=30.610000\n",
      "predicted=30.570204, expected=31.510000\n",
      "predicted=31.481370, expected=31.740000\n",
      "predicted=31.706743, expected=31.680000\n",
      "predicted=31.695770, expected=31.910000\n",
      "predicted=31.916998, expected=32.010000\n",
      "predicted=31.958368, expected=30.970000\n",
      "predicted=31.005996, expected=29.600000\n",
      "predicted=29.695357, expected=30.480000\n",
      "predicted=30.427495, expected=30.400000\n",
      "predicted=30.306052, expected=30.370000\n",
      "predicted=30.399821, expected=29.830000\n",
      "predicted=29.938682, expected=29.430000\n",
      "predicted=29.411488, expected=29.190000\n",
      "predicted=29.192976, expected=28.350000\n",
      "predicted=28.364132, expected=28.210000\n",
      "predicted=28.236395, expected=28.290000\n",
      "predicted=28.272112, expected=28.190000\n",
      "predicted=28.169523, expected=27.000000\n",
      "predicted=27.089812, expected=26.970000\n",
      "predicted=26.998057, expected=26.930000\n",
      "predicted=26.887243, expected=27.260000\n",
      "predicted=27.207454, expected=27.000000\n",
      "predicted=27.052040, expected=27.600000\n",
      "predicted=27.580222, expected=28.150000\n",
      "predicted=28.108893, expected=28.260000\n",
      "predicted=28.229614, expected=28.860000\n",
      "predicted=28.867994, expected=29.410000\n",
      "predicted=29.356095, expected=29.220000\n",
      "predicted=29.204984, expected=28.850000\n",
      "predicted=28.893736, expected=28.930000\n",
      "predicted=28.911940, expected=28.870000\n",
      "predicted=28.823945, expected=29.430000\n",
      "predicted=29.399082, expected=29.570000\n",
      "predicted=29.563147, expected=31.760000\n",
      "predicted=31.657375, expected=31.410000\n",
      "predicted=31.395928, expected=31.180000\n",
      "predicted=31.231077, expected=32.010000\n",
      "predicted=32.019661, expected=31.430000\n",
      "predicted=31.315265, expected=31.640000\n",
      "predicted=31.670108, expected=31.780000\n",
      "predicted=31.783042, expected=30.960000\n",
      "predicted=30.940829, expected=30.760000\n",
      "predicted=30.819684, expected=30.810000\n",
      "predicted=30.778769, expected=31.010000\n",
      "predicted=30.957983, expected=30.850000\n",
      "predicted=30.881571, expected=30.850000\n",
      "predicted=30.864621, expected=31.910000\n",
      "predicted=31.853691, expected=31.910000\n",
      "predicted=31.867280, expected=32.230000\n",
      "predicted=32.246367, expected=32.410000\n",
      "predicted=32.420755, expected=31.770000\n",
      "predicted=31.750950, expected=32.340000\n",
      "predicted=32.336663, expected=31.800000\n",
      "predicted=31.780994, expected=32.230000\n",
      "predicted=32.205064, expected=30.560000\n",
      "predicted=30.657003, expected=30.690000\n",
      "predicted=30.684921, expected=30.210000\n",
      "predicted=30.217062, expected=29.980000\n",
      "predicted=29.930370, expected=30.310000\n",
      "predicted=30.362360, expected=30.720000\n",
      "predicted=30.661324, expected=30.130000\n",
      "predicted=30.168342, expected=30.200000\n",
      "predicted=30.236022, expected=31.670000\n",
      "predicted=31.573664, expected=31.960000\n",
      "predicted=31.873831, expected=31.440000\n",
      "predicted=31.523125, expected=31.200000\n",
      "predicted=31.266195, expected=31.600000\n",
      "predicted=31.507165, expected=31.200000\n",
      "predicted=31.169601, expected=31.330000\n",
      "predicted=31.355722, expected=31.040000\n",
      "predicted=31.057978, expected=30.870000\n",
      "predicted=30.852482, expected=30.320000\n",
      "predicted=30.359387, expected=30.080000\n",
      "predicted=30.079064, expected=30.390000\n",
      "predicted=30.368692, expected=30.290000\n",
      "predicted=30.267587, expected=30.410000\n",
      "predicted=30.428182, expected=30.150000\n",
      "predicted=30.172046, expected=29.180000\n",
      "predicted=29.212448, expected=28.970000\n",
      "predicted=28.997147, expected=31.650000\n",
      "predicted=31.481790, expected=30.050000\n",
      "predicted=30.038837, expected=30.220000\n",
      "predicted=30.354800, expected=30.630000\n",
      "predicted=30.646609, expected=29.860000\n",
      "predicted=29.715058, expected=30.280000\n",
      "predicted=30.362406, expected=31.080000\n",
      "predicted=31.009596, expected=31.140000\n",
      "predicted=31.083739, expected=30.630000\n",
      "predicted=30.718358, expected=31.410000\n",
      "predicted=31.384445, expected=32.170000\n",
      "predicted=32.061147, expected=31.720000\n",
      "predicted=31.723242, expected=31.360000\n",
      "predicted=31.450439, expected=31.260000\n",
      "predicted=31.241621, expected=30.840000\n",
      "predicted=30.798717, expected=29.810000\n",
      "predicted=29.871466, expected=30.780000\n",
      "predicted=30.753659, expected=30.720000\n",
      "predicted=30.659454, expected=29.560000\n",
      "predicted=29.628097, expected=29.150000\n",
      "predicted=29.265949, expected=28.460000\n",
      "predicted=28.417654, expected=29.240000\n",
      "predicted=29.169687, expected=29.740000\n",
      "predicted=29.715524, expected=29.090000\n",
      "predicted=29.124611, expected=29.510000\n",
      "predicted=29.567980, expected=29.290000\n",
      "predicted=29.245932, expected=28.840000\n",
      "predicted=28.830339, expected=29.070000\n",
      "predicted=29.100067, expected=28.570000\n",
      "predicted=28.544718, expected=29.210000\n",
      "predicted=29.188239, expected=28.510000\n",
      "predicted=28.537385, expected=27.340000\n",
      "predicted=27.398932, expected=27.650000\n",
      "predicted=27.678406, expected=26.940000\n",
      "predicted=26.878431, expected=26.240000\n",
      "predicted=26.290482, expected=25.650000\n",
      "predicted=25.731534, expected=26.430000\n",
      "predicted=26.344673, expected=25.740000\n",
      "predicted=25.745017, expected=26.050000\n",
      "predicted=26.081125, expected=26.090000\n",
      "predicted=26.105814, expected=25.320000\n",
      "predicted=25.301909, expected=25.250000\n",
      "predicted=25.306609, expected=25.920000\n",
      "predicted=25.848004, expected=27.520000\n",
      "predicted=27.394847, expected=28.040000\n",
      "predicted=28.024793, expected=29.920000\n",
      "predicted=29.880093, expected=30.760000\n",
      "predicted=30.702943, expected=30.100000\n",
      "predicted=30.100666, expected=29.160000\n",
      "predicted=29.268423, expected=29.460000\n",
      "predicted=29.379704, expected=28.410000\n",
      "predicted=28.362840, expected=28.280000\n",
      "predicted=28.316037, expected=27.200000\n",
      "predicted=27.272229, expected=28.930000\n",
      "predicted=28.816843, expected=27.970000\n",
      "predicted=27.987482, expected=27.760000\n",
      "predicted=27.807942, expected=28.410000\n",
      "predicted=28.452629, expected=29.050000\n",
      "predicted=28.883209, expected=28.550000\n",
      "predicted=28.611172, expected=29.480000\n",
      "predicted=29.487795, expected=31.140000\n",
      "predicted=31.008419, expected=30.210000\n",
      "predicted=30.193014, expected=30.310000\n",
      "predicted=30.418589, expected=28.710000\n",
      "predicted=28.758413, expected=33.420000\n",
      "predicted=33.117035, expected=29.510000\n",
      "predicted=29.604060, expected=27.180000\n",
      "predicted=27.456644, expected=28.620000\n",
      "predicted=28.705355, expected=30.010000\n",
      "predicted=29.492413, expected=31.550000\n",
      "predicted=31.585432, expected=34.920000\n",
      "predicted=34.906878, expected=35.410000\n",
      "predicted=35.319491, expected=36.050000\n",
      "predicted=36.076696, expected=37.870000\n",
      "predicted=37.805114, expected=36.810000\n",
      "predicted=36.689301, expected=37.180000\n",
      "predicted=37.229718, expected=37.760000\n",
      "predicted=37.713226, expected=37.210000\n",
      "predicted=37.113376, expected=36.860000\n",
      "predicted=36.963980, expected=36.950000\n",
      "predicted=36.933849, expected=36.100000\n",
      "predicted=36.082128, expected=36.760000\n",
      "predicted=36.761697, expected=36.830000\n",
      "predicted=36.803177, expected=37.960000\n",
      "predicted=37.889341, expected=36.060000\n",
      "predicted=36.186479, expected=37.290000\n",
      "predicted=37.270964, expected=36.760000\n",
      "predicted=36.731731, expected=36.450000\n",
      "predicted=36.398273, expected=37.020000\n",
      "predicted=37.107016, expected=36.880000\n",
      "predicted=36.787734, expected=36.610000\n",
      "predicted=36.655303, expected=36.630000\n",
      "predicted=36.659110, expected=35.830000\n",
      "predicted=35.826517, expected=35.430000\n",
      "predicted=35.463109, expected=34.460000\n",
      "predicted=34.503439, expected=35.050000\n",
      "predicted=35.002501, expected=34.360000\n",
      "predicted=34.375641, expected=33.910000\n",
      "predicted=33.950573, expected=33.610000\n",
      "predicted=33.674464, expected=32.840000\n",
      "predicted=32.818968, expected=33.510000\n",
      "predicted=33.500429, expected=33.780000\n",
      "predicted=33.738015, expected=33.540000\n",
      "predicted=33.552201, expected=32.700000\n",
      "predicted=32.806412, expected=32.430000\n",
      "predicted=32.426804, expected=34.980000\n",
      "predicted=34.811942, expected=33.900000\n",
      "predicted=33.871049, expected=34.320000\n",
      "predicted=34.423351, expected=34.620000\n",
      "predicted=34.649064, expected=33.880000\n",
      "predicted=33.765750, expected=33.580000\n",
      "predicted=33.679230, expected=33.230000\n",
      "predicted=33.217583, expected=32.420000\n",
      "predicted=32.419034, expected=32.080000\n",
      "predicted=32.126442, expected=31.590000\n",
      "predicted=31.597768, expected=31.950000\n",
      "predicted=31.921228, expected=30.660000\n",
      "predicted=30.725349, expected=31.200000\n",
      "predicted=31.208691, expected=32.290000\n",
      "predicted=32.215688, expected=33.260000\n",
      "predicted=33.143434, expected=31.970000\n",
      "predicted=32.116013, expected=31.210000\n",
      "predicted=31.306200, expected=31.410000\n",
      "predicted=31.352859, expected=32.680000\n",
      "predicted=32.502274, expected=32.610000\n",
      "predicted=32.623954, expected=32.130000\n",
      "predicted=32.228288, expected=32.090000\n",
      "predicted=32.124606, expected=30.570000\n",
      "predicted=30.566017, expected=30.570000\n",
      "predicted=30.587323, expected=30.410000\n",
      "predicted=30.391359, expected=30.040000\n",
      "predicted=30.013745, expected=30.150000\n",
      "predicted=30.214669, expected=28.390000\n",
      "predicted=28.454197, expected=28.200000\n",
      "predicted=28.243096, expected=27.490000\n",
      "predicted=27.494359, expected=27.730000\n",
      "predicted=27.665596, expected=27.290000\n",
      "predicted=27.357109, expected=27.030000\n",
      "predicted=27.041370, expected=27.270000\n",
      "predicted=27.285769, expected=26.800000\n",
      "predicted=26.780319, expected=27.340000\n",
      "predicted=27.337366, expected=27.270000\n",
      "predicted=27.261382, expected=26.870000\n",
      "predicted=26.875613, expected=26.600000\n",
      "predicted=26.652205, expected=27.010000\n",
      "predicted=26.951078, expected=27.730000\n",
      "predicted=27.662979, expected=27.070000\n",
      "predicted=27.102900, expected=27.000000\n",
      "predicted=27.057428, expected=26.410000\n",
      "predicted=26.418361, expected=26.710000\n",
      "predicted=26.647173, expected=25.500000\n",
      "predicted=25.559190, expected=25.400000\n",
      "predicted=25.419832, expected=25.280000\n",
      "predicted=25.284032, expected=26.190000\n",
      "predicted=26.088353, expected=26.020000\n",
      "predicted=26.052009, expected=25.830000\n",
      "predicted=25.863662, expected=25.360000\n",
      "predicted=25.409155, expected=25.720000\n",
      "predicted=25.653416, expected=26.060000\n",
      "predicted=26.017851, expected=26.890000\n",
      "predicted=26.840049, expected=27.040000\n",
      "predicted=27.050179, expected=27.180000\n",
      "predicted=27.180356, expected=26.850000\n",
      "predicted=26.870300, expected=26.810000\n",
      "predicted=26.782993, expected=27.250000\n",
      "predicted=27.211034, expected=27.090000\n",
      "predicted=27.064689, expected=27.870000\n",
      "predicted=27.855552, expected=28.190000\n",
      "predicted=28.161465, expected=27.930000\n",
      "predicted=27.926639, expected=28.310000\n",
      "predicted=28.330911, expected=29.560000\n",
      "predicted=29.449956, expected=29.610000\n",
      "predicted=29.562280, expected=29.280000\n",
      "predicted=29.348484, expected=29.730000\n",
      "predicted=29.730793, expected=30.060000\n",
      "predicted=29.962299, expected=29.360000\n",
      "predicted=29.382511, expected=28.960000\n",
      "predicted=29.028291, expected=29.310000\n",
      "predicted=29.265397, expected=29.560000\n",
      "predicted=29.486816, expected=29.650000\n",
      "predicted=29.665206, expected=29.650000\n",
      "predicted=29.678891, expected=29.730000\n",
      "predicted=29.714460, expected=30.590000\n",
      "predicted=30.531520, expected=30.710000\n",
      "predicted=30.677783, expected=30.590000\n",
      "predicted=30.614845, expected=30.530000\n",
      "predicted=30.556046, expected=30.310000\n",
      "predicted=30.277282, expected=30.690000\n",
      "predicted=30.660229, expected=30.790000\n",
      "predicted=30.769144, expected=30.850000\n",
      "predicted=30.846735, expected=29.650000\n",
      "predicted=29.727422, expected=29.490000\n",
      "predicted=29.506629, expected=29.570000\n",
      "predicted=29.527815, expected=29.080000\n",
      "predicted=29.053899, expected=29.140000\n",
      "predicted=29.196057, expected=29.830000\n",
      "predicted=29.785292, expected=28.950000\n",
      "predicted=28.956045, expected=29.770000\n",
      "predicted=29.787878, expected=29.620000\n",
      "predicted=29.596820, expected=29.800000\n",
      "predicted=29.753803, expected=29.510000\n",
      "predicted=29.576493, expected=29.060000\n",
      "predicted=29.045875, expected=28.280000\n",
      "predicted=28.327518, expected=27.760000\n",
      "predicted=27.767863, expected=28.970000\n",
      "predicted=28.894320, expected=28.830000\n",
      "predicted=28.787413, expected=28.310000\n",
      "predicted=28.388301, expected=28.840000\n",
      "predicted=28.876357, expected=29.230000\n",
      "predicted=29.117978, expected=29.990000\n",
      "predicted=29.944167, expected=30.110000\n",
      "predicted=30.132821, expected=30.370000\n",
      "predicted=30.357684, expected=30.120000\n",
      "predicted=30.129373, expected=29.860000\n",
      "predicted=29.848851, expected=29.240000\n",
      "predicted=29.266466, expected=28.990000\n",
      "predicted=28.984083, expected=28.190000\n",
      "predicted=28.216207, expected=28.350000\n",
      "predicted=28.341077, expected=27.840000\n",
      "predicted=27.855029, expected=26.870000\n",
      "predicted=26.915868, expected=26.670000\n",
      "predicted=26.723365, expected=26.580000\n",
      "predicted=26.532845, expected=27.180000\n",
      "predicted=27.135556, expected=26.550000\n",
      "predicted=26.598451, expected=26.870000\n",
      "predicted=26.885825, expected=26.510000\n",
      "predicted=26.519142, expected=27.020000\n",
      "predicted=26.958994, expected=27.430000\n",
      "predicted=27.421253, expected=26.540000\n",
      "predicted=26.557744, expected=26.550000\n",
      "predicted=26.607011, expected=26.670000\n",
      "predicted=26.621349, expected=26.780000\n",
      "predicted=26.720487, expected=26.610000\n",
      "predicted=26.655060, expected=26.610000\n",
      "predicted=26.614066, expected=27.830000\n",
      "predicted=27.756652, expected=27.500000\n",
      "predicted=27.473072, expected=27.880000\n",
      "predicted=27.905117, expected=27.680000\n",
      "predicted=27.703012, expected=27.230000\n",
      "predicted=27.195181, expected=27.480000\n",
      "predicted=27.492963, expected=27.010000\n",
      "predicted=26.985633, expected=26.730000\n",
      "predicted=26.751416, expected=26.160000\n",
      "predicted=26.203663, expected=26.140000\n",
      "predicted=26.114118, expected=26.820000\n",
      "predicted=26.778131, expected=26.830000\n",
      "predicted=26.803769, expected=26.790000\n",
      "predicted=26.830853, expected=26.790000\n",
      "predicted=26.806511, expected=26.770000\n",
      "predicted=26.732702, expected=26.670000\n",
      "predicted=26.667828, expected=26.060000\n",
      "predicted=26.087775, expected=26.310000\n",
      "predicted=26.301807, expected=25.510000\n",
      "predicted=25.518750, expected=25.620000\n",
      "predicted=25.619681, expected=25.570000\n",
      "predicted=25.577083, expected=25.360000\n",
      "predicted=25.332912, expected=25.980000\n",
      "predicted=25.986717, expected=25.900000\n",
      "predicted=25.871488, expected=25.540000\n",
      "predicted=25.567029, expected=24.790000\n",
      "predicted=24.854954, expected=24.210000\n",
      "predicted=24.207789, expected=24.240000\n",
      "predicted=24.216830, expected=24.720000\n",
      "predicted=24.667138, expected=24.890000\n",
      "predicted=24.882811, expected=25.020000\n",
      "predicted=25.044678, expected=25.320000\n",
      "predicted=25.313590, expected=25.100000\n",
      "predicted=25.084334, expected=25.370000\n",
      "predicted=25.359672, expected=24.780000\n",
      "predicted=24.793610, expected=25.640000\n",
      "predicted=25.591332, expected=25.080000\n",
      "predicted=25.084096, expected=26.690000\n",
      "predicted=26.610097, expected=26.600000\n",
      "predicted=26.600263, expected=27.010000\n",
      "predicted=26.974001, expected=27.350000\n",
      "predicted=27.389768, expected=28.240000\n",
      "predicted=28.116583, expected=28.190000\n",
      "predicted=28.193342, expected=28.000000\n",
      "predicted=28.021064, expected=28.170000\n",
      "predicted=28.169688, expected=29.170000\n",
      "predicted=29.063021, expected=28.620000\n",
      "predicted=28.621306, expected=27.920000\n",
      "predicted=28.003449, expected=27.780000\n",
      "predicted=27.803678, expected=27.760000\n",
      "predicted=27.675919, expected=26.790000\n",
      "predicted=26.833504, expected=26.110000\n",
      "predicted=26.187042, expected=26.750000\n",
      "predicted=26.706071, expected=26.310000\n",
      "predicted=26.264331, expected=26.580000\n",
      "predicted=26.613002, expected=27.320000\n",
      "predicted=27.310024, expected=27.450000\n",
      "predicted=27.385958, expected=27.120000\n",
      "predicted=27.177226, expected=26.360000\n",
      "predicted=26.412520, expected=26.280000\n",
      "predicted=26.255054, expected=26.280000\n",
      "predicted=26.238527, expected=26.280000\n",
      "predicted=26.264323, expected=26.430000\n",
      "predicted=26.449628, expected=25.860000\n",
      "predicted=25.882694, expected=25.940000\n",
      "predicted=25.946830, expected=24.920000\n",
      "predicted=24.951244, expected=24.530000\n",
      "predicted=24.543714, expected=23.510000\n",
      "predicted=23.562987, expected=24.930000\n",
      "predicted=24.830148, expected=26.150000\n",
      "predicted=26.059401, expected=25.450000\n",
      "predicted=25.478570, expected=26.160000\n",
      "predicted=26.258432, expected=26.210000\n",
      "predicted=26.136482, expected=26.640000\n",
      "predicted=26.553701, expected=27.550000\n",
      "predicted=27.544712, expected=27.750000\n",
      "predicted=27.694879, expected=26.820000\n",
      "predicted=26.891988, expected=26.210000\n",
      "predicted=26.267845, expected=25.790000\n",
      "predicted=25.756024, expected=25.750000\n",
      "predicted=25.701170, expected=25.690000\n",
      "predicted=25.701125, expected=25.560000\n",
      "predicted=25.576384, expected=25.740000\n",
      "predicted=25.744555, expected=24.920000\n",
      "predicted=24.946872, expected=25.020000\n",
      "predicted=25.030941, expected=25.030000\n",
      "predicted=25.009562, expected=24.470000\n",
      "predicted=24.461155, expected=24.480000\n",
      "predicted=24.526947, expected=24.140000\n",
      "predicted=24.130192, expected=24.550000\n",
      "predicted=24.513929, expected=24.360000\n",
      "predicted=24.370736, expected=23.870000\n",
      "predicted=23.892879, expected=23.620000\n",
      "predicted=23.659426, expected=23.320000\n",
      "predicted=23.295391, expected=23.180000\n",
      "predicted=23.174117, expected=22.550000\n",
      "predicted=22.584393, expected=22.370000\n",
      "predicted=22.384719, expected=21.780000\n",
      "predicted=21.798300, expected=21.400000\n",
      "predicted=21.407361, expected=21.370000\n",
      "predicted=21.380041, expected=20.240000\n",
      "predicted=20.269252, expected=20.920000\n",
      "predicted=20.919047, expected=20.810000\n",
      "predicted=20.778154, expected=20.310000\n",
      "predicted=20.316569, expected=20.770000\n",
      "predicted=20.820414, expected=21.470000\n",
      "predicted=21.369085, expected=21.190000\n",
      "predicted=21.184326, expected=21.190000\n",
      "predicted=21.245670, expected=20.760000\n",
      "predicted=20.765810, expected=21.290000\n",
      "predicted=21.225250, expected=20.250000\n",
      "predicted=20.283518, expected=19.750000\n",
      "predicted=19.792350, expected=19.770000\n",
      "predicted=19.779104, expected=20.060000\n",
      "predicted=19.967920, expected=20.020000\n",
      "predicted=20.041924, expected=20.400000\n",
      "predicted=20.406601, expected=19.710000\n",
      "predicted=19.734999, expected=19.110000\n",
      "predicted=19.143427, expected=19.300000\n",
      "predicted=19.290080, expected=20.050000\n",
      "predicted=19.946002, expected=19.800000\n",
      "predicted=19.807620, expected=19.570000\n",
      "predicted=19.633958, expected=19.100000\n",
      "predicted=19.127451, expected=18.360000\n",
      "predicted=18.350625, expected=18.020000\n",
      "predicted=18.036890, expected=18.200000\n",
      "predicted=18.166624, expected=18.960000\n",
      "predicted=18.900838, expected=18.990000\n",
      "predicted=18.993160, expected=18.880000\n",
      "predicted=18.919451, expected=19.670000\n",
      "predicted=19.640942, expected=20.480000\n",
      "predicted=20.377576, expected=20.320000\n",
      "predicted=20.320006, expected=20.820000\n",
      "predicted=20.843033, expected=21.420000\n",
      "predicted=21.355264, expected=21.470000\n",
      "predicted=21.418827, expected=20.650000\n",
      "predicted=20.721480, expected=21.130000\n",
      "predicted=21.113500, expected=19.960000\n",
      "predicted=19.950516, expected=20.420000\n",
      "predicted=20.402301, expected=21.070000\n",
      "predicted=21.040045, expected=21.320000\n",
      "predicted=21.241671, expected=19.300000\n",
      "predicted=19.473682, expected=18.670000\n",
      "predicted=18.743684, expected=19.370000\n",
      "predicted=19.262892, expected=19.380000\n",
      "predicted=19.266164, expected=19.280000\n",
      "predicted=19.371543, expected=19.310000\n",
      "predicted=19.353831, expected=18.200000\n",
      "predicted=18.211503, expected=18.380000\n",
      "predicted=18.385589, expected=18.040000\n",
      "predicted=18.019546, expected=18.320000\n",
      "predicted=18.276184, expected=19.080000\n",
      "predicted=19.075851, expected=18.690000\n",
      "predicted=18.673809, expected=19.620000\n",
      "predicted=19.620429, expected=19.710000\n",
      "predicted=19.676152, expected=20.270000\n",
      "predicted=20.211927, expected=19.460000\n",
      "predicted=19.528663, expected=18.550000\n",
      "predicted=18.580665, expected=19.370000\n",
      "predicted=19.332276, expected=19.570000\n",
      "predicted=19.458691, expected=18.690000\n",
      "predicted=18.754505, expected=18.380000\n",
      "predicted=18.479750, expected=18.710000\n",
      "predicted=18.636500, expected=17.740000\n",
      "predicted=17.728414, expected=18.090000\n",
      "predicted=18.127329, expected=17.500000\n",
      "predicted=17.510663, expected=19.630000\n",
      "predicted=19.494829, expected=21.560000\n",
      "predicted=21.448740, expected=21.260000\n",
      "predicted=21.249520, expected=22.230000\n",
      "predicted=22.326813, expected=21.210000\n",
      "predicted=21.182153, expected=20.110000\n",
      "predicted=20.108425, expected=19.930000\n",
      "predicted=19.970296, expected=20.000000\n",
      "predicted=19.887676, expected=20.240000\n",
      "predicted=20.229415, expected=20.470000\n",
      "predicted=20.493797, expected=21.200000\n",
      "predicted=21.168822, expected=21.830000\n",
      "predicted=21.785814, expected=22.100000\n",
      "predicted=22.081558, expected=22.070000\n",
      "predicted=22.086727, expected=21.750000\n",
      "predicted=21.751431, expected=22.000000\n",
      "predicted=21.965726, expected=21.280000\n",
      "predicted=21.280548, expected=21.780000\n",
      "predicted=21.763480, expected=21.990000\n",
      "predicted=21.963866, expected=21.330000\n",
      "predicted=21.332039, expected=21.890000\n",
      "predicted=21.924194, expected=22.010000\n",
      "predicted=21.949198, expected=22.370000\n",
      "predicted=22.329277, expected=22.490000\n",
      "predicted=22.519685, expected=23.490000\n",
      "predicted=23.418901, expected=22.510000\n",
      "predicted=22.537644, expected=22.550000\n",
      "predicted=22.577675, expected=22.250000\n",
      "predicted=22.253641, expected=22.320000\n",
      "predicted=22.242269, expected=22.700000\n",
      "predicted=22.711522, expected=22.170000\n",
      "predicted=22.172257, expected=22.700000\n",
      "predicted=22.705477, expected=23.120000\n",
      "predicted=23.073946, expected=23.440000\n",
      "predicted=23.389840, expected=22.800000\n",
      "predicted=22.869694, expected=22.400000\n",
      "predicted=22.423802, expected=21.630000\n",
      "predicted=21.642125, expected=21.460000\n",
      "predicted=21.433981, expected=25.460000\n",
      "predicted=25.256979, expected=26.600000\n",
      "predicted=26.439751, expected=26.730000\n",
      "predicted=26.832728, expected=27.810000\n",
      "predicted=27.903627, expected=28.840000\n",
      "predicted=28.610612, expected=29.590000\n",
      "predicted=29.506866, expected=28.580000\n",
      "predicted=28.661515, expected=27.640000\n",
      "predicted=27.703621, expected=27.650000\n",
      "predicted=27.611235, expected=27.660000\n",
      "predicted=27.563572, expected=27.990000\n",
      "predicted=27.988154, expected=27.540000\n",
      "predicted=27.593162, expected=27.030000\n",
      "predicted=27.068285, expected=26.940000\n",
      "predicted=26.946947, expected=26.650000\n",
      "predicted=26.617954, expected=26.650000\n",
      "predicted=26.654320, expected=27.070000\n",
      "predicted=27.057000, expected=27.160000\n",
      "predicted=27.136386, expected=26.690000\n",
      "predicted=26.730221, expected=28.340000\n",
      "predicted=28.279710, expected=25.630000\n",
      "predicted=25.690503, expected=27.170000\n",
      "predicted=27.175869, expected=27.930000\n",
      "predicted=27.847177, expected=27.200000\n",
      "predicted=27.101874, expected=26.650000\n",
      "predicted=26.879307, expected=27.470000\n",
      "predicted=27.366575, expected=27.510000\n",
      "predicted=27.412226, expected=28.100000\n",
      "predicted=28.105313, expected=27.850000\n",
      "predicted=27.894255, expected=28.120000\n",
      "predicted=28.086506, expected=27.720000\n",
      "predicted=27.736735, expected=27.620000\n",
      "predicted=27.601354, expected=28.170000\n",
      "predicted=28.148072, expected=27.700000\n",
      "predicted=27.678601, expected=27.510000\n",
      "predicted=27.555479, expected=27.860000\n",
      "predicted=27.849142, expected=26.830000\n",
      "predicted=26.823132, expected=26.700000\n",
      "predicted=26.749991, expected=26.600000\n",
      "predicted=26.592467, expected=26.980000\n",
      "predicted=26.908070, expected=26.740000\n",
      "predicted=26.778962, expected=26.710000\n",
      "predicted=26.724964, expected=26.180000\n",
      "predicted=26.210200, expected=25.880000\n",
      "predicted=25.875500, expected=25.670000\n",
      "predicted=25.676760, expected=24.650000\n",
      "predicted=24.676684, expected=24.650000\n",
      "predicted=24.676706, expected=25.330000\n",
      "predicted=25.269761, expected=26.020000\n",
      "predicted=25.944959, expected=26.570000\n",
      "predicted=26.588002, expected=26.850000\n",
      "predicted=26.857193, expected=27.070000\n",
      "predicted=27.051080, expected=27.220000\n",
      "predicted=27.193895, expected=27.630000\n",
      "predicted=27.589760, expected=28.100000\n",
      "predicted=28.059968, expected=27.070000\n",
      "predicted=27.110402, expected=26.280000\n",
      "predicted=26.354362, expected=26.020000\n",
      "predicted=26.010674, expected=26.370000\n",
      "predicted=26.279263, expected=25.750000\n",
      "predicted=25.784554, expected=25.670000\n",
      "predicted=25.720867, expected=26.970000\n",
      "predicted=26.907155, expected=27.110000\n",
      "predicted=27.031841, expected=27.020000\n",
      "predicted=27.078514, expected=26.850000\n",
      "predicted=26.900221, expected=26.520000\n",
      "predicted=26.475515, expected=27.490000\n",
      "predicted=27.430366, expected=27.550000\n",
      "predicted=27.509879, expected=28.520000\n",
      "predicted=28.490958, expected=29.120000\n",
      "predicted=29.108818, expected=28.810000\n",
      "predicted=28.790443, expected=29.130000\n",
      "predicted=29.158215, expected=28.940000\n",
      "predicted=28.900882, expected=28.430000\n",
      "predicted=28.426321, expected=27.910000\n",
      "predicted=27.960104, expected=27.560000\n",
      "predicted=27.548936, expected=27.840000\n",
      "predicted=27.808376, expected=28.140000\n",
      "predicted=28.112667, expected=27.880000\n",
      "predicted=27.902602, expected=28.390000\n",
      "predicted=28.398258, expected=28.710000\n",
      "predicted=28.666140, expected=28.760000\n",
      "predicted=28.738048, expected=28.080000\n",
      "predicted=28.142824, expected=27.970000\n",
      "predicted=27.972339, expected=28.850000\n",
      "predicted=28.771796, expected=29.750000\n",
      "predicted=29.656107, expected=29.960000\n",
      "predicted=29.977464, expected=29.900000\n",
      "predicted=29.948925, expected=29.020000\n",
      "predicted=29.050449, expected=28.770000\n",
      "predicted=28.759625, expected=28.900000\n",
      "predicted=28.858428, expected=28.830000\n",
      "predicted=28.796006, expected=28.590000\n",
      "predicted=28.635482, expected=28.500000\n",
      "predicted=28.518108, expected=28.390000\n",
      "predicted=28.377593, expected=27.350000\n",
      "predicted=27.391936, expected=27.790000\n",
      "predicted=27.792040, expected=28.410000\n",
      "predicted=28.336743, expected=28.660000\n",
      "predicted=28.615985, expected=27.890000\n",
      "predicted=27.994940, expected=28.370000\n",
      "predicted=28.363070, expected=28.480000\n",
      "predicted=28.415778, expected=28.350000\n",
      "predicted=28.328149, expected=28.470000\n",
      "predicted=28.514592, expected=25.930000\n",
      "predicted=26.023730, expected=25.240000\n",
      "predicted=25.319765, expected=26.970000\n",
      "predicted=26.834880, expected=27.000000\n",
      "predicted=26.855678, expected=27.920000\n",
      "predicted=28.014429, expected=27.830000\n",
      "predicted=27.890021, expected=27.890000\n",
      "predicted=27.830012, expected=28.810000\n",
      "predicted=28.780810, expected=28.750000\n",
      "predicted=28.683574, expected=28.420000\n",
      "predicted=28.463631, expected=28.470000\n",
      "predicted=28.491766, expected=27.450000\n",
      "predicted=27.440333, expected=27.070000\n",
      "predicted=27.101299, expected=27.240000\n",
      "predicted=27.223491, expected=27.160000\n",
      "predicted=27.112907, expected=26.650000\n",
      "predicted=26.712217, expected=25.700000\n",
      "predicted=25.772528, expected=26.370000\n",
      "predicted=26.329176, expected=26.470000\n",
      "predicted=26.407141, expected=26.430000\n",
      "predicted=26.438989, expected=27.620000\n",
      "predicted=27.622847, expected=27.400000\n",
      "predicted=27.349019, expected=27.310000\n",
      "predicted=27.341227, expected=26.190000\n",
      "predicted=26.270821, expected=26.430000\n",
      "predicted=26.374755, expected=25.990000\n",
      "predicted=25.977215, expected=26.170000\n",
      "predicted=26.144587, expected=26.680000\n",
      "predicted=26.691737, expected=26.560000\n",
      "predicted=26.530101, expected=26.490000\n",
      "predicted=26.530028, expected=27.450000\n",
      "predicted=27.402002, expected=27.910000\n",
      "predicted=27.831390, expected=27.970000\n",
      "predicted=27.981316, expected=28.310000\n",
      "predicted=28.329954, expected=28.950000\n",
      "predicted=28.876321, expected=28.400000\n",
      "predicted=28.397039, expected=28.610000\n",
      "predicted=28.631770, expected=27.890000\n",
      "predicted=27.902564, expected=27.780000\n",
      "predicted=27.757213, expected=27.350000\n",
      "predicted=27.379789, expected=28.260000\n",
      "predicted=28.186876, expected=28.270000\n",
      "predicted=28.262019, expected=28.830000\n",
      "predicted=28.815212, expected=28.520000\n",
      "predicted=28.563408, expected=28.640000\n",
      "predicted=28.609619, expected=28.600000\n",
      "predicted=28.601113, expected=29.220000\n",
      "predicted=29.154137, expected=28.960000\n",
      "predicted=28.970383, expected=29.550000\n",
      "predicted=29.532423, expected=30.120000\n",
      "predicted=30.086298, expected=30.520000\n",
      "predicted=30.462929, expected=30.930000\n",
      "predicted=30.940842, expected=31.570000\n",
      "predicted=31.524945, expected=31.270000\n",
      "predicted=31.262044, expected=30.270000\n",
      "predicted=30.331791, expected=30.550000\n",
      "predicted=30.545358, expected=31.270000\n",
      "predicted=31.158301, expected=29.880000\n",
      "predicted=29.920182, expected=28.620000\n",
      "predicted=28.782680, expected=29.120000\n",
      "predicted=29.088881, expected=29.070000\n",
      "predicted=28.948071, expected=29.790000\n",
      "predicted=29.793422, expected=31.610000\n",
      "predicted=31.571946, expected=31.460000\n",
      "predicted=31.416329, expected=31.660000\n",
      "predicted=31.722203, expected=32.210000\n",
      "predicted=32.188232, expected=32.120000\n",
      "predicted=32.024027, expected=30.420000\n",
      "predicted=30.528290, expected=29.770000\n",
      "predicted=29.839603, expected=30.190000\n",
      "predicted=30.104684, expected=30.070000\n",
      "predicted=29.999693, expected=29.420000\n",
      "predicted=29.522455, expected=29.420000\n",
      "predicted=29.469259, expected=27.720000\n",
      "predicted=27.756508, expected=27.440000\n",
      "predicted=27.474484, expected=28.020000\n",
      "predicted=27.976528, expected=27.950000\n",
      "predicted=27.879020, expected=27.930000\n",
      "predicted=28.015086, expected=27.290000\n",
      "predicted=27.343841, expected=26.720000\n",
      "predicted=26.727389, expected=25.820000\n",
      "predicted=25.856141, expected=26.550000\n",
      "predicted=26.496852, expected=27.000000\n",
      "predicted=26.944966, expected=26.160000\n",
      "predicted=26.206133, expected=26.060000\n",
      "predicted=26.153756, expected=25.830000\n",
      "predicted=25.793369, expected=29.340000\n",
      "predicted=29.122082, expected=29.520000\n",
      "predicted=29.455054, expected=28.860000\n",
      "predicted=28.976781, expected=28.060000\n",
      "predicted=28.224433, expected=28.750000\n",
      "predicted=28.555178, expected=29.810000\n",
      "predicted=29.688955, expected=29.750000\n",
      "predicted=29.749114, expected=28.310000\n",
      "predicted=28.461037, expected=29.360000\n",
      "predicted=29.335623, expected=30.240000\n",
      "predicted=30.078752, expected=29.250000\n",
      "predicted=29.261671, expected=31.280000\n",
      "predicted=31.320080, expected=32.060000\n",
      "predicted=31.919640, expected=33.610000\n",
      "predicted=33.498929, expected=34.580000\n",
      "predicted=34.618379, expected=34.020000\n",
      "predicted=33.992772, expected=36.240000\n",
      "predicted=36.178590, expected=36.060000\n",
      "predicted=35.956552, expected=36.060000\n",
      "predicted=36.062463, expected=35.540000\n",
      "predicted=35.646436, expected=35.980000\n",
      "predicted=35.861933, expected=35.620000\n",
      "predicted=35.617778, expected=34.840000\n",
      "predicted=34.879778, expected=35.540000\n",
      "predicted=35.547065, expected=34.720000\n",
      "predicted=34.688285, expected=34.300000\n",
      "predicted=34.348876, expected=34.050000\n",
      "predicted=34.101028, expected=33.870000\n",
      "predicted=33.813822, expected=32.920000\n",
      "predicted=32.984329, expected=33.440000\n",
      "predicted=33.439630, expected=33.020000\n",
      "predicted=33.004247, expected=32.620000\n",
      "predicted=32.640142, expected=32.590000\n",
      "predicted=32.643091, expected=33.140000\n",
      "predicted=33.063204, expected=32.700000\n",
      "predicted=32.711252, expected=32.860000\n",
      "predicted=32.890942, expected=32.780000\n",
      "predicted=32.781360, expected=33.750000\n",
      "predicted=33.667587, expected=33.620000\n",
      "predicted=33.622516, expected=34.530000\n",
      "predicted=34.502404, expected=34.900000\n",
      "predicted=34.885867, expected=34.310000\n",
      "predicted=34.304061, expected=33.060000\n",
      "predicted=33.173081, expected=33.510000\n",
      "predicted=33.466331, expected=33.360000\n",
      "predicted=33.284502, expected=33.180000\n",
      "predicted=33.191223, expected=34.960000\n",
      "predicted=34.939903, expected=36.060000\n",
      "predicted=35.932356, expected=33.200000\n",
      "predicted=33.360649, expected=33.290000\n",
      "predicted=33.439769, expected=31.980000\n",
      "predicted=31.908805, expected=30.860000\n",
      "predicted=30.810607, expected=30.660000\n",
      "predicted=30.789058, expected=30.910000\n",
      "predicted=30.825277, expected=31.860000\n",
      "predicted=31.826802, expected=32.050000\n",
      "predicted=32.067432, expected=30.870000\n",
      "predicted=30.961074, expected=30.260000\n",
      "predicted=30.333432, expected=31.230000\n",
      "predicted=31.122113, expected=31.780000\n",
      "predicted=31.667078, expected=31.500000\n",
      "predicted=31.559789, expected=32.660000\n",
      "predicted=32.677229, expected=33.840000\n",
      "predicted=33.715190, expected=37.220000\n",
      "predicted=37.026611, expected=36.960000\n",
      "predicted=36.970333, expected=36.750000\n",
      "predicted=36.837429, expected=35.870000\n",
      "predicted=35.949479, expected=34.370000\n",
      "predicted=34.289626, expected=33.870000\n",
      "predicted=33.906862, expected=34.250000\n",
      "predicted=34.183870, expected=35.140000\n",
      "predicted=35.070477, expected=33.620000\n",
      "predicted=33.733704, expected=35.180000\n",
      "predicted=35.194915, expected=34.970000\n",
      "predicted=34.906664, expected=33.920000\n",
      "predicted=33.930472, expected=33.420000\n",
      "predicted=33.573316, expected=33.090000\n",
      "predicted=33.006664, expected=33.250000\n",
      "predicted=33.212752, expected=32.730000\n",
      "predicted=32.772844, expected=32.920000\n",
      "predicted=32.937268, expected=34.010000\n",
      "predicted=33.955184, expected=33.410000\n",
      "predicted=33.392896, expected=31.230000\n",
      "predicted=31.403543, expected=31.240000\n",
      "predicted=31.291884, expected=32.420000\n",
      "predicted=32.232375, expected=31.970000\n",
      "predicted=31.925880, expected=31.880000\n",
      "predicted=32.024379, expected=31.910000\n",
      "predicted=31.927221, expected=31.430000\n",
      "predicted=31.378212, expected=31.920000\n",
      "predicted=31.922839, expected=31.020000\n",
      "predicted=31.039195, expected=31.090000\n",
      "predicted=31.102046, expected=30.380000\n",
      "predicted=30.419491, expected=29.260000\n",
      "predicted=29.279616, expected=28.930000\n",
      "predicted=28.991544, expected=29.940000\n",
      "predicted=29.840968, expected=28.920000\n",
      "predicted=28.932390, expected=28.270000\n",
      "predicted=28.390509, expected=27.850000\n",
      "predicted=27.896492, expected=27.500000\n",
      "predicted=27.428188, expected=28.220000\n",
      "predicted=28.205921, expected=28.210000\n",
      "predicted=28.196952, expected=27.810000\n",
      "predicted=27.853484, expected=27.890000\n",
      "predicted=27.926834, expected=27.970000\n",
      "predicted=27.914851, expected=28.560000\n",
      "predicted=28.516243, expected=30.940000\n",
      "predicted=30.830775, expected=31.100000\n",
      "predicted=31.046451, expected=31.940000\n",
      "predicted=31.970312, expected=30.710000\n",
      "predicted=30.788837, expected=31.310000\n",
      "predicted=31.223646, expected=31.410000\n",
      "predicted=31.369915, expected=30.340000\n",
      "predicted=30.327467, expected=29.610000\n",
      "predicted=29.741756, expected=29.510000\n",
      "predicted=29.473361, expected=30.260000\n",
      "predicted=30.167359, expected=30.190000\n",
      "predicted=30.197005, expected=30.760000\n",
      "predicted=30.781151, expected=32.440000\n",
      "predicted=32.366329, expected=32.730000\n",
      "predicted=32.651731, expected=31.860000\n",
      "predicted=31.955515, expected=32.010000\n",
      "predicted=32.048295, expected=31.560000\n",
      "predicted=31.480529, expected=34.760000\n",
      "predicted=34.580239, expected=34.720000\n",
      "predicted=34.674867, expected=33.640000\n",
      "predicted=33.755596, expected=33.070000\n",
      "predicted=33.229057, expected=31.570000\n",
      "predicted=31.475040, expected=32.350000\n",
      "predicted=32.301155, expected=32.700000\n",
      "predicted=32.653958, expected=32.720000\n",
      "predicted=32.711821, expected=32.730000\n",
      "predicted=32.823939, expected=31.760000\n",
      "predicted=31.776931, expected=30.220000\n",
      "predicted=30.296943, expected=29.780000\n",
      "predicted=29.806622, expected=29.290000\n",
      "predicted=29.250896, expected=29.780000\n",
      "predicted=29.753753, expected=29.870000\n",
      "predicted=29.894206, expected=30.340000\n",
      "predicted=30.330595, expected=30.190000\n",
      "predicted=30.219524, expected=29.030000\n",
      "predicted=29.076608, expected=30.360000\n",
      "predicted=30.324671, expected=29.760000\n",
      "predicted=29.696273, expected=30.430000\n",
      "predicted=30.418018, expected=29.890000\n",
      "predicted=29.968472, expected=28.610000\n",
      "predicted=28.620540, expected=28.620000\n",
      "predicted=28.676076, expected=30.020000\n",
      "predicted=29.869673, expected=30.280000\n",
      "predicted=30.219330, expected=29.380000\n",
      "predicted=29.506802, expected=29.760000\n",
      "predicted=29.803692, expected=29.950000\n",
      "predicted=29.847565, expected=29.640000\n",
      "predicted=29.619245, expected=29.250000\n",
      "predicted=29.327419, expected=28.100000\n",
      "predicted=28.139177, expected=28.460000\n",
      "predicted=28.438292, expected=28.050000\n",
      "predicted=28.028911, expected=27.370000\n",
      "predicted=27.402646, expected=27.080000\n",
      "predicted=27.155739, expected=26.600000\n",
      "predicted=26.579126, expected=26.860000\n",
      "predicted=26.845955, expected=25.840000\n",
      "predicted=25.886778, expected=25.710000\n",
      "predicted=25.741789, expected=25.530000\n",
      "predicted=25.537851, expected=24.690000\n",
      "predicted=24.685437, expected=26.410000\n",
      "predicted=26.379876, expected=27.410000\n",
      "predicted=27.294631, expected=27.290000\n",
      "predicted=27.297279, expected=27.380000\n",
      "predicted=27.484711, expected=25.920000\n",
      "predicted=25.928913, expected=26.060000\n",
      "predicted=26.037397, expected=25.480000\n",
      "predicted=25.468116, expected=25.290000\n",
      "predicted=25.267493, expected=25.490000\n",
      "predicted=25.533350, expected=24.170000\n",
      "predicted=24.195395, expected=23.910000\n",
      "predicted=23.974093, expected=24.970000\n",
      "predicted=24.899025, expected=25.510000\n",
      "predicted=25.401788, expected=25.760000\n",
      "predicted=25.809544, expected=25.460000\n",
      "predicted=25.517192, expected=26.280000\n",
      "predicted=26.216776, expected=26.860000\n",
      "predicted=26.782303, expected=26.670000\n",
      "predicted=26.662241, expected=26.360000\n",
      "predicted=26.424930, expected=27.100000\n",
      "predicted=27.041311, expected=27.590000\n",
      "predicted=27.504653, expected=27.860000\n",
      "predicted=27.849969, expected=27.470000\n",
      "predicted=27.523853, expected=27.280000\n",
      "predicted=27.280875, expected=28.010000\n",
      "predicted=27.950232, expected=29.330000\n",
      "predicted=29.217464, expected=30.860000\n",
      "predicted=30.783064, expected=31.100000\n",
      "predicted=31.110831, expected=30.470000\n",
      "predicted=30.533251, expected=31.930000\n",
      "predicted=31.861929, expected=32.110000\n",
      "predicted=31.984678, expected=31.760000\n",
      "predicted=31.778968, expected=31.610000\n",
      "predicted=31.694040, expected=31.220000\n",
      "predicted=31.168994, expected=33.900000\n",
      "predicted=33.757426, expected=32.190000\n",
      "predicted=32.204097, expected=31.460000\n",
      "predicted=31.598878, expected=31.510000\n",
      "predicted=31.566766, expected=31.710000\n",
      "predicted=31.511583, expected=30.570000\n",
      "predicted=30.671552, expected=30.110000\n",
      "predicted=30.193892, expected=30.340000\n",
      "predicted=30.309027, expected=30.230000\n",
      "predicted=30.172692, expected=30.190000\n",
      "predicted=30.233569, expected=29.630000\n",
      "predicted=29.676751, expected=29.510000\n",
      "predicted=29.510562, expected=29.370000\n",
      "predicted=29.363884, expected=30.010000\n",
      "predicted=29.961511, expected=30.170000\n",
      "predicted=30.159945, expected=30.300000\n",
      "predicted=30.303823, expected=29.510000\n",
      "predicted=29.568015, expected=29.490000\n",
      "predicted=29.485387, expected=28.710000\n",
      "predicted=28.718653, expected=28.050000\n",
      "predicted=28.067295, expected=28.400000\n",
      "predicted=28.408097, expected=28.670000\n",
      "predicted=28.605792, expected=28.260000\n",
      "predicted=28.293343, expected=27.520000\n",
      "predicted=27.605959, expected=28.280000\n",
      "predicted=28.238305, expected=27.650000\n",
      "predicted=27.613794, expected=27.270000\n",
      "predicted=27.315934, expected=27.220000\n",
      "predicted=27.263532, expected=27.660000\n",
      "predicted=27.574322, expected=30.280000\n",
      "predicted=30.156155, expected=29.250000\n",
      "predicted=29.257437, expected=29.710000\n",
      "predicted=29.791881, expected=29.670000\n",
      "predicted=29.682426, expected=29.110000\n",
      "predicted=29.002247, expected=28.980000\n",
      "predicted=29.051840, expected=28.010000\n",
      "predicted=28.018690, expected=26.630000\n",
      "predicted=26.696983, expected=26.300000\n",
      "predicted=26.339068, expected=25.690000\n",
      "predicted=25.663958, expected=24.710000\n",
      "predicted=24.761053, expected=24.790000\n",
      "predicted=24.839065, expected=24.790000\n",
      "predicted=24.753924, expected=24.650000\n",
      "predicted=24.652725, expected=25.560000\n",
      "predicted=25.559761, expected=25.760000\n",
      "predicted=25.716024, expected=26.410000\n",
      "predicted=26.389533, expected=26.810000\n",
      "predicted=26.806836, expected=26.360000\n",
      "predicted=26.349589, expected=25.860000\n",
      "predicted=25.908961, expected=25.510000\n",
      "predicted=25.503710, expected=26.340000\n",
      "predicted=26.260627, expected=26.550000\n",
      "predicted=26.511521, expected=26.760000\n",
      "predicted=26.774175, expected=26.740000\n",
      "predicted=26.774442, expected=26.280000\n",
      "predicted=26.272112, expected=25.870000\n",
      "predicted=25.891206, expected=25.370000\n",
      "predicted=25.376147, expected=25.210000\n",
      "predicted=25.201493, expected=26.000000\n",
      "predicted=25.956762, expected=26.690000\n",
      "predicted=26.633244, expected=26.360000\n",
      "predicted=26.392244, expected=26.670000\n",
      "predicted=26.705011, expected=25.710000\n",
      "predicted=25.718160, expected=25.880000\n",
      "predicted=25.858684, expected=25.010000\n",
      "predicted=25.039240, expected=24.870000\n",
      "predicted=24.856647, expected=25.840000\n",
      "predicted=25.815717, expected=27.220000\n",
      "predicted=27.091571, expected=27.220000\n",
      "predicted=27.241754, expected=26.910000\n",
      "predicted=26.988360, expected=28.030000\n",
      "predicted=27.974721, expected=26.610000\n",
      "predicted=26.576274, expected=25.710000\n",
      "predicted=25.802731, expected=26.570000\n",
      "predicted=26.552272, expected=26.040000\n",
      "predicted=25.927270, expected=25.310000\n",
      "predicted=25.413346, expected=24.910000\n",
      "predicted=24.990103, expected=24.330000\n",
      "predicted=24.289729, expected=24.370000\n",
      "predicted=24.369424, expected=24.210000\n",
      "predicted=24.216817, expected=23.280000\n",
      "predicted=23.324932, expected=22.930000\n",
      "predicted=22.985409, expected=23.170000\n",
      "predicted=23.130270, expected=22.590000\n",
      "predicted=22.578008, expected=22.490000\n",
      "predicted=22.540533, expected=22.440000\n",
      "predicted=22.445136, expected=21.790000\n",
      "predicted=21.786754, expected=21.590000\n",
      "predicted=21.630366, expected=22.710000\n",
      "predicted=22.641495, expected=23.170000\n",
      "predicted=23.094423, expected=23.220000\n",
      "predicted=23.253784, expected=23.480000\n",
      "predicted=23.512246, expected=22.740000\n",
      "predicted=22.727148, expected=22.210000\n",
      "predicted=22.234864, expected=22.360000\n",
      "predicted=22.344740, expected=22.440000\n",
      "predicted=22.380889, expected=22.810000\n",
      "predicted=22.806946, expected=22.460000\n",
      "predicted=22.491080, expected=22.930000\n",
      "predicted=22.915764, expected=22.930000\n",
      "predicted=22.909818, expected=21.580000\n",
      "predicted=21.624367, expected=20.810000\n",
      "predicted=20.900831, expected=22.460000\n",
      "predicted=22.338013, expected=23.240000\n",
      "predicted=23.099824, expected=23.370000\n",
      "predicted=23.421518, expected=23.710000\n",
      "predicted=23.784409, expected=24.510000\n",
      "predicted=24.410085, expected=24.540000\n",
      "predicted=24.491552, expected=24.690000\n",
      "predicted=24.701503, expected=24.520000\n",
      "predicted=24.526253, expected=24.630000\n",
      "predicted=24.592888, expected=24.810000\n",
      "predicted=24.791548, expected=24.760000\n",
      "predicted=24.744125, expected=24.260000\n",
      "predicted=24.294433, expected=24.480000\n",
      "predicted=24.474999, expected=24.320000\n",
      "predicted=24.293896, expected=24.720000\n",
      "predicted=24.694048, expected=24.520000\n",
      "predicted=24.537886, expected=24.100000\n",
      "predicted=24.115614, expected=23.860000\n",
      "predicted=23.888475, expected=24.180000\n",
      "predicted=24.130883, expected=23.550000\n",
      "predicted=23.557097, expected=23.240000\n",
      "predicted=23.284738, expected=22.640000\n",
      "predicted=22.672365, expected=22.580000\n",
      "predicted=22.551958, expected=22.000000\n",
      "predicted=22.026029, expected=21.540000\n",
      "predicted=21.565293, expected=21.790000\n",
      "predicted=21.792689, expected=22.150000\n",
      "predicted=22.095473, expected=21.930000\n",
      "predicted=21.945197, expected=21.310000\n",
      "predicted=21.375012, expected=21.090000\n",
      "predicted=21.102123, expected=20.660000\n",
      "predicted=20.640763, expected=21.360000\n",
      "predicted=21.318306, expected=21.610000\n",
      "predicted=21.584881, expected=21.660000\n",
      "predicted=21.662008, expected=21.860000\n",
      "predicted=21.887949, expected=21.540000\n",
      "predicted=21.521217, expected=21.700000\n",
      "predicted=21.689803, expected=21.340000\n",
      "predicted=21.341507, expected=21.670000\n",
      "predicted=21.643842, expected=21.420000\n",
      "predicted=21.426390, expected=21.540000\n",
      "predicted=21.526195, expected=21.310000\n",
      "predicted=21.329881, expected=21.260000\n",
      "predicted=21.243550, expected=20.890000\n",
      "predicted=20.910489, expected=20.670000\n",
      "predicted=20.670117, expected=20.490000\n",
      "predicted=20.496372, expected=20.210000\n",
      "predicted=20.207366, expected=20.460000\n",
      "predicted=20.454210, expected=20.520000\n",
      "predicted=20.502049, expected=21.090000\n",
      "predicted=21.062440, expected=20.610000\n",
      "predicted=20.633076, expected=20.400000\n",
      "predicted=20.420914, expected=20.490000\n",
      "predicted=20.484605, expected=20.410000\n",
      "predicted=20.361363, expected=19.840000\n",
      "predicted=19.880093, expected=19.540000\n",
      "predicted=19.571002, expected=19.380000\n",
      "predicted=19.366897, expected=20.280000\n",
      "predicted=20.215193, expected=20.660000\n",
      "predicted=20.626572, expected=20.260000\n",
      "predicted=20.295825, expected=19.890000\n",
      "predicted=19.952278, expected=20.330000\n",
      "predicted=20.272025, expected=19.920000\n",
      "predicted=19.884527, expected=19.940000\n",
      "predicted=19.961827, expected=19.760000\n",
      "predicted=19.778884, expected=19.980000\n",
      "predicted=19.937505, expected=19.780000\n",
      "predicted=19.791366, expected=19.700000\n",
      "predicted=19.702145, expected=19.390000\n",
      "predicted=19.408565, expected=19.330000\n",
      "predicted=19.316493, expected=18.560000\n",
      "predicted=18.589309, expected=18.220000\n",
      "predicted=18.241398, expected=18.170000\n",
      "predicted=18.165409, expected=18.260000\n",
      "predicted=18.222767, expected=18.420000\n",
      "predicted=18.426866, expected=17.620000\n",
      "predicted=17.662714, expected=17.790000\n",
      "predicted=17.803504, expected=18.010000\n",
      "predicted=17.967798, expected=18.250000\n",
      "predicted=18.202102, expected=17.920000\n",
      "predicted=17.968474, expected=18.610000\n",
      "predicted=18.583718, expected=18.240000\n",
      "predicted=18.221824, expected=18.450000\n",
      "predicted=18.441007, expected=17.820000\n",
      "predicted=17.861269, expected=17.980000\n",
      "predicted=17.945886, expected=17.660000\n",
      "predicted=17.669650, expected=17.910000\n",
      "predicted=17.876811, expected=17.360000\n",
      "predicted=17.396577, expected=16.810000\n",
      "predicted=16.832915, expected=16.610000\n",
      "predicted=16.632070, expected=16.310000\n",
      "predicted=16.281081, expected=16.850000\n",
      "predicted=16.828697, expected=17.180000\n",
      "predicted=17.155169, expected=17.320000\n",
      "predicted=17.313240, expected=17.250000\n",
      "predicted=17.279575, expected=16.770000\n",
      "predicted=16.776006, expected=17.220000\n",
      "predicted=17.190884, expected=17.040000\n",
      "predicted=17.009681, expected=16.770000\n",
      "predicted=16.781800, expected=17.090000\n",
      "predicted=17.103177, expected=17.760000\n",
      "predicted=17.681824, expected=18.040000\n",
      "predicted=18.012656, expected=18.110000\n",
      "predicted=18.131397, expected=17.440000\n",
      "predicted=17.474371, expected=17.840000\n",
      "predicted=17.810546, expected=18.570000\n",
      "predicted=18.491069, expected=18.230000\n",
      "predicted=18.210475, expected=18.230000\n",
      "predicted=18.291233, expected=18.890000\n",
      "predicted=18.845642, expected=18.940000\n",
      "predicted=18.873335, expected=18.830000\n",
      "predicted=18.859710, expected=18.690000\n",
      "predicted=18.711972, expected=18.530000\n",
      "predicted=18.503562, expected=18.430000\n",
      "predicted=18.422944, expected=17.820000\n",
      "predicted=17.841040, expected=17.670000\n",
      "predicted=17.684198, expected=17.960000\n",
      "predicted=17.931385, expected=18.020000\n",
      "predicted=17.986990, expected=18.050000\n",
      "predicted=18.070756, expected=17.790000\n",
      "predicted=17.810747, expected=17.820000\n",
      "predicted=17.807713, expected=17.340000\n",
      "predicted=17.346170, expected=16.850000\n",
      "predicted=16.870034, expected=16.510000\n",
      "predicted=16.530410, expected=16.730000\n",
      "predicted=16.693459, expected=16.440000\n",
      "predicted=16.439863, expected=16.590000\n",
      "predicted=16.601025, expected=15.920000\n",
      "predicted=15.953936, expected=16.020000\n",
      "predicted=16.010704, expected=16.790000\n",
      "predicted=16.743474, expected=16.940000\n",
      "predicted=16.884726, expected=16.650000\n",
      "predicted=16.705450, expected=16.660000\n",
      "predicted=16.680175, expected=16.660000\n",
      "predicted=16.615151, expected=16.460000\n",
      "predicted=16.447947, expected=16.160000\n",
      "predicted=16.184848, expected=15.660000\n",
      "predicted=15.677794, expected=15.180000\n",
      "predicted=15.193942, expected=15.360000\n",
      "predicted=15.343309, expected=15.390000\n",
      "predicted=15.363673, expected=15.260000\n",
      "predicted=15.271613, expected=15.110000\n",
      "predicted=15.139688, expected=15.110000\n",
      "predicted=15.095698, expected=14.600000\n",
      "predicted=14.607567, expected=14.480000\n",
      "predicted=14.492169, expected=14.510000\n",
      "predicted=14.497127, expected=14.300000\n",
      "predicted=14.284377, expected=14.740000\n",
      "predicted=14.736968, expected=13.780000\n",
      "predicted=13.807235, expected=13.630000\n",
      "predicted=13.657326, expected=13.330000\n",
      "predicted=13.335942, expected=13.320000\n",
      "predicted=13.270335, expected=12.920000\n",
      "predicted=12.961421, expected=12.660000\n",
      "predicted=12.672146, expected=12.280000\n",
      "predicted=12.298545, expected=12.310000\n",
      "predicted=12.292440, expected=12.610000\n",
      "predicted=12.587681, expected=12.490000\n",
      "predicted=12.482157, expected=12.440000\n",
      "predicted=12.462782, expected=11.970000\n",
      "predicted=11.988975, expected=11.790000\n",
      "predicted=11.783997, expected=11.970000\n",
      "predicted=11.949378, expected=11.490000\n",
      "predicted=11.484526, expected=11.380000\n",
      "predicted=11.409180, expected=11.900000\n",
      "predicted=11.870370, expected=11.940000\n",
      "predicted=11.893349, expected=11.880000\n",
      "predicted=11.905613, expected=11.660000\n"
     ]
    }
   ],
   "source": [
    "for t in range(len(test)):\n",
    "\tmodel = ARIMA(history, order=(5,1,0))\n",
    "\tmodel_fit = model.fit(disp=0)\n",
    "\toutput = model_fit.forecast()\n",
    "\tyhat = output[0]\n",
    "\tpredictions.append(yhat)\n",
    "\tobs = test[t]\n",
    "\thistory.append(obs)\n",
    "\tprint('predicted=%f, expected=%f' % (yhat, obs))"
   ]
  },
  {
   "cell_type": "code",
   "execution_count": 198,
   "metadata": {},
   "outputs": [
    {
     "name": "stdout",
     "output_type": "stream",
     "text": [
      "Test MSE: 0.727\n"
     ]
    }
   ],
   "source": [
    "error = mean_squared_error(test, predictions)\n",
    "print('Test MSE: %.3f' % error)\n"
   ]
  },
  {
   "cell_type": "code",
   "execution_count": 199,
   "metadata": {},
   "outputs": [],
   "source": [
    "# plot"
   ]
  },
  {
   "cell_type": "code",
   "execution_count": 200,
   "metadata": {},
   "outputs": [],
   "source": [
    "from matplotlib import pyplot"
   ]
  },
  {
   "cell_type": "code",
   "execution_count": 202,
   "metadata": {},
   "outputs": [
    {
     "data": {
      "image/png": "[encoded data removed]",
      "text/plain": [
       "<Figure size 432x288 with 1 Axes>"
      ]
     },
     "metadata": {
      "needs_background": "light"
     },
     "output_type": "display_data"
    }
   ],
   "source": [
    "pyplot.plot(test)\n",
    "pyplot.show()"
   ]
  },
  {
   "cell_type": "code",
   "execution_count": 203,
   "metadata": {},
   "outputs": [
    {
     "data": {
      "image/png": "[encoded data removed]",
      "text/plain": [
       "<Figure size 432x288 with 1 Axes>"
      ]
     },
     "metadata": {
      "needs_background": "light"
     },
     "output_type": "display_data"
    }
   ],
   "source": [
    "pyplot.plot(predictions, color='red')\n",
    "pyplot.show()"
   ]
  },
  {
   "cell_type": "code",
   "execution_count": null,
   "metadata": {},
   "outputs": [],
   "source": []
  },
  {
   "cell_type": "code",
   "execution_count": null,
   "metadata": {},
   "outputs": [],
   "source": []
  },
  {
   "cell_type": "code",
   "execution_count": null,
   "metadata": {},
   "outputs": [],
   "source": []
  },
  {
   "cell_type": "code",
   "execution_count": null,
   "metadata": {},
   "outputs": [],
   "source": []
  },
  {
   "cell_type": "code",
   "execution_count": null,
   "metadata": {},
   "outputs": [],
   "source": []
  },
  {
   "cell_type": "code",
   "execution_count": null,
   "metadata": {},
   "outputs": [],
   "source": []
  },
  {
   "cell_type": "code",
   "execution_count": null,
   "metadata": {},
   "outputs": [],
   "source": []
  },
  {
   "cell_type": "code",
   "execution_count": null,
   "metadata": {},
   "outputs": [],
   "source": []
  },
  {
   "cell_type": "code",
   "execution_count": null,
   "metadata": {},
   "outputs": [],
   "source": []
  },
  {
   "cell_type": "code",
   "execution_count": null,
   "metadata": {},
   "outputs": [],
   "source": []
  },
  {
   "cell_type": "code",
   "execution_count": null,
   "metadata": {},
   "outputs": [],
   "source": []
  },
  {
   "cell_type": "code",
   "execution_count": null,
   "metadata": {},
   "outputs": [],
   "source": []
  },
  {
   "cell_type": "code",
   "execution_count": null,
   "metadata": {},
   "outputs": [],
   "source": []
  },
  {
   "cell_type": "code",
   "execution_count": null,
   "metadata": {},
   "outputs": [],
   "source": []
  },
  {
   "cell_type": "code",
   "execution_count": null,
   "metadata": {},
   "outputs": [],
   "source": []
  },
  {
   "cell_type": "code",
   "execution_count": null,
   "metadata": {},
   "outputs": [],
   "source": []
  },
  {
   "cell_type": "code",
   "execution_count": null,
   "metadata": {},
   "outputs": [],
   "source": []
  },
  {
   "cell_type": "code",
   "execution_count": null,
   "metadata": {},
   "outputs": [],
   "source": []
  },
  {
   "cell_type": "code",
   "execution_count": null,
   "metadata": {},
   "outputs": [],
   "source": []
  },
  {
   "cell_type": "code",
   "execution_count": null,
   "metadata": {},
   "outputs": [],
   "source": []
  }
 ],
 "metadata": {
  "kernelspec": {
   "display_name": "Python 3",
   "language": "python",
   "name": "python3"
  },
  "language_info": {
   "codemirror_mode": {
    "name": "ipython",
    "version": 3
   },
   "file_extension": ".py",
   "mimetype": "text/x-python",
   "name": "python",
   "nbconvert_exporter": "python",
   "pygments_lexer": "ipython3",
   "version": "3.6.7"
  }
 },
 "nbformat": 4,
 "nbformat_minor": 2
}
